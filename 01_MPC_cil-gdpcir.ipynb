{
 "cells": [
  {
   "cell_type": "code",
   "execution_count": 1,
   "id": "de8b0cb3-6059-43c0-87ee-cb343c13e526",
   "metadata": {},
   "outputs": [],
   "source": [
    "import planetary_computer\n",
    "import pystac_client\n",
    "import pystac\n",
    "\n",
    "import numpy as np\n",
    "import xarray as xr\n",
    "import pandas as pd\n",
    "\n",
    "import collections\n",
    "import fsspec\n",
    "import requests\n",
    "\n",
    "import getpass\n",
    "import azure.storage.blob\n",
    "import zarr"
   ]
  },
  {
   "cell_type": "markdown",
   "id": "1230b7c1-1a5c-44ef-be0b-92a672666307",
   "metadata": {},
   "source": [
    "### Preliminaries"
   ]
  },
  {
   "cell_type": "code",
   "execution_count": 2,
   "id": "6f9e1ed9-efe8-4743-b2f5-7e56b75fcca9",
   "metadata": {},
   "outputs": [
    {
     "name": "stdin",
     "output_type": "stream",
     "text": [
      " ········\n"
     ]
    }
   ],
   "source": [
    "######################\n",
    "# Azure blob storage\n",
    "######################\n",
    "# connection string\n",
    "connection_string = getpass.getpass()\n",
    "\n",
    "    \n",
    "# format storage\n",
    "container_client = azure.storage.blob.ContainerClient.from_connection_string(\n",
    "    connection_string, container_name=\"mpctransfer\")"
   ]
  },
  {
   "cell_type": "code",
   "execution_count": 3,
   "id": "b16c220d-323f-4b12-954f-acfe608b96a5",
   "metadata": {},
   "outputs": [],
   "source": [
    "###################\n",
    "# Models\n",
    "###################\n",
    "\n",
    "# nex models with all SSPs and variables (tas, pr)\n",
    "complete_nex_models = ['ACCESS-CM2', 'ACCESS-ESM1-5', 'CanESM5', 'CMCC-ESM2', \n",
    "                       'CNRM-CM6-1', 'CNRM-ESM2-1', 'EC-Earth3',\n",
    "                       'EC-Earth3-Veg-LR', 'FGOALS-g3', 'GFDL-CM4', 'GFDL-ESM4', \n",
    "                       'GISS-E2-1-G', 'INM-CM4-8', 'INM-CM5-0',\n",
    "                       'IPSL-CM6A-LR', 'KACE-1-0-G', 'MIROC-ES2L', 'MIROC6',\n",
    "                       'MPI-ESM1-2-HR', 'MPI-ESM1-2-LR', 'MRI-ESM2-0', 'NorESM2-LM',\n",
    "                       'NorESM2-MM', 'TaiESM1', 'UKESM1-0-LL']\n",
    "\n",
    "# cil models with all SSPs and variables\n",
    "complete_cil_models = [\"INM-CM4-8\", \"INM-CM5-0\", \"BCC-CSM2-MR\", \"CMCC-CM2-SR5\",\n",
    "              \"CMCC-ESM2\", \"MIROC-ES2L\", \"MIROC6\", \"UKESM1-0-LL\", \"MPI-ESM1-2-LR\",\n",
    "              \"NorESM2-LM\", \"NorESM2-MM\", \"GFDL-ESM4\", \"EC-Earth3\", \n",
    "              \"EC-Earth3-Veg-LR\", \"EC-Earth3-Veg\", \"CanESM5\"]\n",
    "\n",
    "# intersection of models\n",
    "models = np.intersect1d(complete_cil_models, complete_nex_models)"
   ]
  },
  {
   "cell_type": "code",
   "execution_count": 4,
   "id": "27086cd8-9a0c-49bd-871c-8150e4831f3b",
   "metadata": {},
   "outputs": [],
   "source": [
    "#################\n",
    "# Data access\n",
    "#################\n",
    "\n",
    "# Complete catalog\n",
    "catalog = pystac_client.Client.open(\"https://planetarycomputer.microsoft.com/api/stac/v1\")\n",
    "\n",
    "# function to grab all variables and SSPs for singe model\n",
    "def grab_model(model_id):\n",
    "    # Search across all licences in CIL-GDPCIR\n",
    "    search = catalog.search(\n",
    "        collections=[\"cil-gdpcir-cc0\", \"cil-gdpcir-cc-by\", \"cil-gdpcir-cc-by-sa\"],\n",
    "        query={\"cmip6:source_id\" : {\"eq\": model_id},\n",
    "               \"cmip6:experiment_id\": {\"neq\": \"historical\"}} # omit historical\n",
    "    )\n",
    "    ensemble = search.get_all_items()\n",
    "    \n",
    "    # grab all into one dataset\n",
    "    ds_ssp = []\n",
    "\n",
    "    for item in ensemble:\n",
    "        signed = planetary_computer.sign(item)\n",
    "        ds_vars = []\n",
    "        for variable_id in ['tasmin', 'tasmax', 'pr']:\n",
    "            asset = signed.assets[variable_id]\n",
    "            ds_tmp = xr.open_dataset(asset.href, **asset.extra_fields[\"xarray:open_kwargs\"])\n",
    "            ds_tmp = ds_tmp.assign_coords(ssp = ds_tmp.attrs['experiment_id'])\n",
    "            ds_vars.append(ds_tmp)\n",
    "        ds_ssp.append(xr.merge(ds_vars))\n",
    "\n",
    "    ds_out = xr.concat(ds_ssp, dim='ssp')\n",
    "    \n",
    "    return ds_out"
   ]
  },
  {
   "cell_type": "code",
   "execution_count": 5,
   "id": "32e5f78d-502d-4d43-bd80-01802ed831c4",
   "metadata": {},
   "outputs": [
    {
     "name": "stdout",
     "output_type": "stream",
     "text": [
      "https://pccompute.westeurope.cloudapp.azure.com/compute/services/dask-gateway/clusters/prod.60476285c227409a8ab8124c4bb49e39/status\n"
     ]
    }
   ],
   "source": [
    "#########\n",
    "# Dask\n",
    "#########\n",
    "import dask_gateway\n",
    "gateway = dask_gateway.Gateway()\n",
    "\n",
    "# cluster options\n",
    "cluster_options = gateway.cluster_options()\n",
    "cluster_options[\"worker_memory\"] = 16\n",
    "cluster_options[\"worker_cores\"] = 1\n",
    "\n",
    "# start cluster\n",
    "cluster = gateway.new_cluster(cluster_options)\n",
    "client = cluster.get_client()\n",
    "cluster.scale(40)\n",
    "\n",
    "# dashboard link\n",
    "print(cluster.dashboard_link)"
   ]
  },
  {
   "cell_type": "markdown",
   "id": "f0c0a62c-d15c-490c-ba23-1f2ac34842a1",
   "metadata": {},
   "source": [
    "## Annual averages"
   ]
  },
  {
   "cell_type": "code",
   "execution_count": null,
   "id": "1805de98-8992-446f-ad3c-aa2ea3102244",
   "metadata": {},
   "outputs": [],
   "source": [
    "# loop through models: RUNTIME IS AROUND 15 MINS PER MODEL WITH 40 DASK WORKERS\n",
    "for model in models[3:]:\n",
    "    # load data (lazy)\n",
    "    ds = grab_model(model)\n",
    "    \n",
    "    # storage options\n",
    "    compressor = zarr.Blosc(cname='zstd', clevel=3)\n",
    "    encoding = {vname: {'compressor': compressor} for vname in ds.data_vars} \n",
    "    \n",
    "    azure_prefix = 'cil-gdpcir/annual_avgs/' + model\n",
    "    store = zarr.ABSStore(client=container_client, prefix=azure_prefix)\n",
    "    \n",
    "    # compute and store\n",
    "    ds['tasavg'] = (ds['tasmax'] + ds['tasmin']) / 2.\n",
    "    ds_final = ds.resample(time='1Y').mean()\n",
    "\n",
    "    ds_final.to_zarr(store=store, encoding=encoding, consolidated=True, mode='w')\n",
    "    print(model)"
   ]
  },
  {
   "cell_type": "markdown",
   "id": "fb97d939-4949-4517-bb29-e3577dd27ff9",
   "metadata": {},
   "source": [
    "## Annual maxima"
   ]
  },
  {
   "cell_type": "code",
   "execution_count": null,
   "id": "e16cd9d9-6bfd-4e5a-9b88-5e4c8e411889",
   "metadata": {},
   "outputs": [],
   "source": [
    "# loop through models: RUNTIME IS AROUND 15 MINS PER MODEL WITH 40 DASK WORKERS\n",
    "for model in models:\n",
    "    # load data (lazy)\n",
    "    ds = grab_model(model)\n",
    "\n",
    "    # storage options\n",
    "    compressor = zarr.Blosc(cname='zstd', clevel=3)\n",
    "    encoding = {vname: {'compressor': compressor} for vname in ds.data_vars} \n",
    "    \n",
    "    azure_prefix = 'cil-gdpcir/annual_maxs/' + model\n",
    "    store = zarr.ABSStore(client=container_client, prefix=azure_prefix)\n",
    "    \n",
    "    # compute and store\n",
    "    ds['tasavg'] = (ds['tasmax'] + ds['tasmin']) / 2.\n",
    "    ds_final = ds.resample(time='1Y').max()\n",
    "\n",
    "    ds_final.to_zarr(store=store, encoding=encoding, consolidated=True, mode='w')\n",
    "    print(model)"
   ]
  },
  {
   "cell_type": "code",
   "execution_count": null,
   "id": "41b370ac-0217-4af4-8f53-cbfe935bd7c6",
   "metadata": {},
   "outputs": [],
   "source": []
  },
  {
   "cell_type": "code",
   "execution_count": null,
   "id": "af98ef75-8f9a-4877-a399-cf613d7cf37a",
   "metadata": {},
   "outputs": [],
   "source": []
  },
  {
   "cell_type": "code",
   "execution_count": null,
   "id": "4b1828d7-6307-4a6e-8b08-3b9f282c5fcb",
   "metadata": {},
   "outputs": [],
   "source": []
  },
  {
   "cell_type": "code",
   "execution_count": null,
   "id": "74fc5768-e957-42fb-a131-56bde87f28e7",
   "metadata": {},
   "outputs": [],
   "source": []
  },
  {
   "cell_type": "code",
   "execution_count": null,
   "id": "104716c6-e0a4-4b40-b303-c9c26761aff6",
   "metadata": {},
   "outputs": [],
   "source": []
  },
  {
   "cell_type": "code",
   "execution_count": null,
   "id": "904b9479-33ba-41a1-9ab3-a9e803a27670",
   "metadata": {},
   "outputs": [],
   "source": []
  },
  {
   "cell_type": "code",
   "execution_count": null,
   "id": "7ab4a3c0-8e43-4b9b-99e0-2f449bd2cb2e",
   "metadata": {},
   "outputs": [],
   "source": []
  },
  {
   "cell_type": "code",
   "execution_count": 18,
   "id": "f78c9ef4-fbeb-4fbf-ad88-fd2429d3faba",
   "metadata": {},
   "outputs": [],
   "source": [
    "##################################################\n",
    "# OLD: all SSPs and variables\n",
    "##################################################"
   ]
  },
  {
   "cell_type": "code",
   "execution_count": 19,
   "id": "2b601f01-23c2-45de-8e84-04a7e7756694",
   "metadata": {},
   "outputs": [],
   "source": [
    "# def grab_ssp_var(ssp_id, variable_id):\n",
    "#     # Search across all licences in CIL-GDPCIR\n",
    "#     search = catalog.search(\n",
    "#         collections=[\"cil-gdpcir-cc0\", \"cil-gdpcir-cc-by\", \"cil-gdpcir-cc-by-sa\"],\n",
    "#         query={\"cmip6:experiment_id\": {\"eq\": ssp_id}},\n",
    "#     )\n",
    "#     # How many models?\n",
    "#     ensemble = search.get_all_items()\n",
    "    \n",
    "#     # grab all into one dataset\n",
    "#     datasets_by_model = []\n",
    "\n",
    "#     for item in tqdm(ensemble[:2]):\n",
    "#         try:\n",
    "#             signed = planetary_computer.sign(item)\n",
    "#             asset = signed.assets[variable_id]\n",
    "#             datasets_by_model.append(\n",
    "#                 xr.open_dataset(asset.href, **asset.extra_fields[\"xarray:open_kwargs\"])\n",
    "#             )\n",
    "#         except: \n",
    "#             print(variable_id + ' error for ' + item.id)\n",
    "\n",
    "#     all_datasets = xr.concat(\n",
    "#         datasets_by_model,\n",
    "#         dim=pd.Index([ds.attrs[\"source_id\"] for ds in datasets_by_model], name=\"model\"),\n",
    "#         combine_attrs=\"drop_conflicts\",\n",
    "#     )\n",
    "    \n",
    "#     return all_datasets"
   ]
  },
  {
   "cell_type": "code",
   "execution_count": 20,
   "id": "cf884f53-e332-4768-8384-c276ab6319cd",
   "metadata": {},
   "outputs": [],
   "source": [
    "# ssp_id = 'ssp126'\n",
    "\n",
    "# # tmin, tmax, prcp\n",
    "# tmax_ssp126 = grab_ssp_var(ssp_id, 'tasmax')\n",
    "# tmin_ssp126 = grab_ssp_var(ssp_id, 'tasmin')\n",
    "# prcp_ssp126 = grab_ssp_var(ssp_id, 'pr')\n",
    "\n",
    "# # merge and assign ssp coordinate\n",
    "# ssp126_all = xr.merge([tmax_ssp126, tmin_ssp126, prcp_ssp126])\n",
    "# ssp126_all = ssp126_all.assign_coords(ssp=ssp_id)"
   ]
  },
  {
   "cell_type": "code",
   "execution_count": null,
   "id": "32c0c1e0-5924-4317-bf31-8bd7462399fc",
   "metadata": {},
   "outputs": [],
   "source": []
  }
 ],
 "metadata": {
  "kernelspec": {
   "display_name": "Python [conda env:notebook] *",
   "language": "python",
   "name": "conda-env-notebook-py"
  },
  "language_info": {
   "codemirror_mode": {
    "name": "ipython",
    "version": 3
   },
   "file_extension": ".py",
   "mimetype": "text/x-python",
   "name": "python",
   "nbconvert_exporter": "python",
   "pygments_lexer": "ipython3",
   "version": "3.10.6"
  }
 },
 "nbformat": 4,
 "nbformat_minor": 5
}
