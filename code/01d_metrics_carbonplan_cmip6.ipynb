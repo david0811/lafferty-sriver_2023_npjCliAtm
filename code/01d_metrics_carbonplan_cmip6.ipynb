{
 "cells": [
  {
   "cell_type": "code",
   "execution_count": 1,
   "id": "2bd1c55d-e48a-4013-97b2-824b364d5519",
   "metadata": {},
   "outputs": [],
   "source": [
    "import numpy as np\n",
    "import xarray as xr\n",
    "import os\n",
    "import intake"
   ]
  },
  {
   "cell_type": "markdown",
   "id": "4aff5d25-e6cb-4d3c-a820-9a5e3530a0fd",
   "metadata": {},
   "source": [
    "### Preliminaries"
   ]
  },
  {
   "cell_type": "code",
   "execution_count": 2,
   "id": "17d1cefa-db23-4729-904d-5fe7a1c11265",
   "metadata": {},
   "outputs": [],
   "source": [
    "###############################\n",
    "# Set paths\n",
    "# UPDATE THIS FOR REPRODUCTION\n",
    "###############################\n",
    "out_path = '/gpfs/group/kaf26/default/dcl5300/lafferty-sriver_inprep_tbh_DATA/metrics/carbonplan/'"
   ]
  },
  {
   "cell_type": "code",
   "execution_count": 3,
   "id": "312b096e-ca75-4c12-9e9d-a3cc1f00b550",
   "metadata": {},
   "outputs": [],
   "source": [
    "###################\n",
    "# Models\n",
    "###################\n",
    "from utils import gardsv_ssp_dict, deepsdbc_ssp_dict, gardsv_var_dict, deepsdbc_var_dict"
   ]
  },
  {
   "cell_type": "code",
   "execution_count": 5,
   "id": "e625df91-f1f4-4a6e-ab24-7d80d529cdd7",
   "metadata": {},
   "outputs": [],
   "source": [
    "#################\n",
    "# Data access\n",
    "#################\n",
    "\n",
    "# Complete catalog\n",
    "cat = intake.open_esm_datastore(\n",
    "    \"https://cpdataeuwest.blob.core.windows.net/cp-cmip/version1/catalogs/global-downscaled-cmip6.json\"\n",
    ")\n",
    "\n",
    "# function to grab all variables and SSPs for singe model/method\n",
    "def grab_model(method, model, scenarios, var_ids):\n",
    "    # Search catalogue for method, model, all SSPs, all vars\n",
    "    dsets = cat.search(\n",
    "        method=method,\n",
    "        source_id=model,\n",
    "        experiment_id=scenarios,\n",
    "        variable_id=var_ids\n",
    "    ).to_dataset_dict()\n",
    "    \n",
    "    # Concat along SSP dimension and return\n",
    "    ds_ssp = []\n",
    "    for key in list(dsets.keys()):\n",
    "        ds_tmp = dsets[key]\n",
    "        ds_tmp = ds_tmp.assign_coords(ssp = ds_tmp.attrs['intake_esm_attrs:experiment_id'])\n",
    "        ds_tmp = ds_tmp.drop('member_id')\n",
    "        ds_ssp.append(ds_tmp)\n",
    "        \n",
    "    return xr.concat(ds_ssp, dim='ssp')"
   ]
  },
  {
   "cell_type": "code",
   "execution_count": 6,
   "id": "43646670-0b36-4867-befa-938c5d78fe09",
   "metadata": {},
   "outputs": [],
   "source": [
    "##################\n",
    "# Convert units\n",
    "##################\n",
    "def convert_units(ds):\n",
    "    if 'tasmax' in ds.data_vars and ds.tasmax.attrs['units'] == 'K':\n",
    "        ds['tasmax'] = ds['tasmax'] - 273.15\n",
    "    if 'tasmin' in ds.data_vars and ds.tasmin.attrs['units'] == 'K':\n",
    "        ds['tasmin'] = ds['tasmin'] - 273.15\n",
    "    if 'pr' in ds.data_vars and ds.pr.attrs['units'] == 'kg m-2 s-1':\n",
    "        ds['pr'] = ds['pr'] * 86400"
   ]
  },
  {
   "cell_type": "code",
   "execution_count": null,
   "id": "e1e5339a-9d2b-45ff-bebe-5ca5c0987c66",
   "metadata": {},
   "outputs": [
    {
     "data": {
      "text/html": [
       "<div>\n",
       "    <div style=\"width: 24px; height: 24px; background-color: #e1e1e1; border: 3px solid #9D9D9D; border-radius: 5px; position: absolute;\"> </div>\n",
       "    <div style=\"margin-left: 48px;\">\n",
       "        <h3 style=\"margin-bottom: 0px;\">Client</h3>\n",
       "        <p style=\"color: #9D9D9D; margin-bottom: 0px;\">Client-7c84dfdb-59ff-11ed-9ba2-34e6d79eac6a</p>\n",
       "        <table style=\"width: 100%; text-align: left;\">\n",
       "\n",
       "        <tr>\n",
       "        \n",
       "            <td style=\"text-align: left;\"><strong>Connection method:</strong> Cluster object</td>\n",
       "            <td style=\"text-align: left;\"><strong>Cluster type:</strong> dask_jobqueue.PBSCluster</td>\n",
       "        \n",
       "        </tr>\n",
       "\n",
       "        \n",
       "            <tr>\n",
       "                <td style=\"text-align: left;\">\n",
       "                    <strong>Dashboard: </strong> <a href=\"/proxy/8787/status\" target=\"_blank\">/proxy/8787/status</a>\n",
       "                </td>\n",
       "                <td style=\"text-align: left;\"></td>\n",
       "            </tr>\n",
       "        \n",
       "\n",
       "        </table>\n",
       "\n",
       "        \n",
       "            <details>\n",
       "            <summary style=\"margin-bottom: 20px;\"><h3 style=\"display: inline;\">Cluster Info</h3></summary>\n",
       "            <div class=\"jp-RenderedHTMLCommon jp-RenderedHTML jp-mod-trusted jp-OutputArea-output\">\n",
       "    <div style=\"width: 24px; height: 24px; background-color: #e1e1e1; border: 3px solid #9D9D9D; border-radius: 5px; position: absolute;\">\n",
       "    </div>\n",
       "    <div style=\"margin-left: 48px;\">\n",
       "        <h3 style=\"margin-bottom: 0px; margin-top: 0px;\">PBSCluster</h3>\n",
       "        <p style=\"color: #9D9D9D; margin-bottom: 0px;\">635a827c</p>\n",
       "        <table style=\"width: 100%; text-align: left;\">\n",
       "            <tr>\n",
       "                <td style=\"text-align: left;\">\n",
       "                    <strong>Dashboard:</strong> <a href=\"/proxy/8787/status\" target=\"_blank\">/proxy/8787/status</a>\n",
       "                </td>\n",
       "                <td style=\"text-align: left;\">\n",
       "                    <strong>Workers:</strong> 0\n",
       "                </td>\n",
       "            </tr>\n",
       "            <tr>\n",
       "                <td style=\"text-align: left;\">\n",
       "                    <strong>Total threads:</strong> 0\n",
       "                </td>\n",
       "                <td style=\"text-align: left;\">\n",
       "                    <strong>Total memory:</strong> 0 B\n",
       "                </td>\n",
       "            </tr>\n",
       "            \n",
       "        </table>\n",
       "\n",
       "        <details>\n",
       "            <summary style=\"margin-bottom: 20px;\">\n",
       "                <h3 style=\"display: inline;\">Scheduler Info</h3>\n",
       "            </summary>\n",
       "\n",
       "            <div style=\"\">\n",
       "    <div>\n",
       "        <div style=\"width: 24px; height: 24px; background-color: #FFF7E5; border: 3px solid #FF6132; border-radius: 5px; position: absolute;\"> </div>\n",
       "        <div style=\"margin-left: 48px;\">\n",
       "            <h3 style=\"margin-bottom: 0px;\">Scheduler</h3>\n",
       "            <p style=\"color: #9D9D9D; margin-bottom: 0px;\">Scheduler-51225e18-b78f-4618-821e-1ef056eaef57</p>\n",
       "            <table style=\"width: 100%; text-align: left;\">\n",
       "                <tr>\n",
       "                    <td style=\"text-align: left;\">\n",
       "                        <strong>Comm:</strong> tcp://10.102.201.238:37264\n",
       "                    </td>\n",
       "                    <td style=\"text-align: left;\">\n",
       "                        <strong>Workers:</strong> 0\n",
       "                    </td>\n",
       "                </tr>\n",
       "                <tr>\n",
       "                    <td style=\"text-align: left;\">\n",
       "                        <strong>Dashboard:</strong> <a href=\"/proxy/8787/status\" target=\"_blank\">/proxy/8787/status</a>\n",
       "                    </td>\n",
       "                    <td style=\"text-align: left;\">\n",
       "                        <strong>Total threads:</strong> 0\n",
       "                    </td>\n",
       "                </tr>\n",
       "                <tr>\n",
       "                    <td style=\"text-align: left;\">\n",
       "                        <strong>Started:</strong> Just now\n",
       "                    </td>\n",
       "                    <td style=\"text-align: left;\">\n",
       "                        <strong>Total memory:</strong> 0 B\n",
       "                    </td>\n",
       "                </tr>\n",
       "            </table>\n",
       "        </div>\n",
       "    </div>\n",
       "\n",
       "    <details style=\"margin-left: 48px;\">\n",
       "        <summary style=\"margin-bottom: 20px;\">\n",
       "            <h3 style=\"display: inline;\">Workers</h3>\n",
       "        </summary>\n",
       "\n",
       "        \n",
       "\n",
       "    </details>\n",
       "</div>\n",
       "\n",
       "        </details>\n",
       "    </div>\n",
       "</div>\n",
       "            </details>\n",
       "        \n",
       "\n",
       "    </div>\n",
       "</div>"
      ],
      "text/plain": [
       "<Client: 'tcp://10.102.201.238:37264' processes=0 threads=0, memory=0 B>"
      ]
     },
     "execution_count": 7,
     "metadata": {},
     "output_type": "execute_result"
    }
   ],
   "source": [
    "############\n",
    "# Dask\n",
    "############\n",
    "from dask_jobqueue import PBSCluster\n",
    "cluster = PBSCluster(cores=1, resource_spec = 'pmem=20GB', memory='20GB',\n",
    "                     env_extra= ['#PBS -l feature=rhel7'], walltime = '00:30:00')\n",
    "\n",
    "cluster.scale(jobs=20)  # ask for jobs\n",
    "\n",
    "from dask.distributed import Client\n",
    "client = Client(cluster)\n",
    "\n",
    "client"
   ]
  },
  {
   "cell_type": "markdown",
   "id": "88f473d5-0691-4884-b884-5dabc666dd8b",
   "metadata": {},
   "source": [
    "# GARD-SV"
   ]
  },
  {
   "cell_type": "code",
   "execution_count": 9,
   "id": "35083b41-15a4-4873-9f8c-d365d6c830c1",
   "metadata": {},
   "outputs": [],
   "source": [
    "# Preliminaries\n",
    "method = 'GARD-SV'\n",
    "models = list(gardsv_ssp_dict.keys())\n",
    "\n",
    "assert models == list(gardsv_var_dict.keys())"
   ]
  },
  {
   "cell_type": "markdown",
   "id": "a158586d-5246-49ce-a0ff-54d3fa1b5b00",
   "metadata": {},
   "source": [
    "## Simple metrics"
   ]
  },
  {
   "cell_type": "code",
   "execution_count": null,
   "id": "1aabe2fa-96f3-4739-a173-e960ae82235d",
   "metadata": {},
   "outputs": [
    {
     "name": "stdout",
     "output_type": "stream",
     "text": [
      "\n",
      "--> The keys in the returned dictionary of datasets are constructed as follows:\n",
      "\t'activity_id.institution_id.source_id.experiment_id.timescale.method'\n"
     ]
    },
    {
     "data": {
      "text/html": [
       "\n",
       "<style>\n",
       "    /* Turns off some styling */\n",
       "    progress {\n",
       "        /* gets rid of default border in Firefox and Opera. */\n",
       "        border: none;\n",
       "        /* Needs to be in here for Safari polyfill so background images work as expected. */\n",
       "        background-size: auto;\n",
       "    }\n",
       "    progress:not([value]), progress:not([value])::-webkit-progress-bar {\n",
       "        background: repeating-linear-gradient(45deg, #7e7e7e, #7e7e7e 10px, #5c5c5c 10px, #5c5c5c 20px);\n",
       "    }\n",
       "    .progress-bar-interrupted, .progress-bar-interrupted::-webkit-progress-bar {\n",
       "        background: #F44336;\n",
       "    }\n",
       "</style>\n"
      ],
      "text/plain": [
       "<IPython.core.display.HTML object>"
      ]
     },
     "metadata": {},
     "output_type": "display_data"
    },
    {
     "data": {
      "text/html": [
       "\n",
       "    <div>\n",
       "      <progress value='3' class='' max='3' style='width:300px; height:20px; vertical-align: middle;'></progress>\n",
       "      100.00% [3/3 00:53&lt;00:00]\n",
       "    </div>\n",
       "    "
      ],
      "text/plain": [
       "<IPython.core.display.HTML object>"
      ]
     },
     "metadata": {},
     "output_type": "display_data"
    }
   ],
   "source": [
    "## Annual avgs and maxs\n",
    "for model in models[:1]:\n",
    "    # Check if already done\n",
    "    annual_avgs_done = os.path.isfile(out_path + 'annual_avgs/' + model + '.nc')\n",
    "    annual_maxs_done = os.path.isfile(out_path + 'annual_maxs/' + model + '.nc')\n",
    "    if annual_avgs_done and annual_maxs_done:\n",
    "        print(model + ' already done')\n",
    "    else:\n",
    "        # Grab model\n",
    "        ds = grab_model(method, model, gardsv_ssp_dict[model], gardsv_var_dict[model])\n",
    "        ds = ds.persist()\n",
    "\n",
    "        # Annual averages\n",
    "        if not annual_avgs_done:\n",
    "            ds_out = ds.resample(time='1Y').mean().compute()\n",
    "            ds_out = convert_units(ds_out)\n",
    "            ds_out.to_netcdf(out_path + 'annual_avgs/' + model + '.nc')\n",
    "            print(model + ' annual avgs done')\n",
    "    \n",
    "        # Annual maxs\n",
    "        if not annual_maxs_done:\n",
    "            ds_out = ds.resample(time='1Y').max().compute()\n",
    "            ds_out = convert_units(ds_out)\n",
    "            ds_out.to_netcdf(out_path + 'annual_maxs/' + model + '.nc')\n",
    "            print(model + ' annual maxs done')"
   ]
  },
  {
   "cell_type": "code",
   "execution_count": null,
   "id": "b5ea77d6-b9dc-4f81-bea0-cf3261f56107",
   "metadata": {},
   "outputs": [],
   "source": []
  }
 ],
 "metadata": {
  "kernelspec": {
   "display_name": "Python 3 (ipykernel)",
   "language": "python",
   "name": "python3"
  },
  "language_info": {
   "codemirror_mode": {
    "name": "ipython",
    "version": 3
   },
   "file_extension": ".py",
   "mimetype": "text/x-python",
   "name": "python",
   "nbconvert_exporter": "python",
   "pygments_lexer": "ipython3",
   "version": "3.10.6"
  }
 },
 "nbformat": 4,
 "nbformat_minor": 5
}
