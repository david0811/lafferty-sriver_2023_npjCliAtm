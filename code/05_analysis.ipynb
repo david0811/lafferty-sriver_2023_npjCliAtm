{
 "cells": [
  {
   "cell_type": "code",
   "execution_count": 1,
   "id": "57743a7e-8b68-4544-8378-ac3e453f96bb",
   "metadata": {},
   "outputs": [],
   "source": [
    "import numpy as np\n",
    "import xarray as xr\n",
    "import dask\n",
    "import warnings"
   ]
  },
  {
   "cell_type": "markdown",
   "id": "b53f3946-bb89-4535-a1e8-ae9b6ccaed61",
   "metadata": {
    "tags": []
   },
   "source": [
    "### Preliminaries"
   ]
  },
  {
   "cell_type": "code",
   "execution_count": 2,
   "id": "662dfbf5-61c7-48f6-884d-ce058d6a7512",
   "metadata": {},
   "outputs": [],
   "source": [
    "###############################\n",
    "# Set paths\n",
    "# UPDATE THIS FOR REPRODUCTION\n",
    "###############################\n",
    "nex_in = '/gpfs/group/kaf26/default/dcl5300/lafferty-sriver_inprep_tbh_DATA/metrics/nex-gddp/'\n",
    "cil_in = '/gpfs/group/kaf26/default/dcl5300/lafferty-sriver_inprep_tbh_DATA/metrics/cil-gdpcir/'\n",
    "isi_in = '/gpfs/group/kaf26/default/dcl5300/lafferty-sriver_inprep_tbh_DATA/metrics/isimip3b/regridded/conservative/'\n",
    "cbp_in = '/gpfs/group/kaf26/default/dcl5300/lafferty-sriver_inprep_tbh_DATA/metrics/carbonplan/'\n",
    "\n",
    "out_path = '/gpfs/group/kaf26/default/dcl5300/lafferty-sriver_inprep_tbh_DATA/results/'\n",
    "poly_path = '/gpfs/group/kaf26/default/dcl5300/lafferty-sriver_inprep_tbh_DATA/forced_response_polynomial/'"
   ]
  },
  {
   "cell_type": "code",
   "execution_count": 3,
   "id": "7c50de8a-ea1e-4a9d-ad37-c522111ff76f",
   "metadata": {},
   "outputs": [],
   "source": [
    "###################\n",
    "# Models\n",
    "###################\n",
    "from utils import nex_ssp_dict, cil_ssp_dict, isimip_ssp_dict, gardsv_ssp_dict, gardsv_var_dict, deepsdbc_dict\n",
    "\n",
    "nex_models = list(nex_ssp_dict.keys())\n",
    "cil_models = list(cil_ssp_dict.keys())\n",
    "isi_models = list(isimip_ssp_dict.keys())\n",
    "cbp_gard_models = list(gardsv_ssp_dict.keys())\n",
    "cbp_gard_precip_models = [model for model in cbp_gard_models if 'pr' in gardsv_var_dict[model]]\n",
    "cbp_deep_models = list(deepsdbc_dict.keys())"
   ]
  },
  {
   "cell_type": "code",
   "execution_count": 4,
   "id": "2ad43d2c-5706-40fa-a2b4-9e1f24782a08",
   "metadata": {},
   "outputs": [],
   "source": [
    "#######################\n",
    "# Land mask (from NEX)\n",
    "#######################\n",
    "land_mask = xr.open_dataset('/gpfs/group/kaf26/default/dcl5300/lafferty-sriver_inprep_tbh_DATA/metrics/nex-gddp/avg/CanESM5.nc')\n",
    "land_mask = land_mask.isel(ssp=0, time=0).tas.isnull()\n",
    "land_mask['lon'] = np.where(land_mask['lon'] > 180, land_mask['lon'] - 360, land_mask['lon'])\n",
    "land_mask = land_mask.sortby('lon')"
   ]
  },
  {
   "cell_type": "code",
   "execution_count": 5,
   "id": "6a1c47d5-5fb5-4648-aac2-a86cbb62fdeb",
   "metadata": {},
   "outputs": [
    {
     "data": {
      "text/html": [
       "<div>\n",
       "    <div style=\"width: 24px; height: 24px; background-color: #e1e1e1; border: 3px solid #9D9D9D; border-radius: 5px; position: absolute;\"> </div>\n",
       "    <div style=\"margin-left: 48px;\">\n",
       "        <h3 style=\"margin-bottom: 0px;\">Client</h3>\n",
       "        <p style=\"color: #9D9D9D; margin-bottom: 0px;\">Client-663c202f-74ba-11ed-b7f7-34e6d79eac5d</p>\n",
       "        <table style=\"width: 100%; text-align: left;\">\n",
       "\n",
       "        <tr>\n",
       "        \n",
       "            <td style=\"text-align: left;\"><strong>Connection method:</strong> Cluster object</td>\n",
       "            <td style=\"text-align: left;\"><strong>Cluster type:</strong> dask_jobqueue.PBSCluster</td>\n",
       "        \n",
       "        </tr>\n",
       "\n",
       "        \n",
       "            <tr>\n",
       "                <td style=\"text-align: left;\">\n",
       "                    <strong>Dashboard: </strong> <a href=\"/proxy/8787/status\" target=\"_blank\">/proxy/8787/status</a>\n",
       "                </td>\n",
       "                <td style=\"text-align: left;\"></td>\n",
       "            </tr>\n",
       "        \n",
       "\n",
       "        </table>\n",
       "\n",
       "        \n",
       "            <button style=\"margin-bottom: 12px;\" data-commandlinker-command=\"dask:populate-and-launch-layout\" data-commandlinker-args='{\"url\": \"/proxy/8787/status\" }'>\n",
       "                Launch dashboard in JupyterLab\n",
       "            </button>\n",
       "        \n",
       "\n",
       "        \n",
       "            <details>\n",
       "            <summary style=\"margin-bottom: 20px;\"><h3 style=\"display: inline;\">Cluster Info</h3></summary>\n",
       "            <div class=\"jp-RenderedHTMLCommon jp-RenderedHTML jp-mod-trusted jp-OutputArea-output\">\n",
       "    <div style=\"width: 24px; height: 24px; background-color: #e1e1e1; border: 3px solid #9D9D9D; border-radius: 5px; position: absolute;\">\n",
       "    </div>\n",
       "    <div style=\"margin-left: 48px;\">\n",
       "        <h3 style=\"margin-bottom: 0px; margin-top: 0px;\">PBSCluster</h3>\n",
       "        <p style=\"color: #9D9D9D; margin-bottom: 0px;\">e513ef81</p>\n",
       "        <table style=\"width: 100%; text-align: left;\">\n",
       "            <tr>\n",
       "                <td style=\"text-align: left;\">\n",
       "                    <strong>Dashboard:</strong> <a href=\"/proxy/8787/status\" target=\"_blank\">/proxy/8787/status</a>\n",
       "                </td>\n",
       "                <td style=\"text-align: left;\">\n",
       "                    <strong>Workers:</strong> 0\n",
       "                </td>\n",
       "            </tr>\n",
       "            <tr>\n",
       "                <td style=\"text-align: left;\">\n",
       "                    <strong>Total threads:</strong> 0\n",
       "                </td>\n",
       "                <td style=\"text-align: left;\">\n",
       "                    <strong>Total memory:</strong> 0 B\n",
       "                </td>\n",
       "            </tr>\n",
       "            \n",
       "        </table>\n",
       "\n",
       "        <details>\n",
       "            <summary style=\"margin-bottom: 20px;\">\n",
       "                <h3 style=\"display: inline;\">Scheduler Info</h3>\n",
       "            </summary>\n",
       "\n",
       "            <div style=\"\">\n",
       "    <div>\n",
       "        <div style=\"width: 24px; height: 24px; background-color: #FFF7E5; border: 3px solid #FF6132; border-radius: 5px; position: absolute;\"> </div>\n",
       "        <div style=\"margin-left: 48px;\">\n",
       "            <h3 style=\"margin-bottom: 0px;\">Scheduler</h3>\n",
       "            <p style=\"color: #9D9D9D; margin-bottom: 0px;\">Scheduler-9f082d0b-7393-4ecf-8634-ee7b93604730</p>\n",
       "            <table style=\"width: 100%; text-align: left;\">\n",
       "                <tr>\n",
       "                    <td style=\"text-align: left;\">\n",
       "                        <strong>Comm:</strong> tcp://10.102.201.237:35213\n",
       "                    </td>\n",
       "                    <td style=\"text-align: left;\">\n",
       "                        <strong>Workers:</strong> 0\n",
       "                    </td>\n",
       "                </tr>\n",
       "                <tr>\n",
       "                    <td style=\"text-align: left;\">\n",
       "                        <strong>Dashboard:</strong> <a href=\"/proxy/8787/status\" target=\"_blank\">/proxy/8787/status</a>\n",
       "                    </td>\n",
       "                    <td style=\"text-align: left;\">\n",
       "                        <strong>Total threads:</strong> 0\n",
       "                    </td>\n",
       "                </tr>\n",
       "                <tr>\n",
       "                    <td style=\"text-align: left;\">\n",
       "                        <strong>Started:</strong> Just now\n",
       "                    </td>\n",
       "                    <td style=\"text-align: left;\">\n",
       "                        <strong>Total memory:</strong> 0 B\n",
       "                    </td>\n",
       "                </tr>\n",
       "            </table>\n",
       "        </div>\n",
       "    </div>\n",
       "\n",
       "    <details style=\"margin-left: 48px;\">\n",
       "        <summary style=\"margin-bottom: 20px;\">\n",
       "            <h3 style=\"display: inline;\">Workers</h3>\n",
       "        </summary>\n",
       "\n",
       "        \n",
       "\n",
       "    </details>\n",
       "</div>\n",
       "\n",
       "        </details>\n",
       "    </div>\n",
       "</div>\n",
       "            </details>\n",
       "        \n",
       "\n",
       "    </div>\n",
       "</div>"
      ],
      "text/plain": [
       "<Client: 'tcp://10.102.201.237:35213' processes=0 threads=0, memory=0 B>"
      ]
     },
     "execution_count": 5,
     "metadata": {},
     "output_type": "execute_result"
    }
   ],
   "source": [
    "############\n",
    "# Dask\n",
    "############\n",
    "from dask_jobqueue import PBSCluster\n",
    "\n",
    "cluster = PBSCluster(cores=1, memory='50GB', resource_spec='pmem=50GB',\n",
    "                     # account='open',\n",
    "                     worker_extra_args=['#PBS -l feature=rhel7'], \n",
    "                     walltime='02:00:00')\n",
    "\n",
    "cluster.scale(jobs=30)  # ask for jobs\n",
    "\n",
    "from dask.distributed import Client\n",
    "client = Client(cluster)\n",
    "\n",
    "client"
   ]
  },
  {
   "cell_type": "markdown",
   "id": "75f20699-35c7-4dbf-a8ad-ad73115785df",
   "metadata": {
    "jp-MarkdownHeadingCollapsed": true,
    "tags": []
   },
   "source": [
    "# Total uncertainty"
   ]
  },
  {
   "cell_type": "markdown",
   "id": "6099faaa-43cd-4e3b-a541-8cf3dfb66379",
   "metadata": {
    "jp-MarkdownHeadingCollapsed": true,
    "tags": []
   },
   "source": [
    "### Function definition"
   ]
  },
  {
   "cell_type": "code",
   "execution_count": 7,
   "id": "4a2c6626-3157-4eee-9847-5df9e74f459b",
   "metadata": {},
   "outputs": [],
   "source": [
    "#######################################################################\n",
    "# Total uncertainty: variance across all models, scenarios, ensembles \n",
    "#######################################################################\n",
    "def uc_total(nex_in, nex_models, \n",
    "             cil_in, cil_models, \n",
    "             isi_in, isi_models, \n",
    "             cbp_in, cbp_gard_models, cbp_deep_models,\n",
    "             land_mask,\n",
    "             metric, submetric,\n",
    "             year):\n",
    "    \"\"\"\n",
    "    Reads in all models, ssps, and calculates the total uncertainty (variance across\n",
    "    all model, ssp, ensemble dimensions) for a given year (and possibly DataArray).\n",
    "    For metrics like 'hot' where there are several sub-metrics based on different \n",
    "    thresholds and/or observational data, we need to select a specific DataArray\n",
    "    to keep the memory manageable.\n",
    "    \"\"\"\n",
    "    # Subfunction for general preprocessing of each model/ensemble\n",
    "    def read_and_process(ensemble, path_in, model, year, metric, submetric):\n",
    "        # Read netcdf or zarr\n",
    "        if ensemble in ['NEX', 'ISIMIP', 'GARD-SV']:\n",
    "            ds = xr.open_dataset(path_in + metric + '/' + model + '.nc')\n",
    "        elif ensemble in ['CIL', 'DeepSD-BC']:\n",
    "            ds = xr.open_dataset(path_in + metric + '/' + model, engine='zarr')\n",
    "            \n",
    "        \n",
    "        # Select submetric if chosen\n",
    "        if submetric:\n",
    "            ds = ds[submetric]\n",
    "    \n",
    "        # Common preprocessing\n",
    "        ds['time'] = ds.indexes['time'].year\n",
    "        ds = ds.sel(time=year)\n",
    "        ds = ds.sortby('ssp')\n",
    "        ds = ds.assign_coords(ensemble = ensemble)\n",
    "        ds = ds.sel(lat=slice(-60, 90))\n",
    "        \n",
    "        # Add model dimension\n",
    "        if model[-6:] in ['tasmin', 'tasmax']:\n",
    "            model_str = model[:-7]\n",
    "        else:\n",
    "            model_str = model\n",
    "        ds = ds.assign_coords(model = model_str)\n",
    "        \n",
    "        # Fix lon to [-180,180]\n",
    "        if ds.lon.max() > 180:\n",
    "            ds['lon'] = np.where(ds['lon'] > 180, ds['lon'] - 360, ds['lon'])\n",
    "            ds = ds.sortby('lon')\n",
    "    \n",
    "        # Some models/methods are missing precip so fill with NaNs\n",
    "        if (metric in ['max', 'avg']) and ('pr' not in ds.data_vars):\n",
    "            ds['pr'] = xr.full_like(ds[list(ds.data_vars)[0]], np.nan)\n",
    "    \n",
    "        # Return\n",
    "        return ds\n",
    "\n",
    "    ######################\n",
    "    # Read all ensembles\n",
    "    ######################\n",
    "    # NEX-GDDP \n",
    "    ds_out = []\n",
    "    for model in nex_models:\n",
    "        ds_out.append(read_and_process('NEX', nex_in, model, year, metric, submetric))\n",
    "    ds_nex = xr.concat(ds_out, dim='model', fill_value=np.nan)\n",
    "\n",
    "    # CIL-GDPCIR\n",
    "    ds_out = []\n",
    "    for model in cil_models:\n",
    "        ds_out.append(read_and_process('CIL', cil_in, model, year, metric, submetric))\n",
    "    ds_cil = xr.concat(ds_out, dim='model', fill_value=np.nan)\n",
    "\n",
    "    # ISIMIP\n",
    "    ds_out = []\n",
    "    for model in isi_models:\n",
    "        ds_out.append(read_and_process('ISIMIP', isi_in, model, year, metric, submetric))\n",
    "    ds_isi = xr.concat(ds_out, dim='model', fill_value=np.nan)\n",
    "\n",
    "    # carbonplan: GARD-SV\n",
    "    ds_out = []\n",
    "    for model in cbp_gard_models:\n",
    "        ds_out.append(read_and_process('GARD-SV', cbp_in + '/regridded/conservative/GARD-SV/', model, year, metric, submetric))\n",
    "    ds_cbp_gard = xr.concat(ds_out, dim='model', fill_value=np.nan)\n",
    "    \n",
    "    # carbonplan: DeepSD-BC\n",
    "    ds_out = []\n",
    "    for model in cbp_deep_models:\n",
    "        ds_out.append(read_and_process('DeepSD-BC', cbp_in + 'native_grid/DeepSD-BC/', model, year, metric, submetric))\n",
    "    ds_cbp_deep = xr.concat(ds_out, dim='model', fill_value=np.nan)\n",
    "\n",
    "    ###########################\n",
    "    # Merge all and mask ocean\n",
    "    ###########################\n",
    "    ds = xr.concat([ds_nex, ds_cil, ds_isi, ds_cbp_gard, ds_cbp_deep],\n",
    "                       dim='ensemble', fill_value=np.nan)\n",
    "\n",
    "    # Mask out ocean points\n",
    "    ds = xr.where(land_mask, np.nan, ds)\n",
    "    \n",
    "    ##########################\n",
    "    # Uncertainty calculation\n",
    "    ##########################\n",
    "    ## Total uncertainty\n",
    "    with warnings.catch_warnings():\n",
    "        warnings.simplefilter(\"ignore\")\n",
    "        U_total_true = ds.var(dim=['ensemble', 'ssp', 'model']) # throws warning when all NaNs\n",
    "\n",
    "    U_total_true = U_total_true.assign_coords(uncertainty = 'total_true')\n",
    "    \n",
    "    return U_total_true"
   ]
  },
  {
   "cell_type": "markdown",
   "id": "3ae5b42a-fc3e-49d4-8763-7a7eb1840181",
   "metadata": {
    "jp-MarkdownHeadingCollapsed": true,
    "tags": []
   },
   "source": [
    "## Annual averages"
   ]
  },
  {
   "cell_type": "code",
   "execution_count": 10,
   "id": "6fb9a5cf-fef0-4b13-a893-c3abb8f8869f",
   "metadata": {},
   "outputs": [
    {
     "name": "stdout",
     "output_type": "stream",
     "text": [
      "CPU times: user 58.7 s, sys: 4.14 s, total: 1min 2s\n",
      "Wall time: 5min 32s\n"
     ]
    }
   ],
   "source": [
    "%%time\n",
    "\n",
    "metric = 'avg'\n",
    "\n",
    "# Dask delayed over years\n",
    "delayed_res = []\n",
    "for year in range(2015, 2100):\n",
    "    # Read all ensembles and compute total uncertainty\n",
    "    tmp_res = dask.delayed(uc_total)(nex_in, nex_models, \n",
    "                                     cil_in, cil_models, \n",
    "                                     isi_in, isi_models, \n",
    "                                     cbp_in, cbp_gard_models, cbp_deep_models,\n",
    "                                     land_mask,\n",
    "                                     metric, False,\n",
    "                                     year)\n",
    "    \n",
    "    # Append\n",
    "    delayed_res.append(tmp_res)\n",
    "    \n",
    "# Compute\n",
    "res = dask.compute(*delayed_res)\n",
    "\n",
    "# Merge and store\n",
    "ds_out = xr.concat(res, dim='time')\n",
    "ds_out.to_netcdf(out_path + 'total_uncertainty/' + metric + '.nc')"
   ]
  },
  {
   "cell_type": "markdown",
   "id": "404e3cdc-5cc0-4784-8f7e-afd5f64d8f3d",
   "metadata": {
    "jp-MarkdownHeadingCollapsed": true,
    "tags": []
   },
   "source": [
    "## 1-day maxs"
   ]
  },
  {
   "cell_type": "code",
   "execution_count": 11,
   "id": "3a42be14-76c5-45c6-af3e-b3c3ac35d50e",
   "metadata": {},
   "outputs": [
    {
     "name": "stdout",
     "output_type": "stream",
     "text": [
      "CPU times: user 58.8 s, sys: 3.85 s, total: 1min 2s\n",
      "Wall time: 5min 31s\n"
     ]
    }
   ],
   "source": [
    "%%time\n",
    "\n",
    "metric = 'max'\n",
    "\n",
    "# Dask delayed over years\n",
    "delayed_res = []\n",
    "for year in range(2015, 2100):\n",
    "    # Read all ensembles and compute total uncertainty\n",
    "    tmp_res = dask.delayed(uc_total)(nex_in, nex_models, \n",
    "                                     cil_in, cil_models, \n",
    "                                     isi_in, isi_models, \n",
    "                                     cbp_in, cbp_gard_models, cbp_deep_models,\n",
    "                                     land_mask,\n",
    "                                     metric, False,\n",
    "                                     year)\n",
    "    \n",
    "    # Append\n",
    "    delayed_res.append(tmp_res)\n",
    "    \n",
    "# Compute\n",
    "res = dask.compute(*delayed_res)\n",
    "\n",
    "# Merge and store\n",
    "ds_out = xr.concat(res, dim='time')\n",
    "ds_out.to_netcdf(out_path + 'total_uncertainty/' + metric +'.nc')"
   ]
  },
  {
   "cell_type": "markdown",
   "id": "c2c7da7f-ff91-4d97-8875-993a10c9a51e",
   "metadata": {
    "jp-MarkdownHeadingCollapsed": true,
    "tags": []
   },
   "source": [
    "## 5-day max (pr)"
   ]
  },
  {
   "cell_type": "code",
   "execution_count": 9,
   "id": "f1e3fad6-da49-4d22-8683-e48f26f2b166",
   "metadata": {},
   "outputs": [
    {
     "name": "stdout",
     "output_type": "stream",
     "text": [
      "CPU times: user 55.6 s, sys: 3.15 s, total: 58.7 s\n",
      "Wall time: 5min 15s\n"
     ]
    }
   ],
   "source": [
    "%%time\n",
    "\n",
    "metric = 'max5d'\n",
    "\n",
    "# Dask delayed over years\n",
    "delayed_res = []\n",
    "for year in range(2015, 2100):\n",
    "    # Read all ensembles and compute total uncertainty\n",
    "    tmp_res = dask.delayed(uc_total)(nex_in, nex_models, \n",
    "                                     cil_in, cil_models, \n",
    "                                     isi_in, isi_models, \n",
    "                                     cbp_in, cbp_gard_precip_models, cbp_deep_models,\n",
    "                                     land_mask,\n",
    "                                     metric, False,\n",
    "                                     year)\n",
    "    \n",
    "    # Append\n",
    "    delayed_res.append(tmp_res)\n",
    "    \n",
    "# Compute\n",
    "res = dask.compute(*delayed_res)\n",
    "\n",
    "# Merge and store\n",
    "ds_out = xr.concat(res, dim='time')\n",
    "ds_out.to_netcdf(out_path + 'total_uncertainty/' + metric +'.nc')"
   ]
  },
  {
   "cell_type": "markdown",
   "id": "6ef6a732-375d-4abd-aefe-810b447ab92c",
   "metadata": {
    "jp-MarkdownHeadingCollapsed": true,
    "tags": []
   },
   "source": [
    "## Dry days"
   ]
  },
  {
   "cell_type": "code",
   "execution_count": 7,
   "id": "39d8af44-d0b6-4149-9fae-54bde897d272",
   "metadata": {},
   "outputs": [
    {
     "name": "stdout",
     "output_type": "stream",
     "text": [
      "CPU times: user 1min 28s, sys: 8.53 s, total: 1min 37s\n",
      "Wall time: 10min 48s\n"
     ]
    }
   ],
   "source": [
    "%%time\n",
    "\n",
    "metric = 'dry'\n",
    "\n",
    "# Dask delayed over years\n",
    "delayed_res = []\n",
    "for year in range(2015, 2100):\n",
    "    # Read all ensembles and compute total uncertainty\n",
    "    tmp_res = dask.delayed(uc_total)(nex_in, nex_models, \n",
    "                                     cil_in, cil_models, \n",
    "                                     isi_in, isi_models, \n",
    "                                     cbp_in, cbp_gard_precip_models, cbp_deep_models,\n",
    "                                     land_mask,\n",
    "                                     metric, False,\n",
    "                                     year)\n",
    "    \n",
    "    # Append\n",
    "    delayed_res.append(tmp_res)\n",
    "    \n",
    "# Compute\n",
    "res = dask.compute(*delayed_res)\n",
    "\n",
    "# Merge and store\n",
    "ds_out = xr.concat(res, dim='time')\n",
    "ds_out.to_netcdf(out_path + 'total_uncertainty/' + metric +'.nc')"
   ]
  },
  {
   "cell_type": "markdown",
   "id": "c4014b48-519c-4546-be70-9f01b3401784",
   "metadata": {
    "jp-MarkdownHeadingCollapsed": true,
    "tags": []
   },
   "source": [
    "## Wet days"
   ]
  },
  {
   "cell_type": "code",
   "execution_count": 7,
   "id": "b2abd3c6-a8e8-42d4-9570-d731da1df337",
   "metadata": {},
   "outputs": [
    {
     "name": "stdout",
     "output_type": "stream",
     "text": [
      "CPU times: user 8.75 s, sys: 2.43 s, total: 11.2 s\n",
      "Wall time: 5min 5s\n"
     ]
    }
   ],
   "source": [
    "%%time\n",
    "# Wet days: 5yr RP\n",
    "metric = 'wet'\n",
    "submetric = ['pr_rp5gmfd_count', 'pr_rp5gmfd_streak']\n",
    "\n",
    "# Dask delayed over years\n",
    "delayed_res = []\n",
    "for year in range(2015, 2100):\n",
    "    # Read all ensembles and compute total uncertainty\n",
    "    tmp_res = dask.delayed(uc_total)(nex_in, nex_models, \n",
    "                                     cil_in, cil_models, \n",
    "                                     isi_in, isi_models, \n",
    "                                     cbp_in, cbp_gard_precip_models, cbp_deep_models,\n",
    "                                     land_mask,\n",
    "                                     metric, submetric,\n",
    "                                     year)\n",
    "    \n",
    "    # Append\n",
    "    delayed_res.append(tmp_res)\n",
    "    \n",
    "# Compute\n",
    "res = dask.compute(*delayed_res)\n",
    "\n",
    "# Merge and store\n",
    "ds_out = xr.concat(res, dim='time')\n",
    "ds_out.to_netcdf(out_path + 'total_uncertainty/' + metric + '_rp5gmfd.nc')"
   ]
  },
  {
   "cell_type": "markdown",
   "id": "1909cad3-30ab-440c-b89a-9ea138eae528",
   "metadata": {
    "jp-MarkdownHeadingCollapsed": true,
    "tags": []
   },
   "source": [
    "## Hot days"
   ]
  },
  {
   "cell_type": "code",
   "execution_count": 7,
   "id": "5fa52c48-19f3-466d-ab61-9b0b47f5691b",
   "metadata": {},
   "outputs": [
    {
     "name": "stdout",
     "output_type": "stream",
     "text": [
      "CPU times: user 47.6 s, sys: 3.48 s, total: 51.1 s\n",
      "Wall time: 5min 25s\n"
     ]
    }
   ],
   "source": [
    "%%time\n",
    "# Hot days: 5yr RP GMFD tasmin\n",
    "metric = 'hot'\n",
    "submetric = ['tasmin_rp5gmfd_count', 'tasmin_rp5gmfd_streak']\n",
    "submetric_var = 'tasmin'\n",
    "\n",
    "# Dask delayed over years\n",
    "delayed_res = []\n",
    "for year in range(2015, 2100):\n",
    "    # Read all ensembles and compute total uncertainty\n",
    "    tmp_res = dask.delayed(uc_total)(nex_in, [model + '_' + submetric_var for model in nex_models], \n",
    "                                     cil_in, cil_models, \n",
    "                                     isi_in, [model + '_' + submetric_var for model in isi_models], \n",
    "                                     cbp_in, cbp_gard_models, cbp_deep_models,\n",
    "                                     land_mask,\n",
    "                                     metric, submetric, \n",
    "                                     year)\n",
    "    \n",
    "    # Append\n",
    "    delayed_res.append(tmp_res)\n",
    "    \n",
    "# Compute\n",
    "res = dask.compute(*delayed_res)\n",
    "\n",
    "# Merge and store\n",
    "ds_out = xr.concat(res, dim='time')\n",
    "ds_out.to_netcdf(out_path + 'total_uncertainty/' + metric + '_' + submetric_var + '_rp5gmfd.nc')"
   ]
  },
  {
   "cell_type": "code",
   "execution_count": 7,
   "id": "e731cea0-36b1-4a66-9061-6a9a9c4e2023",
   "metadata": {},
   "outputs": [
    {
     "name": "stdout",
     "output_type": "stream",
     "text": [
      "CPU times: user 48.6 s, sys: 3.33 s, total: 51.9 s\n",
      "Wall time: 5min 58s\n"
     ]
    }
   ],
   "source": [
    "%%time\n",
    "# Hot days: tasmax 5yr GMFD RP\n",
    "metric = 'hot'\n",
    "submetric = ['tasmax_rp5gmfd_count', 'tasmax_rp5gmfd_streak']\n",
    "submetric_var = 'tasmax'\n",
    "\n",
    "# Dask delayed over years\n",
    "delayed_res = []\n",
    "for year in range(2015, 2100):\n",
    "    # Read all ensembles and compute total uncertainty\n",
    "    tmp_res = dask.delayed(uc_total)(nex_in, [model + '_' + submetric_var for model in nex_models], \n",
    "                                     cil_in, cil_models, \n",
    "                                     isi_in, [model + '_' + submetric_var for model in isi_models], \n",
    "                                     cbp_in, cbp_gard_models, cbp_deep_models,\n",
    "                                     land_mask,\n",
    "                                     metric, submetric, \n",
    "                                     year)\n",
    "    \n",
    "    # Append\n",
    "    delayed_res.append(tmp_res)\n",
    "    \n",
    "# Compute\n",
    "res = dask.compute(*delayed_res)\n",
    "\n",
    "# Merge and store\n",
    "ds_out = xr.concat(res, dim='time')\n",
    "ds_out.to_netcdf(out_path + 'total_uncertainty/' + metric + '_' + submetric_var + '_rp5gmfd.nc')"
   ]
  },
  {
   "cell_type": "code",
   "execution_count": 8,
   "id": "51bc11a9-28c4-42c0-9d4c-d94d8d798d88",
   "metadata": {},
   "outputs": [],
   "source": [
    "ds = xr.open_dataset('/gpfs/group/kaf26/default/dcl5300/lafferty-sriver_inprep_tbh_DATA/uc_results/total_uncertainty/hot_tasmax_rp5gmfd.nc')"
   ]
  },
  {
   "cell_type": "code",
   "execution_count": 11,
   "id": "74dbf3b1-f07a-4499-a4fa-3f79ef96de07",
   "metadata": {},
   "outputs": [
    {
     "data": {
      "text/plain": [
       "<matplotlib.collections.QuadMesh at 0x2b5c2ddffb20>"
      ]
     },
     "execution_count": 11,
     "metadata": {},
     "output_type": "execute_result"
    },
    {
     "data": {
      "image/png": "[encoded data removed]",
      "text/plain": [
       "<Figure size 640x480 with 2 Axes>"
      ]
     },
     "metadata": {},
     "output_type": "display_data"
    }
   ],
   "source": [
    "ds.tasmax_rp5gmfd_count.isel(time=10).plot(vmin=0, vmax=100)"
   ]
  },
  {
   "cell_type": "markdown",
   "id": "8cb443a5-6422-4597-b3b7-3d83e4e857a6",
   "metadata": {
    "tags": []
   },
   "source": [
    "# UC without interannual variability"
   ]
  },
  {
   "cell_type": "markdown",
   "id": "34f7cfc8-db24-4fa8-91c6-422dd5ac89a0",
   "metadata": {
    "tags": []
   },
   "source": [
    "## Functions definitions"
   ]
  },
  {
   "cell_type": "code",
   "execution_count": 6,
   "id": "a1732c3c-d748-45bf-bbb2-52b86583f639",
   "metadata": {},
   "outputs": [],
   "source": [
    "def uc_raw(nex_in, nex_models,\n",
    "           cil_in, cil_models, \n",
    "           isi_in, isi_models, \n",
    "           cbp_in, cbp_gard_models, cbp_deep_models,\n",
    "           land_mask,\n",
    "           metric, submetric, submetric_var,\n",
    "           year):\n",
    "    \"\"\"\n",
    "    Reads in all models, ssps, and calculates the uncertainty in the 'forced response'\n",
    "    along each dimension (ssp, model, ens) for a given year (and possibly DataArray).\n",
    "    For metrics like 'hot' where there are several sub-metrics based on different \n",
    "    thresholds and/or observational data, we need to select a specific DataArray\n",
    "    to keep the memory manageable.\n",
    "    \"\"\"\n",
    "    # Subfunction for general preprocessing of each model/ensemble\n",
    "    def read_and_process(ensemble, path_in, model, year, metric, submetric, submetric_var):\n",
    "        # Read netcdf or zarr\n",
    "        if ensemble in ['NEX', 'ISIMIP', 'GARD-SV']:\n",
    "            if submetric_var:\n",
    "                ds = xr.open_dataset(path_in + metric + '/' + model + '_' + submetric_var + '.nc')\n",
    "            else:\n",
    "                ds = xr.open_dataset(path_in + metric + '/' + model + '.nc')\n",
    "        elif ensemble in ['CIL', 'DeepSD-BC']:\n",
    "            ds = xr.open_dataset(path_in + metric + '/' + model, engine='zarr')\n",
    "        \n",
    "        # Select submetric if chosen\n",
    "        if submetric:\n",
    "            ds = ds[submetric]\n",
    "    \n",
    "        # Common preprocessing\n",
    "        ds['time'] = ds.indexes['time'].year\n",
    "        ds = ds.sel(time=year)\n",
    "        ds = ds.sel(lat=slice(-60, 90))\n",
    "        ds = ds.sortby('ssp')\n",
    "        ds = ds.assign_coords(ensemble = ensemble)\n",
    "        ds = ds.assign_coords(model = model)\n",
    "    \n",
    "        # Fix lon to [-180,180]\n",
    "        if ds.lon.max() > 180:\n",
    "            ds['lon'] = np.where(ds['lon'] > 180, ds['lon'] - 360, ds['lon'])\n",
    "            ds = ds.sortby('lon')\n",
    "    \n",
    "        # Some models/methods are missing precip so fill with NaNs\n",
    "        if (metric in ['max', 'avg']) and ('pr' not in ds.data_vars):\n",
    "            ds['pr'] = xr.full_like(ds[list(ds.data_vars)[0]], np.nan)\n",
    "    \n",
    "        # Return\n",
    "        return ds\n",
    "\n",
    "    ######################\n",
    "    # Read all ensembles\n",
    "    ######################\n",
    "    # NEX-GDDP \n",
    "    ds_out = []\n",
    "    for model in nex_models:\n",
    "        ds_out.append(read_and_process('NEX', nex_in, model, year, metric, submetric, submetric_var))\n",
    "    ds_nex = xr.concat(ds_out, dim='model', fill_value=np.nan)\n",
    "\n",
    "    # CIL-GDPCIR\n",
    "    ds_out = []\n",
    "    for model in cil_models:\n",
    "        ds_out.append(read_and_process('CIL', cil_in, model, year, metric, submetric, submetric_var))\n",
    "    ds_cil = xr.concat(ds_out, dim='model', fill_value=np.nan)\n",
    "\n",
    "    # ISIMIP\n",
    "    ds_out = []\n",
    "    for model in isi_models:\n",
    "        ds_out.append(read_and_process('ISIMIP', isi_in, model, year, metric, submetric, submetric_var))\n",
    "    ds_isi = xr.concat(ds_out, dim='model', fill_value=np.nan)\n",
    "\n",
    "    # carbonplan: GARD-SV\n",
    "    ds_out = []\n",
    "    for model in cbp_gard_models:\n",
    "        ds_out.append(read_and_process('GARD-SV', cbp_in + '/regridded/conservative/GARD-SV/', model, year, metric, submetric, submetric_var))\n",
    "    ds_cbp_gard = xr.concat(ds_out, dim='model', fill_value=np.nan)\n",
    "    \n",
    "    # carbonplan: DeepSD-BC\n",
    "    ds_out = []\n",
    "    for model in cbp_deep_models:\n",
    "        ds_out.append(read_and_process('DeepSD-BC', cbp_in + 'native_grid/DeepSD-BC/', model, year, metric, submetric, submetric_var))\n",
    "    ds_cbp_deep = xr.concat(ds_out, dim='model', fill_value=np.nan)\n",
    "\n",
    "    ###########################\n",
    "    # Merge all and mask ocean\n",
    "    ###########################\n",
    "    ds = xr.concat([ds_nex, ds_cil, ds_isi, ds_cbp_gard, ds_cbp_deep],\n",
    "                       dim='ensemble', fill_value=np.nan)\n",
    "    ds = xr.where(land_mask, np.nan, ds)\n",
    "    \n",
    "    ##########################\n",
    "    # Uncertainty calculation\n",
    "    ##########################\n",
    "    ##  Model uncertainty\n",
    "    # Variance across models, averaged over scenarios and ensembles\n",
    "    U_model = ds.var(dim='model')\n",
    "    weights = ds.isel(lat=300, lon=800)[list(ds.data_vars)[0]].count(dim='model').rename('weights') # weights (choose point over land)\n",
    "    weights = xr.where(weights == 1, 0, weights) # remove combinations where variance was calculated over 1 entry\n",
    "    U_model = U_model.weighted(weights).mean(dim=['ssp', 'ensemble']) # weighted average\n",
    "\n",
    "    ## Scenario uncertainty\n",
    "    # HS09 approach: variance across multi-model means\n",
    "    U_scen_hs09 = ds.mean(dim=['model', 'ensemble']).var(dim='ssp')\n",
    "    # BB13 approach: variance across scenarios, averaged over models and ensembles (no weighting)\n",
    "    U_scen_bb13 = ds.var(dim='ssp').mean(dim=['model', 'ensemble'])\n",
    "\n",
    "    ## Downscaling uncertainy\n",
    "    # Variance across ensembles, averaged over models and scenarios\n",
    "    U_ens = ds.var(dim='ensemble')\n",
    "    weights = ds.isel(lat=300, lon=800)[list(ds.data_vars)[0]].count(dim='ensemble').rename('weights') # weights\n",
    "    weights = xr.where(weights == 1, 0, weights) # remove combinations where variance was calculated over 1 entry\n",
    "    U_ens = U_ens.weighted(weights).mean(dim=['ssp', 'model'])\n",
    "\n",
    "    ## Merge and return\n",
    "    U_model = U_model.assign_coords(uncertainty = 'model')\n",
    "    U_scen_hs09 = U_scen_hs09.assign_coords(uncertainty = 'scenario_hs09')\n",
    "    U_scen_bb13 = U_scen_bb13.assign_coords(uncertainty = 'scenario_bb13')\n",
    "    U_ens = U_ens.assign_coords(uncertainty = 'ensemble')\n",
    "    \n",
    "    U_out = xr.concat([U_model, U_scen_hs09, U_scen_bb13, U_ens], dim='uncertainty')\n",
    "    \n",
    "    if 'member_id' in list(U_out.coords):\n",
    "        U_out = U_out.isel(member_id=0).drop('member_id')\n",
    "        \n",
    "    return U_out"
   ]
  },
  {
   "cell_type": "code",
   "execution_count": 12,
   "id": "a17e019d-cd16-4312-8660-aabfbe835088",
   "metadata": {},
   "outputs": [],
   "source": [
    "def calculate_raw_uc(metric, submetric, submetric_var, save_str):\n",
    "    \"\"\"\n",
    "    Calculate the uncertainty paritition of the forced response\n",
    "    for a given selection of parameters/settings\n",
    "    \"\"\"\n",
    "    delayed_res = []\n",
    "    \n",
    "    # carbonplan GARD-SV precip models\n",
    "    if metric in ['wet', 'dry', 'max5d']:\n",
    "        cbp_gard_models_in = cbp_gard_precip_models\n",
    "    else:\n",
    "        cbp_gard_models_in = cbp_gard_models\n",
    "    \n",
    "    for year in range(2020, 2095):\n",
    "        # Read all ensembles and compute UC\n",
    "        tmp_res = dask.delayed(uc_raw)(nex_in, nex_models, \n",
    "                                       cil_in, cil_models, \n",
    "                                       isi_in, isi_models, \n",
    "                                       cbp_in, cbp_gard_models_in, cbp_deep_models,\n",
    "                                       land_mask,\n",
    "                                       metric, submetric, submetric_var,\n",
    "                                       year)\n",
    "    \n",
    "        # Append\n",
    "        delayed_res.append(tmp_res)\n",
    "    \n",
    "    # Compute\n",
    "    res = dask.compute(*delayed_res)\n",
    "\n",
    "    # Merge and store\n",
    "    ds_out = xr.concat(res, dim='time')\n",
    "    ds_out.to_netcdf(out_path + 'uc_without_iav/' + metric + save_str + '.nc')"
   ]
  },
  {
   "cell_type": "markdown",
   "id": "9b61a306-665b-40c4-8024-57c20a3364ad",
   "metadata": {
    "tags": []
   },
   "source": [
    "## All metrics"
   ]
  },
  {
   "cell_type": "code",
   "execution_count": null,
   "id": "84b78327-13ae-472f-93a7-4b2c28ec4f2b",
   "metadata": {},
   "outputs": [],
   "source": [
    "%%time\n",
    "metric = 'avg'\n",
    "\n",
    "calculate_raw_uc(metric = metric,\n",
    "                 submetric = False,\n",
    "                 submetric_var = False, \n",
    "                 save_str = '')"
   ]
  },
  {
   "cell_type": "code",
   "execution_count": 9,
   "id": "3fbe2c76-5662-4ed0-b271-14d41fbac1c4",
   "metadata": {},
   "outputs": [
    {
     "name": "stdout",
     "output_type": "stream",
     "text": [
      "CPU times: user 1min 48s, sys: 17.4 s, total: 2min 5s\n",
      "Wall time: 8min 47s\n"
     ]
    }
   ],
   "source": [
    "%%time\n",
    "metric = 'max'\n",
    "\n",
    "calculate_raw_uc(metric = metric,\n",
    "                    submetric = False,\n",
    "                    submetric_var = False, \n",
    "                    save_str = '')"
   ]
  },
  {
   "cell_type": "code",
   "execution_count": 10,
   "id": "aedf0c34-3c6e-435d-b881-18907218d962",
   "metadata": {},
   "outputs": [
    {
     "name": "stdout",
     "output_type": "stream",
     "text": [
      "CPU times: user 32.7 s, sys: 3.58 s, total: 36.3 s\n",
      "Wall time: 2min 43s\n"
     ]
    }
   ],
   "source": [
    "%%time\n",
    "metric = 'max5d'\n",
    "\n",
    "calculate_raw_uc(metric = metric,\n",
    "                    submetric = False,\n",
    "                    submetric_var = False, \n",
    "                    save_str = '')"
   ]
  },
  {
   "cell_type": "code",
   "execution_count": 11,
   "id": "356eaf3e-9f83-4c33-bcbe-714e28f8392c",
   "metadata": {},
   "outputs": [
    {
     "name": "stdout",
     "output_type": "stream",
     "text": [
      "CPU times: user 1min 53s, sys: 17 s, total: 2min 10s\n",
      "Wall time: 9min 13s\n"
     ]
    }
   ],
   "source": [
    "%%time\n",
    "metric = 'dry'\n",
    "\n",
    "calculate_raw_uc(metric = metric,\n",
    "                    submetric = False,\n",
    "                    submetric_var = False, \n",
    "                    save_str = '')"
   ]
  },
  {
   "cell_type": "code",
   "execution_count": 13,
   "id": "58226cf4-e899-4644-b787-a4210b4dbab5",
   "metadata": {},
   "outputs": [
    {
     "name": "stdout",
     "output_type": "stream",
     "text": [
      "CPU times: user 51.5 s, sys: 7.47 s, total: 59 s\n",
      "Wall time: 4min 14s\n"
     ]
    }
   ],
   "source": [
    "%%time\n",
    "\n",
    "metric = 'wet'\n",
    "submetric = ['pr_q99gmfd_count', 'pr_q99gmfd_streak']\n",
    "\n",
    "calculate_raw_uc(metric = metric,\n",
    "                 submetric = submetric,\n",
    "                 submetric_var = False, \n",
    "                 save_str = '_pr_q99gmfd')"
   ]
  },
  {
   "cell_type": "code",
   "execution_count": 14,
   "id": "3f2df297-8587-4635-936f-eab0c54f2271",
   "metadata": {},
   "outputs": [
    {
     "name": "stdout",
     "output_type": "stream",
     "text": [
      "CPU times: user 48.1 s, sys: 5.96 s, total: 54.1 s\n",
      "Wall time: 3min 51s\n"
     ]
    }
   ],
   "source": [
    "%%time\n",
    "\n",
    "metric = 'wet'\n",
    "submetric = ['pr_q99era5_count', 'pr_q99era5_streak']\n",
    "\n",
    "calculate_raw_uc(metric = metric,\n",
    "                 submetric = submetric,\n",
    "                 submetric_var = False, \n",
    "                 save_str = '_pr_q99gmfd')"
   ]
  },
  {
   "cell_type": "code",
   "execution_count": 15,
   "id": "7bebef9a-d061-451d-a353-d907b5a26f91",
   "metadata": {},
   "outputs": [
    {
     "name": "stdout",
     "output_type": "stream",
     "text": [
      "CPU times: user 54.1 s, sys: 6.49 s, total: 1min\n",
      "Wall time: 4min 28s\n"
     ]
    }
   ],
   "source": [
    "%%time\n",
    "\n",
    "metric = 'hot'\n",
    "submetric = ['tasmax_q99gmfd_count', 'tasmax_q99gmfd_streak']\n",
    "submetric_var = 'tasmax'\n",
    "\n",
    "calculate_raw_uc(metric = metric,\n",
    "                    submetric = submetric,\n",
    "                    submetric_var = submetric_var, \n",
    "                    save_str = 'tasmax_q99gmfd')"
   ]
  },
  {
   "cell_type": "code",
   "execution_count": 16,
   "id": "9ef4d441-69d7-4a74-8618-32e652dbf467",
   "metadata": {},
   "outputs": [
    {
     "name": "stdout",
     "output_type": "stream",
     "text": [
      "CPU times: user 53 s, sys: 6.56 s, total: 59.6 s\n",
      "Wall time: 4min 25s\n"
     ]
    }
   ],
   "source": [
    "%%time\n",
    "\n",
    "metric = 'hot'\n",
    "submetric = ['tas_q99gmfd_count', 'tas_q99gmfd_streak']\n",
    "submetric_var = 'tas'\n",
    "\n",
    "calculate_raw_uc(metric = metric,\n",
    "                 submetric = submetric,\n",
    "                 submetric_var = submetric_var, \n",
    "                 save_str = 'tas_q99gmfd')"
   ]
  },
  {
   "cell_type": "markdown",
   "id": "0791ed2a-a415-44a6-ba57-6ec6589e454c",
   "metadata": {
    "tags": []
   },
   "source": [
    "# UC with interannual variability"
   ]
  },
  {
   "cell_type": "markdown",
   "id": "50f835b0-9cf4-46f0-8167-189063ca1d97",
   "metadata": {
    "jp-MarkdownHeadingCollapsed": true,
    "tags": []
   },
   "source": [
    "## Function definitions"
   ]
  },
  {
   "cell_type": "markdown",
   "id": "ff020f63-dcb3-4462-8e4e-8a41ddeb2352",
   "metadata": {
    "jp-MarkdownHeadingCollapsed": true,
    "tags": []
   },
   "source": [
    "### Extracting the (polynomial) forced response"
   ]
  },
  {
   "cell_type": "code",
   "execution_count": 6,
   "id": "e14bacda-61df-4e40-981c-02e66ad04a62",
   "metadata": {},
   "outputs": [],
   "source": [
    "def get_forced_poly(nex_in, nex_models,\n",
    "                    cil_in, cil_models, \n",
    "                    isi_in, isi_models, \n",
    "                    cbp_in, cbp_gard_models, cbp_deep_models,\n",
    "                    land_mask,\n",
    "                    metric, submetric, submetric_var,\n",
    "                    poly_path):\n",
    "    \"\"\"\n",
    "    Reads in all models, ssps, and calculates the 'forced response' as a 4th order\n",
    "    polynomial.\n",
    "    For metrics like 'hot' where there are several sub-metrics based on different \n",
    "    thresholds and/or observational data, we need to select a specific DataArray\n",
    "    to keep the memory manageable.\n",
    "    \"\"\"\n",
    "    # Subfunction to get polynomial for each model/ensemble\n",
    "    def get_poly_coeffs(ensemble, path_in, model, metric, submetric, submetric_var):\n",
    "        # Read netcdf or zarr\n",
    "        if ensemble in ['NEX', 'ISIMIP', 'GARD-SV']:\n",
    "            if submetric_var:\n",
    "                ds = xr.open_dataset(path_in + metric + '/' + model + '_' + submetric_var + '.nc')\n",
    "            else:\n",
    "                ds = xr.open_dataset(path_in + metric + '/' + model + '.nc')\n",
    "        elif ensemble in ['CIL', 'DeepSD-BC']:\n",
    "            ds = xr.open_dataset(path_in + metric + '/' + model, engine='zarr')\n",
    "            \n",
    "        \n",
    "        # Select submetric if chosen\n",
    "        if submetric:\n",
    "            ds = ds[submetric]\n",
    "    \n",
    "        # Common preprocessing\n",
    "        ds = ds.sel(lat=slice(-60, 90))\n",
    "        ds = ds.sortby('ssp')\n",
    "        if ds.lon.max() > 180:\n",
    "            ds['lon'] = np.where(ds['lon'] > 180, ds['lon'] - 360, ds['lon'])\n",
    "            ds = ds.sortby('lon')\n",
    "\n",
    "        # Forced response via polynomial\n",
    "        ds = xr.polyval(coord = ds['time'],\n",
    "                        coeffs = ds.polyfit(dim='time', deg=4)) # 4th order polynomial\n",
    "        ds = ds.rename({name:name.replace('_polyfit_coefficients', '') for name in list(ds.data_vars)})\n",
    "            \n",
    "        # Construct output name: assumes submetrics are of the form ['X_count', 'X_streak']\n",
    "        out_str = poly_path + metric + '/'\n",
    "\n",
    "        if submetric:\n",
    "            submetric_str = submetric[0].replace('_count', '').replace('_streak', '')\n",
    "            out_str = out_str + submetric_str + '_'\n",
    "        \n",
    "        ds.to_netcdf(out_str + ensemble + '_' + model + '.nc')\n",
    "\n",
    "    #######################\n",
    "    # Appy to all ensembles\n",
    "    ######################@\n",
    "    # Dask delayed\n",
    "    res = []\n",
    "    \n",
    "    # NEX-GDDP \n",
    "    for model in nex_models:\n",
    "        res.append(dask.delayed(get_poly_coeffs)('NEX', nex_in, model, metric, submetric, submetric_var))\n",
    "\n",
    "    # CIL-GDPCIR\n",
    "    for model in cil_models:\n",
    "        res.append(dask.delayed(get_poly_coeffs)('CIL', cil_in, model, metric, submetric, submetric_var))\n",
    "\n",
    "    # ISIMIP\n",
    "    for model in isi_models:\n",
    "        res.append(dask.delayed(get_poly_coeffs)('ISIMIP', isi_in, model, metric, submetric, submetric_var))\n",
    "\n",
    "    # carbonplan: GARD-SV\n",
    "    for model in cbp_gard_models:\n",
    "        res.append(dask.delayed(get_poly_coeffs)('GARD-SV', cbp_in + '/regridded/conservative/GARD-SV/', model, metric, submetric, submetric_var))\n",
    "    \n",
    "    # carbonplan: DeepSD-BC\n",
    "    for model in cbp_deep_models:\n",
    "        res.append(dask.delayed(get_poly_coeffs)('DeepSD-BC', cbp_in + 'native_grid/DeepSD-BC/', model, metric, submetric, submetric_var))\n",
    "    \n",
    "    # Compute\n",
    "    dask.compute(*res)"
   ]
  },
  {
   "cell_type": "markdown",
   "id": "e17cf229-9624-44da-ad8d-165f67d47be7",
   "metadata": {
    "jp-MarkdownHeadingCollapsed": true,
    "tags": []
   },
   "source": [
    "### Uncertainty characterization of forced response"
   ]
  },
  {
   "cell_type": "code",
   "execution_count": 16,
   "id": "f612e0f3-8e82-4d6d-847b-19eae4bac017",
   "metadata": {},
   "outputs": [],
   "source": [
    "def uc_forced(nex_in, nex_models,\n",
    "              cil_in, cil_models, \n",
    "              isi_in, isi_models, \n",
    "              cbp_in, cbp_gard_models, cbp_deep_models,\n",
    "              land_mask,\n",
    "              metric, submetric, submetric_var,\n",
    "              year,\n",
    "              poly, poly_path):\n",
    "    \"\"\"\n",
    "    Reads in all models, ssps, and calculates the uncertainty in the 'forced response'\n",
    "    along each dimension (ssp, model, ens) for a given year (and possibly DataArray).\n",
    "    For metrics like 'hot' where there are several sub-metrics based on different \n",
    "    thresholds and/or observational data, we need to select a specific DataArray\n",
    "    to keep the memory manageable.\n",
    "    \"\"\"\n",
    "    # Subfunction for general preprocessing of each model/ensemble\n",
    "    def read_and_process(ensemble, path_in, model, year, metric, submetric, submetric_var, poly):\n",
    "        # Polynomial responses should have already been calculated\n",
    "        if poly:\n",
    "            poly_str = poly_path + metric + '/'\n",
    "            if submetric:\n",
    "                submetric_str = submetric[0].replace('_count', '').replace('_streak', '')\n",
    "                poly_str = poly_str + submetric_str + '_'\n",
    "            ds = xr.open_dataset(poly_str + ensemble + '_' + model + '.nc')\n",
    "            ds['time'] = ds.indexes['time'].year\n",
    "            ds = ds.sel(time=year)\n",
    "        else:   \n",
    "            # Read netcdf or zarr\n",
    "            if ensemble in ['NEX', 'ISIMIP', 'GARD-SV']:\n",
    "                if submetric_var:\n",
    "                    ds = xr.open_dataset(path_in + metric + '/' + model + '_' + submetric_var + '.nc')\n",
    "                else:\n",
    "                    ds = xr.open_dataset(path_in + metric + '/' + model + '.nc')\n",
    "            elif ensemble in ['CIL', 'DeepSD-BC']:\n",
    "                ds = xr.open_dataset(path_in + metric + '/' + model, engine='zarr')\n",
    "        \n",
    "        # Select submetric if chosen\n",
    "        if submetric:\n",
    "            ds = ds[submetric]\n",
    "    \n",
    "        # Common preprocessing\n",
    "        ds = ds.sel(lat=slice(-60, 90))\n",
    "        ds = ds.sortby('ssp')\n",
    "        ds = ds.assign_coords(ensemble = ensemble)\n",
    "        ds = ds.assign_coords(model = model)\n",
    "    \n",
    "        # Fix lon to [-180,180]\n",
    "        if ds.lon.max() > 180:\n",
    "            ds['lon'] = np.where(ds['lon'] > 180, ds['lon'] - 360, ds['lon'])\n",
    "            ds = ds.sortby('lon')\n",
    "            \n",
    "        # Forced response via running mean if required\n",
    "        if not poly:\n",
    "            ds['time'] = ds.indexes['time'].year\n",
    "            ds = ds.sel(time=slice(year-5, year+5)) # faster rolling mean\n",
    "            ds = ds.rolling(time=11, center=True).mean().sel(time=year)\n",
    "    \n",
    "        # Some models/methods are missing precip so fill with NaNs\n",
    "        if (metric in ['max', 'avg']) and ('pr' not in ds.data_vars):\n",
    "            ds['pr'] = xr.full_like(ds[list(ds.data_vars)[0]], np.nan)\n",
    "    \n",
    "        # Return\n",
    "        return ds\n",
    "\n",
    "    ######################\n",
    "    # Read all ensembles\n",
    "    ######################\n",
    "    # NEX-GDDP \n",
    "    ds_out = []\n",
    "    for model in nex_models:\n",
    "        ds_out.append(read_and_process('NEX', nex_in, model, year, metric, submetric, submetric_var, poly))\n",
    "    ds_nex = xr.concat(ds_out, dim='model', fill_value=np.nan)\n",
    "\n",
    "    # CIL-GDPCIR\n",
    "    ds_out = []\n",
    "    for model in cil_models:\n",
    "        ds_out.append(read_and_process('CIL', cil_in, model, year, metric, submetric, submetric_var, poly))\n",
    "    ds_cil = xr.concat(ds_out, dim='model', fill_value=np.nan)\n",
    "\n",
    "    # ISIMIP\n",
    "    ds_out = []\n",
    "    for model in isi_models:\n",
    "        ds_out.append(read_and_process('ISIMIP', isi_in, model, year, metric, submetric, submetric_var, poly))\n",
    "    ds_isi = xr.concat(ds_out, dim='model', fill_value=np.nan)\n",
    "\n",
    "    # carbonplan: GARD-SV\n",
    "    ds_out = []\n",
    "    for model in cbp_gard_models:\n",
    "        ds_out.append(read_and_process('GARD-SV', cbp_in + '/regridded/conservative/GARD-SV/', model, year, metric, submetric, submetric_var, poly))\n",
    "    ds_cbp_gard = xr.concat(ds_out, dim='model', fill_value=np.nan)\n",
    "    \n",
    "    # carbonplan: DeepSD-BC\n",
    "    ds_out = []\n",
    "    for model in cbp_deep_models:\n",
    "        ds_out.append(read_and_process('DeepSD-BC', cbp_in + 'native_grid/DeepSD-BC/', model, year, metric, submetric, submetric_var, poly))\n",
    "    ds_cbp_deep = xr.concat(ds_out, dim='model', fill_value=np.nan)\n",
    "\n",
    "    ###########################\n",
    "    # Merge all and mask ocean\n",
    "    ###########################\n",
    "    ds = xr.concat([ds_nex, ds_cil, ds_isi, ds_cbp_gard, ds_cbp_deep],\n",
    "                       dim='ensemble', fill_value=np.nan)\n",
    "    ds = xr.where(land_mask, np.nan, ds)\n",
    "    \n",
    "    ##########################\n",
    "    # Uncertainty calculation\n",
    "    ##########################\n",
    "    ##  Model uncertainty\n",
    "    # Variance across models, averaged over scenarios and ensembles\n",
    "    U_model = ds.var(dim='model')\n",
    "    weights = ds.isel(lat=300, lon=800)[list(ds.data_vars)[0]].count(dim='model').rename('weights') # weights (choose point over land)\n",
    "    weights = xr.where(weights == 1, 0, weights) # remove combinations where variance was calculated over 1 entry\n",
    "    U_model = U_model.weighted(weights).mean(dim=['ssp', 'ensemble']) # weighted average\n",
    "\n",
    "    ## Scenario uncertainty\n",
    "    # HS09 approach: variance across multi-model means\n",
    "    U_scen_hs09 = ds.mean(dim=['model', 'ensemble']).var(dim='ssp')\n",
    "    # BB13 approach: variance across scenarios, averaged over models and ensembles (no weighting)\n",
    "    U_scen_bb13 = ds.var(dim='ssp').mean(dim=['model', 'ensemble'])\n",
    "\n",
    "    ## Downscaling uncertainy\n",
    "    # Variance across ensembles, averaged over models and scenarios\n",
    "    U_ens = ds.var(dim='ensemble')\n",
    "    weights = ds.isel(lat=300, lon=800)[list(ds.data_vars)[0]].count(dim='ensemble').rename('weights') # weights\n",
    "    weights = xr.where(weights == 1, 0, weights) # remove combinations where variance was calculated over 1 entry\n",
    "    U_ens = U_ens.weighted(weights).mean(dim=['ssp', 'model'])\n",
    "\n",
    "    ## Merge and return\n",
    "    U_model = U_model.assign_coords(uncertainty = 'model')\n",
    "    U_scen_hs09 = U_scen_hs09.assign_coords(uncertainty = 'scenario_hs09')\n",
    "    U_scen_bb13 = U_scen_bb13.assign_coords(uncertainty = 'scenario_bb13')\n",
    "    U_ens = U_ens.assign_coords(uncertainty = 'ensemble')\n",
    "    \n",
    "    U_out = xr.concat([U_model, U_scen_hs09, U_scen_bb13, U_ens], dim='uncertainty')\n",
    "    \n",
    "    if 'member_id' in list(U_out.coords):\n",
    "        U_out = U_out.isel(member_id=0).drop('member_id')\n",
    "        \n",
    "    return U_out"
   ]
  },
  {
   "cell_type": "code",
   "execution_count": 17,
   "id": "a6148963-1039-4571-bc59-c5ae9e6a5700",
   "metadata": {},
   "outputs": [],
   "source": [
    "def calculate_forced_uc(metric, submetric, submetric_var, poly, poly_path, save_str):\n",
    "    \"\"\"\n",
    "    Calculate the uncertainty paritition of the forced response\n",
    "    for a given selection of parameters/settings\n",
    "    \"\"\"\n",
    "    delayed_res = []\n",
    "    \n",
    "    # carbonplan GARD-SV precip models\n",
    "    if metric in ['wet', 'dry', 'max5d']:\n",
    "        cbp_gard_models_in = cbp_gard_precip_models\n",
    "    else:\n",
    "        cbp_gard_models_in = cbp_gard_models\n",
    "    \n",
    "    for year in range(2020, 2095):\n",
    "        # Read all ensembles and compute UC\n",
    "        tmp_res = dask.delayed(uc_forced)(nex_in, nex_models, \n",
    "                                          cil_in, cil_models, \n",
    "                                          isi_in, isi_models, \n",
    "                                          cbp_in, cbp_gard_models_in, cbp_deep_models,\n",
    "                                          land_mask,\n",
    "                                          metric, submetric, submetric_var,\n",
    "                                          year,\n",
    "                                          poly, poly_path)\n",
    "    \n",
    "        # Append\n",
    "        delayed_res.append(tmp_res)\n",
    "    \n",
    "    # Compute\n",
    "    res = dask.compute(*delayed_res)\n",
    "\n",
    "    # Merge and store\n",
    "    ds_out = xr.concat(res, dim='time')\n",
    "    ds_out.to_netcdf(out_path + 'uc_with_iav/' + metric + '_' + save_str + '.nc')"
   ]
  },
  {
   "cell_type": "markdown",
   "id": "46e8038e-1876-4793-bb35-f44f57c8de08",
   "metadata": {
    "jp-MarkdownHeadingCollapsed": true,
    "tags": []
   },
   "source": [
    "### Measure of interannual variability"
   ]
  },
  {
   "cell_type": "code",
   "execution_count": 9,
   "id": "b210d705-e5cf-4ff4-9a47-fcc171bc699b",
   "metadata": {},
   "outputs": [],
   "source": [
    "def uc_iav(path_in, ensemble, model, land_mask, metric, submetric, submetric_var, poly, poly_path, const_iav):\n",
    "    \"\"\"\n",
    "    Calculates the internal variability (variance over all years\n",
    "    of residuals from rolling mean) for a given model-ssp-ensemble\n",
    "    \"\"\"\n",
    "    # Subfunction for general preprocessing of each model/ensemble\n",
    "    def read_and_process(ensemble, path_in, model, metric, submetric, submetric_var):\n",
    "        # Read netcdf or zarr\n",
    "        if ensemble in ['NEX', 'ISIMIP', 'GARD-SV']:\n",
    "            if submetric_var:\n",
    "                ds = xr.open_dataset(path_in + metric + '/' + model + '_' + submetric_var + '.nc')\n",
    "            else:\n",
    "                ds = xr.open_dataset(path_in + metric + '/' + model + '.nc')\n",
    "        elif ensemble in ['CIL', 'DeepSD-BC']:\n",
    "            ds = xr.open_dataset(path_in + metric + '/' + model, engine='zarr')\n",
    "            \n",
    "        # Some models/methods are missing precip so fill with NaNs\n",
    "        if (metric in ['max', 'avg']) and ('pr' not in ds.data_vars):\n",
    "            ds['pr'] = xr.full_like(ds[list(ds.data_vars)[0]], np.nan)\n",
    "        \n",
    "        # Select submetric if chosen\n",
    "        if submetric:\n",
    "            ds = ds[submetric]\n",
    "    \n",
    "        # Common preprocessing\n",
    "        ds['time'] = ds.indexes['time'].year\n",
    "        ds = ds.sortby('ssp')\n",
    "        ds = ds.assign_coords(ensmod = ensemble + '__' + model)\n",
    "        ds = ds.sel(lat=slice(-60, 90))\n",
    "    \n",
    "        # Fix lon to [-180,180]\n",
    "        if ds.lon.max() > 180:\n",
    "            ds['lon'] = np.where(ds['lon'] > 180, ds['lon'] - 360, ds['lon'])\n",
    "            ds = ds.sortby('lon')\n",
    "    \n",
    "        # Return\n",
    "        return ds\n",
    "\n",
    "    ###############\n",
    "    # Read model\n",
    "    ###############\n",
    "    ds = read_and_process(ensemble, path_in, model, metric, submetric, submetric_var)\n",
    "    # Mask out ocean points\n",
    "    ds = xr.where(land_mask, np.nan, ds)\n",
    "            \n",
    "    #####################################\n",
    "    # Get IAV estimate\n",
    "    # Variance of residuals\n",
    "    #####################################\n",
    "    # Forced response via polynomial or running mean\n",
    "    if poly:\n",
    "        poly_str = poly_path + metric + '/'\n",
    "        if submetric:\n",
    "            submetric_str = submetric[0].replace('_count', '').replace('_streak', '')\n",
    "            poly_str = poly_str + submetric_str + '_'\n",
    "        ds_forced = xr.open_dataset(poly_str + ensemble + '_' + model + '.nc')\n",
    "        ds_forced['time'] = ds_forced.indexes['time'].year\n",
    "        \n",
    "        # Some models/methods are missing precip so fill with NaNs\n",
    "        if (metric in ['max', 'avg']) and ('pr' not in ds_forced.data_vars):\n",
    "            ds_forced['pr'] = xr.full_like(ds_forced[list(ds_forced.data_vars)[0]], np.nan)\n",
    "    else:\n",
    "        ds_forced = ds.rolling(time=11, center=True).mean().sel(time=slice(2020,2094))\n",
    "    \n",
    "    # IAV can be constant value or early/mid/late\n",
    "    if const_iav:\n",
    "        iav = (ds - ds_forced).var(dim='time')\n",
    "    else:\n",
    "        iav_early = (ds - ds_forced).sel(time=slice(2020,2029)).var(dim='time').assign_coords(time = 'early')\n",
    "        iav_mid = (ds - ds_forced).sel(time=slice(2050,2059)).var(dim='time').assign_coords(time = 'mid')\n",
    "        iav_late = (ds - ds_forced).sel(time=slice(2080,2089)).var(dim='time').assign_coords(time = 'late')\n",
    "        iav = xr.concat([iav_early, iav_mid, iav_late], dim='time')\n",
    "    \n",
    "    # Drop member_id and return\n",
    "    if 'member_id' in list(iav.coords):\n",
    "        iav = iav.isel(member_id=0).drop('member_id')\n",
    "    return iav"
   ]
  },
  {
   "cell_type": "code",
   "execution_count": 10,
   "id": "41647f93-df3a-4cd5-8702-082cf8905356",
   "metadata": {},
   "outputs": [],
   "source": [
    "def make_delayed_list_iav(metric, submetric, submetric_var, poly, poly_path, const_iav):\n",
    "    \"\"\"\n",
    "    Make a delayed list with IAV of all models-ssps-ensembles which \n",
    "    can then be combined into one dataset and averaged for best estimate.\n",
    "    \"\"\"\n",
    "    # Parallelize with dask over models\n",
    "    delayed_res = []\n",
    "    \n",
    "    # NEX\n",
    "    for model in nex_models:\n",
    "        tmp_res = dask.delayed(uc_iav)(nex_in, 'NEX', model, land_mask, metric, submetric, submetric_var, poly, poly_path, const_iav)\n",
    "        delayed_res.append(tmp_res)\n",
    "        \n",
    "    # CIL\n",
    "    for model in cil_models:\n",
    "        tmp_res = dask.delayed(uc_iav)(cil_in, 'CIL', model, land_mask, metric, submetric, submetric_var, poly, poly_path, const_iav)\n",
    "        delayed_res.append(tmp_res)\n",
    "        \n",
    "    # ISIMIP\n",
    "    for model in isi_models:\n",
    "        tmp_res = dask.delayed(uc_iav)(isi_in, 'ISIMIP', model, land_mask, metric, submetric, submetric_var, poly, poly_path, const_iav)\n",
    "        delayed_res.append(tmp_res)\n",
    "        \n",
    "    # carbonplan GARD-SV\n",
    "    if metric in ['wet', 'dry', 'max5d']:\n",
    "        models = cbp_gard_precip_models\n",
    "    else:\n",
    "        models = cbp_gard_models\n",
    "    for model in models:\n",
    "        tmp_res = dask.delayed(uc_iav)(cbp_in + '/regridded/conservative/GARD-SV/', 'GARD-SV', model, land_mask, metric, submetric, submetric_var, poly, poly_path, const_iav)\n",
    "        delayed_res.append(tmp_res)\n",
    "        \n",
    "    # carbonplan DeepSD-BC\n",
    "    for model in cbp_deep_models:\n",
    "        tmp_res = dask.delayed(uc_iav)(cbp_in + 'native_grid/DeepSD-BC/', 'DeepSD-BC', model, land_mask, metric, submetric, submetric_var, poly, poly_path, const_iav)\n",
    "        delayed_res.append(tmp_res)\n",
    "        \n",
    "    # return\n",
    "    return delayed_res"
   ]
  },
  {
   "cell_type": "code",
   "execution_count": 11,
   "id": "3a8eba7e-7d82-40dc-ae31-b8da740f7a68",
   "metadata": {},
   "outputs": [],
   "source": [
    "def calculate_iav(metric, submetric, submetric_var, poly, poly_path, const_iav, save_str):\n",
    "    \"\"\"\n",
    "    Calculate the internal variability uncertainty\n",
    "    for a given selection of parameters/settings\n",
    "    \"\"\"\n",
    "    # Make delayed list\n",
    "    delayed_res = make_delayed_list_iav(metric = metric, \n",
    "                                        submetric = submetric,\n",
    "                                        submetric_var = submetric_var,\n",
    "                                        poly = poly, \n",
    "                                        poly_path = poly_path,\n",
    "                                        const_iav = const_iav)\n",
    "    # Compute\n",
    "    res = dask.compute(*delayed_res)\n",
    "\n",
    "    # Merge and average over ensemble + model (ensmod) and ssp\n",
    "    ds_out = xr.concat(res, dim='ensmod').mean(dim=['ensmod', 'ssp'])\n",
    "    ds_out.to_netcdf(out_path + 'uc_with_iav/' + metric + '_' + save_str + '.nc')"
   ]
  },
  {
   "cell_type": "markdown",
   "id": "3f2a15c7-7b8c-4005-8855-a771f4649fc3",
   "metadata": {
    "jp-MarkdownHeadingCollapsed": true,
    "tags": []
   },
   "source": [
    "## Annual averages"
   ]
  },
  {
   "cell_type": "code",
   "execution_count": 25,
   "id": "79c75f14-322b-4e1d-b642-e429e7fbdaf5",
   "metadata": {},
   "outputs": [
    {
     "name": "stdout",
     "output_type": "stream",
     "text": [
      "CPU times: user 5min 2s, sys: 32.1 s, total: 5min 34s\n",
      "Wall time: 23min 5s\n"
     ]
    }
   ],
   "source": [
    "%%time\n",
    "\n",
    "metric = 'avg'\n",
    "\n",
    "#######################################\n",
    "# Get the forced response (polynomial)\n",
    "#######################################\n",
    "get_forced_poly(nex_in, nex_models,\n",
    "                cil_in, cil_models, \n",
    "                isi_in, isi_models, \n",
    "                cbp_in, cbp_gard_models, cbp_deep_models,\n",
    "                land_mask,\n",
    "                metric, False, False,\n",
    "                poly_path)\n",
    "\n",
    "####################################\n",
    "# Interannual variability\n",
    "####################################\n",
    "calculate_iav(metric = metric,\n",
    "              submetric = False,\n",
    "              submetric_var = False,\n",
    "              poly = True,\n",
    "              poly_path = poly_path,\n",
    "              const_iav = True,\n",
    "              save_str = 'poly_response_const_iav')\n",
    "\n",
    "calculate_iav(metric = metric,\n",
    "              submetric = False,\n",
    "              submetric_var = False,\n",
    "              poly = True,\n",
    "              poly_path = poly_path,\n",
    "              const_iav = False,\n",
    "              save_str = 'poly_response_nonconst_iav')\n",
    "\n",
    "################################\n",
    "# UC on forced response\n",
    "################################\n",
    "calculate_forced_uc(metric = metric,\n",
    "                    submetric = False,\n",
    "                    submetric_var = False, \n",
    "                    poly = True,\n",
    "                    poly_path = poly_path,\n",
    "                    save_str = 'poly_response')\n",
    "\n",
    "calculate_forced_uc(metric = metric,\n",
    "                    submetric = False,\n",
    "                    submetric_var = False, \n",
    "                    poly = False,\n",
    "                    poly_path = poly_path,\n",
    "                    save_str = 'running_response')"
   ]
  },
  {
   "cell_type": "markdown",
   "id": "175dd321-2169-466e-8cef-ed20d0ede997",
   "metadata": {
    "jp-MarkdownHeadingCollapsed": true,
    "tags": []
   },
   "source": [
    "## 1-day max"
   ]
  },
  {
   "cell_type": "code",
   "execution_count": 26,
   "id": "96894be8-cbd1-4524-ab57-428fa6e3b0c7",
   "metadata": {},
   "outputs": [
    {
     "name": "stdout",
     "output_type": "stream",
     "text": [
      "CPU times: user 10min 6s, sys: 1min 20s, total: 11min 26s\n",
      "Wall time: 44min 30s\n"
     ]
    }
   ],
   "source": [
    "%%time \n",
    "\n",
    "metric = 'max'\n",
    "\n",
    "#######################################\n",
    "# Get the forced response (polynomial)\n",
    "#######################################\n",
    "get_forced_poly(nex_in, nex_models,\n",
    "                cil_in, cil_models, \n",
    "                isi_in, isi_models, \n",
    "                cbp_in, cbp_gard_models, cbp_deep_models,\n",
    "                land_mask,\n",
    "                metric, False, False,\n",
    "                poly_path)\n",
    "\n",
    "####################################\n",
    "# Interannual variability\n",
    "####################################\n",
    "calculate_iav(metric = metric,\n",
    "              submetric = False,\n",
    "              submetric_var = False,\n",
    "              poly = True,\n",
    "              poly_path = poly_path,\n",
    "              const_iav = True,\n",
    "              save_str = 'poly_response_const_iav')\n",
    "\n",
    "calculate_iav(metric = metric,\n",
    "              submetric = False,\n",
    "              submetric_var = False,\n",
    "              poly = True,\n",
    "              poly_path = poly_path,\n",
    "              const_iav = False,\n",
    "              save_str = 'poly_response_nonconst_iav')\n",
    "\n",
    "################################\n",
    "# UC on forced response\n",
    "################################\n",
    "calculate_forced_uc(metric = metric,\n",
    "                    submetric = False,\n",
    "                    submetric_var = False, \n",
    "                    poly = True,\n",
    "                    poly_path = poly_path,\n",
    "                    save_str = 'poly_response')\n",
    "\n",
    "calculate_forced_uc(metric = metric,\n",
    "                    submetric = False,\n",
    "                    submetric_var = False, \n",
    "                    poly = False,\n",
    "                    poly_path = poly_path,\n",
    "                    save_str = 'running_response')"
   ]
  },
  {
   "cell_type": "markdown",
   "id": "ed5a0e9b-be46-4700-a3c0-24b38ff7e175",
   "metadata": {
    "jp-MarkdownHeadingCollapsed": true,
    "tags": []
   },
   "source": [
    "## 5-day max (pr)"
   ]
  },
  {
   "cell_type": "code",
   "execution_count": 27,
   "id": "ceeeed90-ddec-431c-aa46-2abd608aae32",
   "metadata": {},
   "outputs": [],
   "source": [
    "metric = 'max5d'\n",
    "\n",
    "#######################################\n",
    "# Get the forced response (polynomial)\n",
    "#######################################\n",
    "get_forced_poly(nex_in, nex_models,\n",
    "                cil_in, cil_models, \n",
    "                isi_in, isi_models, \n",
    "                cbp_in, cbp_gard_precip_models, cbp_deep_models,\n",
    "                land_mask,\n",
    "                metric, False, False,\n",
    "                poly_path)\n",
    "\n",
    "# ####################################\n",
    "# # Interannual variability\n",
    "# ####################################\n",
    "calculate_iav(metric = metric,\n",
    "              submetric = False,\n",
    "              submetric_var = False,\n",
    "              poly = True,\n",
    "              poly_path = poly_path,\n",
    "              const_iav = True,\n",
    "              save_str = 'poly_response_const_iav')\n",
    "\n",
    "calculate_iav(metric = metric,\n",
    "              submetric = False,\n",
    "              submetric_var = False,\n",
    "              poly = True,\n",
    "              poly_path = poly_path,\n",
    "              const_iav = False,\n",
    "              save_str = 'poly_response_nonconst_iav')\n",
    "\n",
    "################################\n",
    "# UC on forced response\n",
    "################################\n",
    "calculate_forced_uc(metric = metric,\n",
    "                    submetric = False,\n",
    "                    submetric_var = False, \n",
    "                    poly = True,\n",
    "                    poly_path = poly_path,\n",
    "                    save_str = 'poly_response')\n",
    "\n",
    "calculate_forced_uc(metric = metric,\n",
    "                    submetric = False,\n",
    "                    submetric_var = False, \n",
    "                    poly = False,\n",
    "                    poly_path = poly_path,\n",
    "                    save_str = 'running_response')"
   ]
  },
  {
   "cell_type": "markdown",
   "id": "c26a85a3-825c-4964-87e4-9387da6ed0c1",
   "metadata": {
    "jp-MarkdownHeadingCollapsed": true,
    "tags": []
   },
   "source": [
    "## Dry days"
   ]
  },
  {
   "cell_type": "code",
   "execution_count": 28,
   "id": "ef59571a-64f4-4247-b3ae-1219c9d0fbd5",
   "metadata": {},
   "outputs": [],
   "source": [
    "metric = 'dry'\n",
    "\n",
    "#######################################\n",
    "# Get the forced response (polynomial)\n",
    "#######################################\n",
    "get_forced_poly(nex_in, nex_models,\n",
    "                cil_in, cil_models, \n",
    "                isi_in, isi_models, \n",
    "                cbp_in, cbp_gard_precip_models, cbp_deep_models,\n",
    "                land_mask,\n",
    "                metric, False, False,\n",
    "                poly_path)\n",
    "\n",
    "####################################\n",
    "# Interannual variability\n",
    "####################################\n",
    "calculate_iav(metric = metric,\n",
    "              submetric = False,\n",
    "              submetric_var = False,\n",
    "              poly = True,\n",
    "              poly_path = poly_path,\n",
    "              const_iav = True,\n",
    "              save_str = 'poly_response_const_iav')\n",
    "\n",
    "calculate_iav(metric = metric,\n",
    "              submetric = False,\n",
    "              submetric_var = False,\n",
    "              poly = True,\n",
    "              poly_path = poly_path,\n",
    "              const_iav = False,\n",
    "              save_str = 'poly_response_nonconst_iav')\n",
    "\n",
    "################################\n",
    "# UC on forced response\n",
    "################################\n",
    "calculate_forced_uc(metric = metric,\n",
    "                    submetric = False,\n",
    "                    submetric_var = False, \n",
    "                    poly = True,\n",
    "                    poly_path = poly_path,\n",
    "                    save_str = 'poly_response')\n",
    "\n",
    "calculate_forced_uc(metric = metric,\n",
    "                    submetric = False,\n",
    "                    submetric_var = False, \n",
    "                    poly = False,\n",
    "                    poly_path = poly_path,\n",
    "                    save_str = 'running_response')"
   ]
  },
  {
   "cell_type": "markdown",
   "id": "f0fe7be4-f502-4292-a202-ef3652d0ee13",
   "metadata": {
    "tags": []
   },
   "source": [
    "## Wet days"
   ]
  },
  {
   "cell_type": "markdown",
   "id": "906c0e67-9e3a-4dee-92d9-cb984acfd64f",
   "metadata": {
    "jp-MarkdownHeadingCollapsed": true,
    "tags": []
   },
   "source": [
    "### q99 GMFD"
   ]
  },
  {
   "cell_type": "code",
   "execution_count": 25,
   "id": "0cf7b907-ba27-4b59-b917-6fe1f87432de",
   "metadata": {},
   "outputs": [],
   "source": [
    "metric = 'wet'\n",
    "submetric = ['pr_q99gmfd_count', 'pr_q99gmfd_streak']\n",
    "\n",
    "#######################################\n",
    "# Get the forced response (polynomial)\n",
    "#######################################\n",
    "get_forced_poly(nex_in, nex_models,\n",
    "                cil_in, cil_models, \n",
    "                isi_in, isi_models, \n",
    "                cbp_in, cbp_gard_precip_models, cbp_deep_models,\n",
    "                land_mask,\n",
    "                metric, submetric, False,\n",
    "                poly_path)\n",
    "\n",
    "####################################\n",
    "# Interannual variability\n",
    "####################################\n",
    "calculate_iav(metric = metric,\n",
    "              submetric = submetric,\n",
    "              submetric_var = False,\n",
    "              poly = True,\n",
    "              poly_path = poly_path,\n",
    "              const_iav = True,\n",
    "              save_str = 'pr_q99gmfd_poly_response_const_iav')\n",
    "\n",
    "calculate_iav(metric = metric,\n",
    "              submetric = submetric,\n",
    "              submetric_var = False,\n",
    "              poly = True,\n",
    "              poly_path = poly_path,\n",
    "              const_iav = False,\n",
    "              save_str = 'pr_q99gmfd_poly_response_nonconst_iav')\n",
    "\n",
    "################################\n",
    "# UC on forced response\n",
    "################################\n",
    "calculate_forced_uc(metric = metric,\n",
    "                    submetric = submetric,\n",
    "                    submetric_var = False, \n",
    "                    poly = True,\n",
    "                    poly_path = poly_path,\n",
    "                    save_str = 'pr_q99gmfd_poly_response')\n",
    "\n",
    "calculate_forced_uc(metric = metric,\n",
    "                    submetric = submetric,\n",
    "                    submetric_var = False, \n",
    "                    poly = False,\n",
    "                    poly_path = poly_path,\n",
    "                    save_str = 'pr_q99gmfd_running_response')"
   ]
  },
  {
   "cell_type": "markdown",
   "id": "180522fb-176d-4680-93d9-8b91287edaad",
   "metadata": {
    "jp-MarkdownHeadingCollapsed": true,
    "tags": []
   },
   "source": [
    "### q99 ERA5"
   ]
  },
  {
   "cell_type": "code",
   "execution_count": 18,
   "id": "45294276-21cb-49d3-9453-b495397aad6a",
   "metadata": {},
   "outputs": [
    {
     "name": "stdout",
     "output_type": "stream",
     "text": [
      "CPU times: user 1min 56s, sys: 9.05 s, total: 2min 5s\n",
      "Wall time: 9min 43s\n"
     ]
    }
   ],
   "source": [
    "%%time \n",
    "\n",
    "metric = 'wet'\n",
    "submetric = ['pr_q99era5_count', 'pr_q99era5_streak']\n",
    "\n",
    "#######################################\n",
    "# Get the forced response (polynomial)\n",
    "#######################################\n",
    "# get_forced_poly(nex_in, nex_models,\n",
    "#                 cil_in, cil_models, \n",
    "#                 isi_in, isi_models, \n",
    "#                 cbp_in, cbp_gard_precip_models, cbp_deep_models,\n",
    "#                 land_mask,\n",
    "#                 metric, submetric, False,\n",
    "#                 poly_path)\n",
    "\n",
    "####################################\n",
    "# Interannual variability\n",
    "####################################\n",
    "# calculate_iav(metric = metric,\n",
    "#               submetric = submetric,\n",
    "#               submetric_var = False,\n",
    "#               poly = True,\n",
    "#               poly_path = poly_path,\n",
    "#               const_iav = True,\n",
    "#               save_str = 'pr_q99era5_poly_response_const_iav')\n",
    "\n",
    "# calculate_iav(metric = metric,\n",
    "#               submetric = submetric,\n",
    "#               submetric_var = False,\n",
    "#               poly = True,\n",
    "#               poly_path = poly_path,\n",
    "#               const_iav = False,\n",
    "#               save_str = 'pr_q99era5_poly_response_nonconst_iav')\n",
    "\n",
    "################################\n",
    "# UC on forced response\n",
    "################################\n",
    "# calculate_forced_uc(metric = metric,\n",
    "#                     submetric = submetric,\n",
    "#                     submetric_var = False, \n",
    "#                     poly = True,\n",
    "#                     poly_path = poly_path,\n",
    "#                     save_str = 'pr_q99era5_poly_response')\n",
    "\n",
    "calculate_forced_uc(metric = metric,\n",
    "                    submetric = submetric,\n",
    "                    submetric_var = False, \n",
    "                    poly = False,\n",
    "                    poly_path = poly_path,\n",
    "                    save_str = 'pr_q99era5_running_response')"
   ]
  },
  {
   "cell_type": "markdown",
   "id": "bbfa8f6f-b1ef-44e0-a31d-0abb5721a631",
   "metadata": {
    "tags": []
   },
   "source": [
    "## Hot days"
   ]
  },
  {
   "cell_type": "markdown",
   "id": "7a5c39e2-0f7a-4db3-8315-af9f89ce7e2b",
   "metadata": {
    "tags": []
   },
   "source": [
    "### Tasmax GMFD q99"
   ]
  },
  {
   "cell_type": "code",
   "execution_count": 41,
   "id": "30cd6e7f-731c-4ee7-b13f-c135d378c3f8",
   "metadata": {},
   "outputs": [
    {
     "name": "stdout",
     "output_type": "stream",
     "text": [
      "CPU times: user 4min 40s, sys: 36.5 s, total: 5min 17s\n",
      "Wall time: 20min 20s\n"
     ]
    }
   ],
   "source": [
    "%%time\n",
    "\n",
    "metric = 'hot'\n",
    "submetric = ['tasmax_q99gmfd_count', 'tasmax_q99gmfd_streak']\n",
    "submetric_var = 'tasmax'\n",
    "\n",
    "#######################################\n",
    "# Get the forced response (polynomial)\n",
    "#######################################\n",
    "# get_forced_poly(nex_in, nex_models,\n",
    "#                 cil_in, cil_models, \n",
    "#                 isi_in, isi_models, \n",
    "#                 cbp_in, cbp_gard_models, cbp_deep_models,\n",
    "#                 land_mask,\n",
    "#                 metric, submetric, submetric_var,\n",
    "#                 poly_path)\n",
    "\n",
    "####################################\n",
    "# Interannual variability\n",
    "####################################\n",
    "calculate_iav(metric = metric,\n",
    "              submetric = submetric,\n",
    "              submetric_var = submetric_var,\n",
    "              poly = True,\n",
    "              poly_path = poly_path,\n",
    "              const_iav = True,\n",
    "              save_str = 'tasmax_q99gmfd_poly_response_const_iav')\n",
    "\n",
    "calculate_iav(metric = metric,\n",
    "              submetric = submetric,\n",
    "              submetric_var = submetric_var,\n",
    "              poly = True,\n",
    "              poly_path = poly_path,\n",
    "              const_iav = False,\n",
    "              save_str = 'tasmax_q99gmfd_poly_response_nonconst_iav')\n",
    "\n",
    "################################\n",
    "# UC on forced response\n",
    "################################\n",
    "calculate_forced_uc(metric = metric,\n",
    "                    submetric = submetric,\n",
    "                    submetric_var = submetric_var, \n",
    "                    poly = True,\n",
    "                    poly_path = poly_path,\n",
    "                    save_str = 'tasmax_q99gmfd_poly_response')\n",
    "\n",
    "calculate_forced_uc(metric = metric,\n",
    "                    submetric = submetric,\n",
    "                    submetric_var = submetric_var, \n",
    "                    poly = False,\n",
    "                    poly_path = poly_path,\n",
    "                    save_str = 'tasmax_q99gmfd_running_response')"
   ]
  },
  {
   "cell_type": "markdown",
   "id": "af21b027-ec55-4b33-8358-744f7b13d4f0",
   "metadata": {
    "jp-MarkdownHeadingCollapsed": true,
    "tags": []
   },
   "source": [
    "### Tas GMFD q99"
   ]
  },
  {
   "cell_type": "code",
   "execution_count": 12,
   "id": "6e748830-0ff9-4fb9-980d-8a016eb91245",
   "metadata": {},
   "outputs": [],
   "source": [
    "metric = 'hot'\n",
    "submetric = ['tas_q99gmfd_count', 'tas_q99gmfd_streak']\n",
    "submetric_var = 'tas'\n",
    "\n",
    "#######################################\n",
    "# Get the forced response (polynomial)\n",
    "#######################################\n",
    "# get_forced_poly(nex_in, nex_models,\n",
    "#                 cil_in, cil_models, \n",
    "#                 isi_in, isi_models, \n",
    "#                 cbp_in, cbp_gard_models, cbp_deep_models,\n",
    "#                 land_mask,\n",
    "#                 metric, submetric, submetric_var,\n",
    "#                 poly_path)\n",
    "\n",
    "####################################\n",
    "# Interannual variability\n",
    "####################################\n",
    "calculate_iav(metric = metric,\n",
    "              submetric = submetric,\n",
    "              submetric_var = submetric_var,\n",
    "              poly = True,\n",
    "              poly_path = poly_path,\n",
    "              const_iav = True,\n",
    "              save_str = 'tas_q99gmfd_poly_response_const_iav')\n",
    "\n",
    "calculate_iav(metric = metric,\n",
    "              submetric = submetric,\n",
    "              submetric_var = submetric_var,\n",
    "              poly = True,\n",
    "              poly_path = poly_path,\n",
    "              const_iav = False,\n",
    "              save_str = 'tas_q99gmfd_poly_response_nonconst_iav')\n",
    "\n",
    "################################\n",
    "# UC on forced response\n",
    "################################\n",
    "calculate_forced_uc(metric = metric,\n",
    "                    submetric = submetric,\n",
    "                    submetric_var = submetric_var, \n",
    "                    poly = True,\n",
    "                    poly_path = poly_path,\n",
    "                    save_str = 'tas_q99gmfd_poly_response')\n",
    "\n",
    "calculate_forced_uc(metric = metric,\n",
    "                    submetric = submetric,\n",
    "                    submetric_var = submetric_var, \n",
    "                    poly = False,\n",
    "                    poly_path = poly_path,\n",
    "                    save_str = 'tas_q99gmfd_running_response')"
   ]
  },
  {
   "cell_type": "code",
   "execution_count": null,
   "id": "b15f719b-cf4a-43b0-8fbc-aa0c0aed25f9",
   "metadata": {},
   "outputs": [],
   "source": [
    "client.shutdown()"
   ]
  },
  {
   "cell_type": "code",
   "execution_count": null,
   "id": "26f2d26c-ac03-4448-ae14-f1467d207393",
   "metadata": {},
   "outputs": [],
   "source": []
  }
 ],
 "metadata": {
  "kernelspec": {
   "display_name": "Python 3 (ipykernel)",
   "language": "python",
   "name": "python3"
  },
  "language_info": {
   "codemirror_mode": {
    "name": "ipython",
    "version": 3
   },
   "file_extension": ".py",
   "mimetype": "text/x-python",
   "name": "python",
   "nbconvert_exporter": "python",
   "pygments_lexer": "ipython3",
   "version": "3.10.6"
  }
 },
 "nbformat": 4,
 "nbformat_minor": 5
}
