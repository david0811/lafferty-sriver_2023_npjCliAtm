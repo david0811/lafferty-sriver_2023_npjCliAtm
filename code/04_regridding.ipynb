{
 "cells": [
  {
   "cell_type": "code",
   "execution_count": 1,
   "id": "010dc88c-5348-4f20-b016-f5de6aa3121b",
   "metadata": {},
   "outputs": [],
   "source": [
    "import os\n",
    "\n",
    "import numpy as np\n",
    "import xarray as xr\n",
    "import xesmf as xe"
   ]
  },
  {
   "cell_type": "markdown",
   "id": "81b8ed81-95a9-403c-8b41-42a32cd4ef3e",
   "metadata": {
    "tags": []
   },
   "source": [
    "## ISIMIP"
   ]
  },
  {
   "cell_type": "code",
   "execution_count": 3,
   "id": "c5c37df8-55fc-489e-afde-79a7727844ec",
   "metadata": {},
   "outputs": [],
   "source": [
    "# Set path\n",
    "# UPDATE THIS FOR REPRODUCTION\n",
    "path = (\n",
    "    \"/gpfs/group/kaf26/default/dcl5300/lafferty-sriver_inprep_tbh_DATA/metrics/isimip3b/\"  # location of ISIMIP metrics\n",
    ")"
   ]
  },
  {
   "cell_type": "code",
   "execution_count": 4,
   "id": "58d5daa4-1707-4460-bb82-9f833a5d74c2",
   "metadata": {},
   "outputs": [],
   "source": [
    "# Models\n",
    "from utils import isimip_ssp_dict\n",
    "\n",
    "models = list(isimip_ssp_dict.keys())"
   ]
  },
  {
   "cell_type": "code",
   "execution_count": 5,
   "id": "f6a76880-0928-4757-a9c1-cbb80b538da3",
   "metadata": {},
   "outputs": [],
   "source": [
    "# All metrics are regridded to NEX-GDDP grid (same as CIL)\n",
    "out_grid = xr.open_dataset(\n",
    "    \"/gpfs/group/kaf26/default/dcl5300/lafferty-sriver_inprep_tbh_DATA/metrics/nex-gddp/avg/CanESM5.nc\"\n",
    ")\n",
    "\n",
    "out_grid = xr.Dataset({\"lat\": out_grid.lat, \"lon\": out_grid.lon})"
   ]
  },
  {
   "cell_type": "code",
   "execution_count": 6,
   "id": "7c6d3264-9281-41c6-8285-70e139a076d1",
   "metadata": {},
   "outputs": [],
   "source": [
    "# Regridding function\n",
    "def regrid(model, out_grid, out_path, metric):\n",
    "    # Read native grid\n",
    "    ds = xr.open_dataset(out_path + \"native_grid/\" + metric + \"/\" + model + \".nc\")\n",
    "\n",
    "    # Conservative regridder from xESMF\n",
    "    cons_regridder = xe.Regridder(ds, out_grid, \"conservative\", periodic=True)\n",
    "    ds_cons = cons_regridder(ds)\n",
    "\n",
    "    # Store\n",
    "    ds_cons.to_netcdf(out_path + \"regridded/conservative/\" + metric + \"/\" + model + \".nc\")"
   ]
  },
  {
   "cell_type": "code",
   "execution_count": 7,
   "id": "6dcc3b48-d484-4555-8a28-c954c7fa49c8",
   "metadata": {},
   "outputs": [
    {
     "name": "stdout",
     "output_type": "stream",
     "text": [
      "CanESM5 max5d\n",
      "CNRM-CM6-1 max5d\n",
      "CNRM-ESM2-1 max5d\n",
      "EC-Earth3 max5d\n",
      "GFDL-ESM4 max5d\n",
      "IPSL-CM6A-LR max5d\n",
      "MIROC6 max5d\n",
      "MPI-ESM1-2-HR max5d\n",
      "MRI-ESM2-0 max5d\n",
      "UKESM1-0-LL max5d\n",
      "CPU times: user 9min 9s, sys: 1min 2s, total: 10min 11s\n",
      "Wall time: 10min 31s\n"
     ]
    }
   ],
   "source": [
    "%%time\n",
    "# All metrics\n",
    "for metric in [\"avg\", \"max\", \"dry\", \"wet\", \"max5d\", \"hotdry\"]:\n",
    "    for model in models:\n",
    "        # Check if already exists\n",
    "        if os.path.isfile(path + \"regridded/conservative/\" + metric + \"/\" + model + \".nc\"):\n",
    "            # print(model + ' ' + metric + ' already done')\n",
    "            continue\n",
    "\n",
    "        # If not, regrid\n",
    "        regrid(model, out_grid, path, metric)\n",
    "        print(model + \" \" + metric)\n",
    "\n",
    "# 'hot' slightly different\n",
    "metric = \"hot\"\n",
    "for var_id in [\"tasmin\", \"tasmax\", \"tas\"]:\n",
    "    for model in models:\n",
    "        model_var = model + \"_\" + var_id\n",
    "        # Check if already exists\n",
    "        if os.path.isfile(path + \"regridded/conservative/\" + metric + \"/\" + model_var + \".nc\"):\n",
    "            # print(model + ' ' + metric + ' ' + var_id + ' already done')\n",
    "            continue\n",
    "\n",
    "        # If not, regrid\n",
    "        print(model + \" \" + metric + \" \" + var_id)\n",
    "        regrid(model_var, out_grid, path, metric)"
   ]
  },
  {
   "cell_type": "markdown",
   "id": "eb38ba1f-4906-4ad0-818d-d6b190035716",
   "metadata": {
    "tags": []
   },
   "source": [
    "## GARD-SV (carbonplan)"
   ]
  },
  {
   "cell_type": "code",
   "execution_count": 2,
   "id": "714e4a5d-b105-4755-b911-7778dc278465",
   "metadata": {},
   "outputs": [],
   "source": [
    "# Set paths\n",
    "# UPDATE THIS FOR REPRODUCTION\n",
    "path = \"/gpfs/group/kaf26/default/dcl5300/lafferty-sriver_inprep_tbh_DATA/metrics/carbonplan/\"  # location of carbonplan metrics"
   ]
  },
  {
   "cell_type": "code",
   "execution_count": 3,
   "id": "1e5a9668-a8c8-4dc2-ba81-bc2aefd30694",
   "metadata": {},
   "outputs": [],
   "source": [
    "# Models\n",
    "from utils import gardsv_ssp_dict, gardsv_var_dict\n",
    "\n",
    "models = list(gardsv_ssp_dict.keys())"
   ]
  },
  {
   "cell_type": "code",
   "execution_count": 4,
   "id": "ac7d70a3-b5e6-4b0b-a55c-834d653d6a82",
   "metadata": {},
   "outputs": [],
   "source": [
    "# All metrics are regridded to NEX-GDDP grid (same as CIL)\n",
    "out_grid = xr.open_dataset(\n",
    "    \"/gpfs/group/kaf26/default/dcl5300/lafferty-sriver_inprep_tbh_DATA/metrics/nex-gddp/avg/CanESM5.nc\"\n",
    ")\n",
    "\n",
    "out_grid = xr.Dataset({\"lat\": out_grid.lat, \"lon\": out_grid.lon})"
   ]
  },
  {
   "cell_type": "code",
   "execution_count": 6,
   "id": "baf7c8f9-e2ed-4dc2-a162-25805d1c8f95",
   "metadata": {},
   "outputs": [],
   "source": [
    "# Regridding function\n",
    "def regrid(model, out_grid, path, metric, var_id):\n",
    "    # Read native grid\n",
    "    ds = xr.open_dataset(path + \"native_grid/GARD-SV/\" + metric + \"/\" + model, engine=\"zarr\")\n",
    "\n",
    "    if var_id:\n",
    "        ds = ds[[var for var in list(ds.data_vars) if var.split(\"_\")[0] == var_id]]\n",
    "\n",
    "    # Conservative regridder from xESMF\n",
    "    cons_regridder = xe.Regridder(ds, out_grid, \"conservative\", periodic=True)\n",
    "    ds_cons = cons_regridder(ds)\n",
    "\n",
    "    # Store\n",
    "    if var_id:\n",
    "        ds_cons.to_netcdf(path + \"regridded/conservative/GARD-SV/\" + metric + \"/\" + model + \"_\" + var_id + \".nc\")\n",
    "    else:\n",
    "        ds_cons.to_netcdf(path + \"regridded/conservative/GARD-SV/\" + metric + \"/\" + model + \".nc\")"
   ]
  },
  {
   "cell_type": "code",
   "execution_count": 8,
   "id": "01edfe87-0333-4706-ba61-de48e0962679",
   "metadata": {},
   "outputs": [
    {
     "name": "stderr",
     "output_type": "stream",
     "text": [
      "/storage/work/d/dcl5300/ENVS/micromamba/envs/climate-stack-mamba-2023-01/lib/python3.10/site-packages/xesmf/backend.py:56: UserWarning: Latitude is outside of [-90, 90]\n",
      "  warnings.warn('Latitude is outside of [-90, 90]')\n"
     ]
    },
    {
     "name": "stdout",
     "output_type": "stream",
     "text": [
      "BCC-CSM2-MR max5d\n"
     ]
    },
    {
     "name": "stderr",
     "output_type": "stream",
     "text": [
      "/storage/work/d/dcl5300/ENVS/micromamba/envs/climate-stack-mamba-2023-01/lib/python3.10/site-packages/xesmf/backend.py:56: UserWarning: Latitude is outside of [-90, 90]\n",
      "  warnings.warn('Latitude is outside of [-90, 90]')\n"
     ]
    },
    {
     "name": "stdout",
     "output_type": "stream",
     "text": [
      "MIROC6 max5d\n",
      "CPU times: user 3min 33s, sys: 16.6 s, total: 3min 50s\n",
      "Wall time: 4min\n"
     ]
    }
   ],
   "source": [
    "%%time\n",
    "# All metrics\n",
    "# WARNING: requires around 70GB RAM for hot and wet metrics\n",
    "for metric in [\"avg\", \"max\", \"dry\", \"wet\", \"max5d\", \"hotdry\"]:\n",
    "    for model in models:\n",
    "        # Some models missing pr\n",
    "        if (metric in [\"dry\", \"wet\", \"hotdry\"]) and (\"pr\" in gardsv_var_dict[model]):\n",
    "            # Check if already exists\n",
    "            if os.path.isfile(path + \"regridded/conservative/GARD-SV/\" + metric + \"/\" + model + \".nc\"):\n",
    "                continue\n",
    "\n",
    "            # Regrid\n",
    "            regrid(model, out_grid, path, metric, False)\n",
    "            print(model + \" \" + metric)\n",
    "\n",
    "        elif metric not in [\"dry\", \"wet\", \"hotdry\"]:\n",
    "            # Check if already exists\n",
    "            if os.path.isfile(path + \"regridded/conservative/GARD-SV/\" + metric + \"/\" + model + \".nc\"):\n",
    "                continue\n",
    "\n",
    "            # Regrid\n",
    "            regrid(model, out_grid, path, metric, False)\n",
    "            print(model + \" \" + metric)"
   ]
  },
  {
   "cell_type": "code",
   "execution_count": 15,
   "id": "d0a81c19-9576-42f3-aeac-a943943cec74",
   "metadata": {},
   "outputs": [
    {
     "name": "stderr",
     "output_type": "stream",
     "text": [
      "/storage/work/d/dcl5300/ENVS/micromamba/envs/climate-stack-mamba-2022-11-1/lib/python3.10/site-packages/xesmf/backend.py:53: UserWarning: Latitude is outside of [-90, 90]\n",
      "  warnings.warn('Latitude is outside of [-90, 90]')\n"
     ]
    },
    {
     "name": "stdout",
     "output_type": "stream",
     "text": [
      "BCC-CSM2-MR hot\n"
     ]
    },
    {
     "name": "stderr",
     "output_type": "stream",
     "text": [
      "/storage/work/d/dcl5300/ENVS/micromamba/envs/climate-stack-mamba-2022-11-1/lib/python3.10/site-packages/xesmf/backend.py:53: UserWarning: Latitude is outside of [-90, 90]\n",
      "  warnings.warn('Latitude is outside of [-90, 90]')\n"
     ]
    },
    {
     "name": "stdout",
     "output_type": "stream",
     "text": [
      "BCC-CSM2-MR hot\n"
     ]
    },
    {
     "name": "stderr",
     "output_type": "stream",
     "text": [
      "/storage/work/d/dcl5300/ENVS/micromamba/envs/climate-stack-mamba-2022-11-1/lib/python3.10/site-packages/xesmf/backend.py:53: UserWarning: Latitude is outside of [-90, 90]\n",
      "  warnings.warn('Latitude is outside of [-90, 90]')\n"
     ]
    },
    {
     "name": "stdout",
     "output_type": "stream",
     "text": [
      "BCC-CSM2-MR hot\n"
     ]
    },
    {
     "name": "stderr",
     "output_type": "stream",
     "text": [
      "/storage/work/d/dcl5300/ENVS/micromamba/envs/climate-stack-mamba-2022-11-1/lib/python3.10/site-packages/xesmf/backend.py:53: UserWarning: Latitude is outside of [-90, 90]\n",
      "  warnings.warn('Latitude is outside of [-90, 90]')\n"
     ]
    },
    {
     "name": "stdout",
     "output_type": "stream",
     "text": [
      "CanESM5 hot\n"
     ]
    },
    {
     "name": "stderr",
     "output_type": "stream",
     "text": [
      "/storage/work/d/dcl5300/ENVS/micromamba/envs/climate-stack-mamba-2022-11-1/lib/python3.10/site-packages/xesmf/backend.py:53: UserWarning: Latitude is outside of [-90, 90]\n",
      "  warnings.warn('Latitude is outside of [-90, 90]')\n"
     ]
    },
    {
     "name": "stdout",
     "output_type": "stream",
     "text": [
      "CanESM5 hot\n"
     ]
    },
    {
     "name": "stderr",
     "output_type": "stream",
     "text": [
      "/storage/work/d/dcl5300/ENVS/micromamba/envs/climate-stack-mamba-2022-11-1/lib/python3.10/site-packages/xesmf/backend.py:53: UserWarning: Latitude is outside of [-90, 90]\n",
      "  warnings.warn('Latitude is outside of [-90, 90]')\n"
     ]
    },
    {
     "name": "stdout",
     "output_type": "stream",
     "text": [
      "CanESM5 hot\n"
     ]
    },
    {
     "name": "stderr",
     "output_type": "stream",
     "text": [
      "/storage/work/d/dcl5300/ENVS/micromamba/envs/climate-stack-mamba-2022-11-1/lib/python3.10/site-packages/xesmf/backend.py:53: UserWarning: Latitude is outside of [-90, 90]\n",
      "  warnings.warn('Latitude is outside of [-90, 90]')\n"
     ]
    },
    {
     "name": "stdout",
     "output_type": "stream",
     "text": [
      "MIROC6 hot\n"
     ]
    },
    {
     "name": "stderr",
     "output_type": "stream",
     "text": [
      "/storage/work/d/dcl5300/ENVS/micromamba/envs/climate-stack-mamba-2022-11-1/lib/python3.10/site-packages/xesmf/backend.py:53: UserWarning: Latitude is outside of [-90, 90]\n",
      "  warnings.warn('Latitude is outside of [-90, 90]')\n"
     ]
    },
    {
     "name": "stdout",
     "output_type": "stream",
     "text": [
      "MIROC6 hot\n"
     ]
    },
    {
     "name": "stderr",
     "output_type": "stream",
     "text": [
      "/storage/work/d/dcl5300/ENVS/micromamba/envs/climate-stack-mamba-2022-11-1/lib/python3.10/site-packages/xesmf/backend.py:53: UserWarning: Latitude is outside of [-90, 90]\n",
      "  warnings.warn('Latitude is outside of [-90, 90]')\n"
     ]
    },
    {
     "name": "stdout",
     "output_type": "stream",
     "text": [
      "MIROC6 hot\n"
     ]
    },
    {
     "name": "stderr",
     "output_type": "stream",
     "text": [
      "/storage/work/d/dcl5300/ENVS/micromamba/envs/climate-stack-mamba-2022-11-1/lib/python3.10/site-packages/xesmf/backend.py:53: UserWarning: Latitude is outside of [-90, 90]\n",
      "  warnings.warn('Latitude is outside of [-90, 90]')\n"
     ]
    },
    {
     "name": "stdout",
     "output_type": "stream",
     "text": [
      "MPI-ESM1-2-HR hot\n"
     ]
    },
    {
     "name": "stderr",
     "output_type": "stream",
     "text": [
      "/storage/work/d/dcl5300/ENVS/micromamba/envs/climate-stack-mamba-2022-11-1/lib/python3.10/site-packages/xesmf/backend.py:53: UserWarning: Latitude is outside of [-90, 90]\n",
      "  warnings.warn('Latitude is outside of [-90, 90]')\n"
     ]
    },
    {
     "name": "stdout",
     "output_type": "stream",
     "text": [
      "MPI-ESM1-2-HR hot\n"
     ]
    },
    {
     "name": "stderr",
     "output_type": "stream",
     "text": [
      "/storage/work/d/dcl5300/ENVS/micromamba/envs/climate-stack-mamba-2022-11-1/lib/python3.10/site-packages/xesmf/backend.py:53: UserWarning: Latitude is outside of [-90, 90]\n",
      "  warnings.warn('Latitude is outside of [-90, 90]')\n"
     ]
    },
    {
     "name": "stdout",
     "output_type": "stream",
     "text": [
      "MPI-ESM1-2-HR hot\n"
     ]
    }
   ],
   "source": [
    "# Need to split up hot metric for RAM\n",
    "metric = \"hot\"\n",
    "\n",
    "for model in models:\n",
    "    for var_id in [\"tas\", \"tasmin\", \"tasmax\"]:\n",
    "        # Check if already exists\n",
    "        if os.path.isfile(path + \"regridded/conservative/GARD-SV/\" + metric + \"/\" + model + \"_\" + var_id + \".nc\"):\n",
    "            continue\n",
    "\n",
    "        # Regrid\n",
    "        regrid(model, out_grid, path, metric, var_id)\n",
    "        print(model + \" \" + metric)"
   ]
  },
  {
   "cell_type": "code",
   "execution_count": null,
   "id": "01002d25-7e5a-4bf9-8f7c-64280b2c5f62",
   "metadata": {},
   "outputs": [],
   "source": []
  }
 ],
 "metadata": {
  "kernelspec": {
   "display_name": "Python 3 (ipykernel)",
   "language": "python",
   "name": "python3"
  },
  "language_info": {
   "codemirror_mode": {
    "name": "ipython",
    "version": 3
   },
   "file_extension": ".py",
   "mimetype": "text/x-python",
   "name": "python",
   "nbconvert_exporter": "python",
   "pygments_lexer": "ipython3",
   "version": "3.10.8"
  }
 },
 "nbformat": 4,
 "nbformat_minor": 5
}
