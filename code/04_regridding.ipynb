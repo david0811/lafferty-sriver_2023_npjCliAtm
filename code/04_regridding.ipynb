{
 "cells": [
  {
   "cell_type": "code",
   "execution_count": 1,
   "id": "010dc88c-5348-4f20-b016-f5de6aa3121b",
   "metadata": {},
   "outputs": [],
   "source": [
    "import numpy as np\n",
    "import xarray as xr\n",
    "import dask\n",
    "import xesmf as xe\n",
    "import os"
   ]
  },
  {
   "cell_type": "markdown",
   "id": "8527e008-f356-43f0-bd69-e949bbc5afed",
   "metadata": {
    "jp-MarkdownHeadingCollapsed": true,
    "tags": []
   },
   "source": [
    "### Preliminaries"
   ]
  },
  {
   "cell_type": "code",
   "execution_count": 2,
   "id": "f418bb08-2ee8-4156-89cb-4f459c5e9d86",
   "metadata": {},
   "outputs": [
    {
     "data": {
      "text/html": [
       "<div>\n",
       "    <div style=\"width: 24px; height: 24px; background-color: #e1e1e1; border: 3px solid #9D9D9D; border-radius: 5px; position: absolute;\"> </div>\n",
       "    <div style=\"margin-left: 48px;\">\n",
       "        <h3 style=\"margin-bottom: 0px;\">Client</h3>\n",
       "        <p style=\"color: #9D9D9D; margin-bottom: 0px;\">Client-80421602-6443-11ed-9787-74e6e27321fd</p>\n",
       "        <table style=\"width: 100%; text-align: left;\">\n",
       "\n",
       "        <tr>\n",
       "        \n",
       "            <td style=\"text-align: left;\"><strong>Connection method:</strong> Cluster object</td>\n",
       "            <td style=\"text-align: left;\"><strong>Cluster type:</strong> dask_jobqueue.PBSCluster</td>\n",
       "        \n",
       "        </tr>\n",
       "\n",
       "        \n",
       "            <tr>\n",
       "                <td style=\"text-align: left;\">\n",
       "                    <strong>Dashboard: </strong> <a href=\"/proxy/8787/status\" target=\"_blank\">/proxy/8787/status</a>\n",
       "                </td>\n",
       "                <td style=\"text-align: left;\"></td>\n",
       "            </tr>\n",
       "        \n",
       "\n",
       "        </table>\n",
       "\n",
       "        \n",
       "            <details>\n",
       "            <summary style=\"margin-bottom: 20px;\"><h3 style=\"display: inline;\">Cluster Info</h3></summary>\n",
       "            <div class=\"jp-RenderedHTMLCommon jp-RenderedHTML jp-mod-trusted jp-OutputArea-output\">\n",
       "    <div style=\"width: 24px; height: 24px; background-color: #e1e1e1; border: 3px solid #9D9D9D; border-radius: 5px; position: absolute;\">\n",
       "    </div>\n",
       "    <div style=\"margin-left: 48px;\">\n",
       "        <h3 style=\"margin-bottom: 0px; margin-top: 0px;\">PBSCluster</h3>\n",
       "        <p style=\"color: #9D9D9D; margin-bottom: 0px;\">82bc5345</p>\n",
       "        <table style=\"width: 100%; text-align: left;\">\n",
       "            <tr>\n",
       "                <td style=\"text-align: left;\">\n",
       "                    <strong>Dashboard:</strong> <a href=\"/proxy/8787/status\" target=\"_blank\">/proxy/8787/status</a>\n",
       "                </td>\n",
       "                <td style=\"text-align: left;\">\n",
       "                    <strong>Workers:</strong> 0\n",
       "                </td>\n",
       "            </tr>\n",
       "            <tr>\n",
       "                <td style=\"text-align: left;\">\n",
       "                    <strong>Total threads:</strong> 0\n",
       "                </td>\n",
       "                <td style=\"text-align: left;\">\n",
       "                    <strong>Total memory:</strong> 0 B\n",
       "                </td>\n",
       "            </tr>\n",
       "            \n",
       "        </table>\n",
       "\n",
       "        <details>\n",
       "            <summary style=\"margin-bottom: 20px;\">\n",
       "                <h3 style=\"display: inline;\">Scheduler Info</h3>\n",
       "            </summary>\n",
       "\n",
       "            <div style=\"\">\n",
       "    <div>\n",
       "        <div style=\"width: 24px; height: 24px; background-color: #FFF7E5; border: 3px solid #FF6132; border-radius: 5px; position: absolute;\"> </div>\n",
       "        <div style=\"margin-left: 48px;\">\n",
       "            <h3 style=\"margin-bottom: 0px;\">Scheduler</h3>\n",
       "            <p style=\"color: #9D9D9D; margin-bottom: 0px;\">Scheduler-87b6ad09-f1a9-43ab-a1ec-15f38476444f</p>\n",
       "            <table style=\"width: 100%; text-align: left;\">\n",
       "                <tr>\n",
       "                    <td style=\"text-align: left;\">\n",
       "                        <strong>Comm:</strong> tcp://10.102.201.205:33943\n",
       "                    </td>\n",
       "                    <td style=\"text-align: left;\">\n",
       "                        <strong>Workers:</strong> 0\n",
       "                    </td>\n",
       "                </tr>\n",
       "                <tr>\n",
       "                    <td style=\"text-align: left;\">\n",
       "                        <strong>Dashboard:</strong> <a href=\"/proxy/8787/status\" target=\"_blank\">/proxy/8787/status</a>\n",
       "                    </td>\n",
       "                    <td style=\"text-align: left;\">\n",
       "                        <strong>Total threads:</strong> 0\n",
       "                    </td>\n",
       "                </tr>\n",
       "                <tr>\n",
       "                    <td style=\"text-align: left;\">\n",
       "                        <strong>Started:</strong> Just now\n",
       "                    </td>\n",
       "                    <td style=\"text-align: left;\">\n",
       "                        <strong>Total memory:</strong> 0 B\n",
       "                    </td>\n",
       "                </tr>\n",
       "            </table>\n",
       "        </div>\n",
       "    </div>\n",
       "\n",
       "    <details style=\"margin-left: 48px;\">\n",
       "        <summary style=\"margin-bottom: 20px;\">\n",
       "            <h3 style=\"display: inline;\">Workers</h3>\n",
       "        </summary>\n",
       "\n",
       "        \n",
       "\n",
       "    </details>\n",
       "</div>\n",
       "\n",
       "        </details>\n",
       "    </div>\n",
       "</div>\n",
       "            </details>\n",
       "        \n",
       "\n",
       "    </div>\n",
       "</div>"
      ],
      "text/plain": [
       "<Client: 'tcp://10.102.201.205:33943' processes=0 threads=0, memory=0 B>"
      ]
     },
     "execution_count": 2,
     "metadata": {},
     "output_type": "execute_result"
    }
   ],
   "source": [
    "############\n",
    "# Dask\n",
    "############\n",
    "from dask_jobqueue import PBSCluster\n",
    "cluster = PBSCluster(cores=1, resource_spec='pmem=50GB', memory='50GB',\n",
    "                     worker_extra_args= ['#PBS -l feature=rhel7'],\n",
    "                     walltime = '00:30:00')\n",
    "\n",
    "cluster.scale(jobs=4)  # ask for jobs\n",
    "\n",
    "from dask.distributed import Client\n",
    "client = Client(cluster)\n",
    "\n",
    "client"
   ]
  },
  {
   "cell_type": "markdown",
   "id": "81b8ed81-95a9-403c-8b41-42a32cd4ef3e",
   "metadata": {
    "tags": []
   },
   "source": [
    "## ISIMIP"
   ]
  },
  {
   "cell_type": "code",
   "execution_count": 2,
   "id": "c5c37df8-55fc-489e-afde-79a7727844ec",
   "metadata": {},
   "outputs": [],
   "source": [
    "# Set path\n",
    "# UPDATE THIS FOR REPRODUCTION\n",
    "path = '/gpfs/group/kaf26/default/dcl5300/lafferty-sriver_inprep_tbh_DATA/metrics/isimip3b/'"
   ]
  },
  {
   "cell_type": "code",
   "execution_count": 3,
   "id": "58d5daa4-1707-4460-bb82-9f833a5d74c2",
   "metadata": {},
   "outputs": [],
   "source": [
    "# Models\n",
    "from utils import isimip_ssp_dict\n",
    "\n",
    "models = list(isimip_ssp_dict.keys())"
   ]
  },
  {
   "cell_type": "code",
   "execution_count": 4,
   "id": "f6a76880-0928-4757-a9c1-cbb80b538da3",
   "metadata": {},
   "outputs": [],
   "source": [
    "# NEX-GDDP out grid (same as CIL)\n",
    "out_grid = xr.open_dataset('/gpfs/group/kaf26/default/dcl5300/lafferty-sriver_inprep_tbh_DATA/metrics/nex-gddp/avg/CanESM5.nc')\n",
    "\n",
    "out_grid = xr.Dataset({'lat': out_grid.lat,\n",
    "                       'lon': out_grid.lon})"
   ]
  },
  {
   "cell_type": "code",
   "execution_count": 5,
   "id": "7c6d3264-9281-41c6-8285-70e139a076d1",
   "metadata": {},
   "outputs": [],
   "source": [
    "# Regridding function\n",
    "def regrid(model, out_grid, out_path, metric):\n",
    "    # Read native grid\n",
    "    ds = xr.open_dataset(out_path + 'native_grid/' + metric + '/' + model + '.nc')\n",
    "    \n",
    "    # Conservative regridder from xESMF\n",
    "    cons_regridder = xe.Regridder(ds, out_grid, 'conservative', periodic=True)\n",
    "    ds_cons = cons_regridder(ds)\n",
    "    \n",
    "    # Store\n",
    "    ds_cons.to_netcdf(out_path + 'regridded/conservative/' + metric + '/' + model + '.nc')"
   ]
  },
  {
   "cell_type": "code",
   "execution_count": 7,
   "id": "6dcc3b48-d484-4555-8a28-c954c7fa49c8",
   "metadata": {},
   "outputs": [
    {
     "name": "stdout",
     "output_type": "stream",
     "text": [
      "CanESM5 max5d\n",
      "CNRM-CM6-1 max5d\n",
      "CNRM-ESM2-1 max5d\n",
      "EC-Earth3 max5d\n",
      "GFDL-ESM4 max5d\n",
      "IPSL-CM6A-LR max5d\n",
      "MIROC6 max5d\n",
      "MPI-ESM1-2-HR max5d\n",
      "MRI-ESM2-0 max5d\n",
      "UKESM1-0-LL max5d\n",
      "CPU times: user 6min 38s, sys: 46.2 s, total: 7min 24s\n",
      "Wall time: 7min 31s\n"
     ]
    }
   ],
   "source": [
    "%%time\n",
    "# All metrics\n",
    "delayed_res = []\n",
    "\n",
    "for metric in ['avg', 'max', 'dry', 'wet', 'max5d']:\n",
    "    for model in models:\n",
    "        # Check if already exists\n",
    "        if os.path.isfile(path + 'regridded/conservative/' + metric + '/' + model + '.nc'):\n",
    "            continue\n",
    "    \n",
    "        # If not, regrid\n",
    "        regrid(model, out_grid, path, metric)\n",
    "        print(model + ' ' + metric)\n",
    "                \n",
    "# 'hot' slightly different\n",
    "metric = 'hot'\n",
    "for var_id in ['tasmin', 'tasmax']:\n",
    "    for model in models:\n",
    "        model_var = model + '_' + var_id\n",
    "        # Check if already exists\n",
    "        if os.path.isfile(path + 'regridded/conservative/' + metric + '/' + model_var + '.nc'):\n",
    "            continue\n",
    "    \n",
    "        # If not, regrid\n",
    "        regrid(model_var, out_grid, path, metric)\n",
    "        print(model + ' ' + metric)"
   ]
  },
  {
   "cell_type": "code",
   "execution_count": 22,
   "id": "93619610-6b2f-47f6-8cca-9bd15abaf53f",
   "metadata": {},
   "outputs": [
    {
     "name": "stdout",
     "output_type": "stream",
     "text": [
      "5\n",
      "CPU times: user 18.1 s, sys: 1.57 s, total: 19.7 s\n",
      "Wall time: 4min 17s\n"
     ]
    }
   ],
   "source": [
    "%%time\n",
    "# All metrics\n",
    "delayed_res = []\n",
    "\n",
    "for metric in ['avg', 'max', 'dry', 'wet']:\n",
    "    for model in models:\n",
    "        # Check if already exists\n",
    "        if os.path.isfile(path + 'regridded/conservative/' + metric + '/' + model + '.nc'):\n",
    "            continue\n",
    "    \n",
    "        # Dask to parallelize\n",
    "        delayed_res.append(dask.delayed(regrid)(model, out_grid, path, metric))\n",
    "                \n",
    "# 'hot' slightly different\n",
    "metric = 'hot'\n",
    "for var_id in ['tasmin', 'tasmax']:\n",
    "    for model in models:\n",
    "        model_var = model + '_' + var_id\n",
    "        # Check if already exists\n",
    "        if os.path.isfile(path + 'regridded/conservative/' + metric + '/' + model_var + '.nc'):\n",
    "            continue\n",
    "    \n",
    "        # Dask to parallelize\n",
    "        delayed_res.append(dask.delayed(regrid)(model_var, out_grid, path, metric))\n",
    "\n",
    "# Compute\n",
    "print(len(delayed_res))\n",
    "res = dask.compute(*delayed_res)"
   ]
  },
  {
   "cell_type": "markdown",
   "id": "eb38ba1f-4906-4ad0-818d-d6b190035716",
   "metadata": {},
   "source": [
    "## GARD-SV (carbonplan)"
   ]
  },
  {
   "cell_type": "code",
   "execution_count": 8,
   "id": "714e4a5d-b105-4755-b911-7778dc278465",
   "metadata": {},
   "outputs": [],
   "source": [
    "# Set paths\n",
    "# UPDATE THIS FOR REPRODUCTION\n",
    "path = '/gpfs/group/kaf26/default/dcl5300/lafferty-sriver_inprep_tbh_DATA/metrics/carbonplan/'"
   ]
  },
  {
   "cell_type": "code",
   "execution_count": 9,
   "id": "1e5a9668-a8c8-4dc2-ba81-bc2aefd30694",
   "metadata": {},
   "outputs": [],
   "source": [
    "# Models\n",
    "from utils import gardsv_ssp_dict, gardsv_var_dict\n",
    "\n",
    "models = list(gardsv_ssp_dict.keys())"
   ]
  },
  {
   "cell_type": "code",
   "execution_count": 10,
   "id": "ac7d70a3-b5e6-4b0b-a55c-834d653d6a82",
   "metadata": {},
   "outputs": [],
   "source": [
    "# NEX-GDDP out grid (same as CIL)\n",
    "out_grid = xr.open_dataset('/gpfs/group/kaf26/default/dcl5300/lafferty-sriver_inprep_tbh_DATA/metrics/nex-gddp/avg/CanESM5.nc')\n",
    "\n",
    "out_grid = xr.Dataset({'lat': out_grid.lat,\n",
    "                       'lon': out_grid.lon})"
   ]
  },
  {
   "cell_type": "code",
   "execution_count": 11,
   "id": "baf7c8f9-e2ed-4dc2-a162-25805d1c8f95",
   "metadata": {},
   "outputs": [],
   "source": [
    "# Regridding function\n",
    "def regrid(model, out_grid, path, metric):\n",
    "    # Read native grid\n",
    "    ds = xr.open_zarr(path + 'native_grid/GARD-SV/' + metric + '/' + model).load()\n",
    "    ds = ds.isel(member_id=0) # get rid of member_id\n",
    "    \n",
    "    # Conservative regridder from xESMF\n",
    "    cons_regridder = xe.Regridder(ds, out_grid, 'conservative', periodic=True)\n",
    "    ds_cons = cons_regridder(ds)\n",
    "    \n",
    "    # Store\n",
    "    ds_cons.to_netcdf(path + 'regridded/conservative/GARD-SV/' + metric + '/' + model + '.nc')"
   ]
  },
  {
   "cell_type": "code",
   "execution_count": 13,
   "id": "01edfe87-0333-4706-ba61-de48e0962679",
   "metadata": {},
   "outputs": [
    {
     "name": "stderr",
     "output_type": "stream",
     "text": [
      "/storage/work/d/dcl5300/ENVS/micromamba/envs/climate-stack-mamba-2022-11-1/lib/python3.10/site-packages/xesmf/backend.py:53: UserWarning: Latitude is outside of [-90, 90]\n",
      "  warnings.warn('Latitude is outside of [-90, 90]')\n"
     ]
    },
    {
     "name": "stdout",
     "output_type": "stream",
     "text": [
      "CanESM5 max5d\n"
     ]
    },
    {
     "name": "stderr",
     "output_type": "stream",
     "text": [
      "/storage/work/d/dcl5300/ENVS/micromamba/envs/climate-stack-mamba-2022-11-1/lib/python3.10/site-packages/xesmf/backend.py:53: UserWarning: Latitude is outside of [-90, 90]\n",
      "  warnings.warn('Latitude is outside of [-90, 90]')\n"
     ]
    },
    {
     "name": "stdout",
     "output_type": "stream",
     "text": [
      "MPI-ESM1-2-HR max5d\n",
      "CPU times: user 2min 29s, sys: 13.8 s, total: 2min 43s\n",
      "Wall time: 2min 46s\n"
     ]
    }
   ],
   "source": [
    "%%time\n",
    "# All metrics\n",
    "# WARNING: requires around 70GB RAM for hot and wet outputs\n",
    "for metric in ['avg', 'max', 'dry', 'hot', 'wet', 'max5d']:\n",
    "    for model in models:\n",
    "        # Some models missing pr\n",
    "        if (metric in ['dry', 'wet', 'max5d']) and ('pr' in gardsv_var_dict[model]):\n",
    "            # Check if already exists\n",
    "            if os.path.isfile(path + 'regridded/conservative/GARD-SV/' + metric + '/' + model + '.nc'):\n",
    "                continue\n",
    "    \n",
    "            # Regrid\n",
    "            regrid(model, out_grid, path, metric)\n",
    "            print(model + ' ' + metric)\n",
    "\n",
    "        elif metric not in ['dry', 'wet', 'max5d']:\n",
    "            # Check if already exists\n",
    "            if os.path.isfile(path + 'regridded/conservative/GARD-SV/' + metric + '/' + model + '.nc'):\n",
    "                continue\n",
    "    \n",
    "            # Regrid\n",
    "            regrid(model, out_grid, path, metric)\n",
    "            print(model + ' ' + metric)"
   ]
  },
  {
   "cell_type": "code",
   "execution_count": null,
   "id": "d0a81c19-9576-42f3-aeac-a943943cec74",
   "metadata": {},
   "outputs": [],
   "source": []
  },
  {
   "cell_type": "code",
   "execution_count": null,
   "id": "01002d25-7e5a-4bf9-8f7c-64280b2c5f62",
   "metadata": {},
   "outputs": [],
   "source": []
  }
 ],
 "metadata": {
  "kernelspec": {
   "display_name": "Python 3 (ipykernel)",
   "language": "python",
   "name": "python3"
  },
  "language_info": {
   "codemirror_mode": {
    "name": "ipython",
    "version": 3
   },
   "file_extension": ".py",
   "mimetype": "text/x-python",
   "name": "python",
   "nbconvert_exporter": "python",
   "pygments_lexer": "ipython3",
   "version": "3.10.6"
  }
 },
 "nbformat": 4,
 "nbformat_minor": 5
}
