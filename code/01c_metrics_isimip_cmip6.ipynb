{
 "cells": [
  {
   "cell_type": "code",
   "execution_count": 1,
   "id": "010dc88c-5348-4f20-b016-f5de6aa3121b",
   "metadata": {},
   "outputs": [],
   "source": [
    "import numpy as np\n",
    "import xarray as xr\n",
    "import dask\n",
    "import xesmf as xe\n",
    "import os\n",
    "from glob import glob"
   ]
  },
  {
   "cell_type": "markdown",
   "id": "8527e008-f356-43f0-bd69-e949bbc5afed",
   "metadata": {},
   "source": [
    "### Preliminaries"
   ]
  },
  {
   "cell_type": "code",
   "execution_count": 2,
   "id": "8dccce93-c392-4a92-b317-d9a37641eafe",
   "metadata": {},
   "outputs": [],
   "source": [
    "###############################\n",
    "# Set paths\n",
    "# UPDATE THIS FOR REPRODUCTION\n",
    "###############################\n",
    "in_path = '/gpfs/group/kaf26/default/dcl5300/ISIMIP3b_input_climate_data/files/'\n",
    "out_path = '/gpfs/group/kaf26/default/dcl5300/lafferty-sriver_inprep_tbh_DATA/metrics/isimip3b/'"
   ]
  },
  {
   "cell_type": "code",
   "execution_count": 3,
   "id": "88b6d653-0e6d-4d29-9d58-cf4e1f64334b",
   "metadata": {},
   "outputs": [],
   "source": [
    "###################\n",
    "# Models\n",
    "###################\n",
    "from utils import isimip_ssp_dict\n",
    "\n",
    "models = list(isimip_ssp_dict.keys())"
   ]
  },
  {
   "cell_type": "code",
   "execution_count": 4,
   "id": "07a2aab6-e052-453d-9a4a-2716cf141928",
   "metadata": {},
   "outputs": [],
   "source": [
    "####################\n",
    "# File year layout\n",
    "####################\n",
    "start_years = [2015] + [yr for yr in range(2021,2101,10)]\n",
    "year_steps = [5] + [9 for yr in range(2021,2101,10)]"
   ]
  },
  {
   "cell_type": "code",
   "execution_count": 5,
   "id": "13b1446d-4c58-433d-9472-033c67ee4087",
   "metadata": {},
   "outputs": [],
   "source": [
    "###################\n",
    "# Model details\n",
    "###################\n",
    "model_info = {}\n",
    "for model in models:\n",
    "    tmp = glob(in_path + model.lower() + '*_w5e5_ssp126_pr_global_daily_2015_2020.nc')\n",
    "    tmp = tmp[0].replace(in_path + model.lower() + '_', '').replace('_w5e5_ssp126_pr_global_daily_2015_2020.nc', '')\n",
    "    model_info.update({model: tmp})"
   ]
  },
  {
   "cell_type": "code",
   "execution_count": 6,
   "id": "f418bb08-2ee8-4156-89cb-4f459c5e9d86",
   "metadata": {},
   "outputs": [
    {
     "data": {
      "text/html": [
       "<div>\n",
       "    <div style=\"width: 24px; height: 24px; background-color: #e1e1e1; border: 3px solid #9D9D9D; border-radius: 5px; position: absolute;\"> </div>\n",
       "    <div style=\"margin-left: 48px;\">\n",
       "        <h3 style=\"margin-bottom: 0px;\">Client</h3>\n",
       "        <p style=\"color: #9D9D9D; margin-bottom: 0px;\">Client-b14d5396-56fa-11ed-9dc0-34e6d79eac77</p>\n",
       "        <table style=\"width: 100%; text-align: left;\">\n",
       "\n",
       "        <tr>\n",
       "        \n",
       "            <td style=\"text-align: left;\"><strong>Connection method:</strong> Cluster object</td>\n",
       "            <td style=\"text-align: left;\"><strong>Cluster type:</strong> dask_jobqueue.PBSCluster</td>\n",
       "        \n",
       "        </tr>\n",
       "\n",
       "        \n",
       "            <tr>\n",
       "                <td style=\"text-align: left;\">\n",
       "                    <strong>Dashboard: </strong> <a href=\"/proxy/8787/status\" target=\"_blank\">/proxy/8787/status</a>\n",
       "                </td>\n",
       "                <td style=\"text-align: left;\"></td>\n",
       "            </tr>\n",
       "        \n",
       "\n",
       "        </table>\n",
       "\n",
       "        \n",
       "            <details>\n",
       "            <summary style=\"margin-bottom: 20px;\"><h3 style=\"display: inline;\">Cluster Info</h3></summary>\n",
       "            <div class=\"jp-RenderedHTMLCommon jp-RenderedHTML jp-mod-trusted jp-OutputArea-output\">\n",
       "    <div style=\"width: 24px; height: 24px; background-color: #e1e1e1; border: 3px solid #9D9D9D; border-radius: 5px; position: absolute;\">\n",
       "    </div>\n",
       "    <div style=\"margin-left: 48px;\">\n",
       "        <h3 style=\"margin-bottom: 0px; margin-top: 0px;\">PBSCluster</h3>\n",
       "        <p style=\"color: #9D9D9D; margin-bottom: 0px;\">90ce36bc</p>\n",
       "        <table style=\"width: 100%; text-align: left;\">\n",
       "            <tr>\n",
       "                <td style=\"text-align: left;\">\n",
       "                    <strong>Dashboard:</strong> <a href=\"/proxy/8787/status\" target=\"_blank\">/proxy/8787/status</a>\n",
       "                </td>\n",
       "                <td style=\"text-align: left;\">\n",
       "                    <strong>Workers:</strong> 0\n",
       "                </td>\n",
       "            </tr>\n",
       "            <tr>\n",
       "                <td style=\"text-align: left;\">\n",
       "                    <strong>Total threads:</strong> 0\n",
       "                </td>\n",
       "                <td style=\"text-align: left;\">\n",
       "                    <strong>Total memory:</strong> 0 B\n",
       "                </td>\n",
       "            </tr>\n",
       "            \n",
       "        </table>\n",
       "\n",
       "        <details>\n",
       "            <summary style=\"margin-bottom: 20px;\">\n",
       "                <h3 style=\"display: inline;\">Scheduler Info</h3>\n",
       "            </summary>\n",
       "\n",
       "            <div style=\"\">\n",
       "    <div>\n",
       "        <div style=\"width: 24px; height: 24px; background-color: #FFF7E5; border: 3px solid #FF6132; border-radius: 5px; position: absolute;\"> </div>\n",
       "        <div style=\"margin-left: 48px;\">\n",
       "            <h3 style=\"margin-bottom: 0px;\">Scheduler</h3>\n",
       "            <p style=\"color: #9D9D9D; margin-bottom: 0px;\">Scheduler-bf5ccf5b-efb5-46ce-b21b-a7dc58c628a1</p>\n",
       "            <table style=\"width: 100%; text-align: left;\">\n",
       "                <tr>\n",
       "                    <td style=\"text-align: left;\">\n",
       "                        <strong>Comm:</strong> tcp://10.102.201.239:41890\n",
       "                    </td>\n",
       "                    <td style=\"text-align: left;\">\n",
       "                        <strong>Workers:</strong> 0\n",
       "                    </td>\n",
       "                </tr>\n",
       "                <tr>\n",
       "                    <td style=\"text-align: left;\">\n",
       "                        <strong>Dashboard:</strong> <a href=\"/proxy/8787/status\" target=\"_blank\">/proxy/8787/status</a>\n",
       "                    </td>\n",
       "                    <td style=\"text-align: left;\">\n",
       "                        <strong>Total threads:</strong> 0\n",
       "                    </td>\n",
       "                </tr>\n",
       "                <tr>\n",
       "                    <td style=\"text-align: left;\">\n",
       "                        <strong>Started:</strong> Just now\n",
       "                    </td>\n",
       "                    <td style=\"text-align: left;\">\n",
       "                        <strong>Total memory:</strong> 0 B\n",
       "                    </td>\n",
       "                </tr>\n",
       "            </table>\n",
       "        </div>\n",
       "    </div>\n",
       "\n",
       "    <details style=\"margin-left: 48px;\">\n",
       "        <summary style=\"margin-bottom: 20px;\">\n",
       "            <h3 style=\"display: inline;\">Workers</h3>\n",
       "        </summary>\n",
       "\n",
       "        \n",
       "\n",
       "    </details>\n",
       "</div>\n",
       "\n",
       "        </details>\n",
       "    </div>\n",
       "</div>\n",
       "            </details>\n",
       "        \n",
       "\n",
       "    </div>\n",
       "</div>"
      ],
      "text/plain": [
       "<Client: 'tcp://10.102.201.239:41890' processes=0 threads=0, memory=0 B>"
      ]
     },
     "execution_count": 6,
     "metadata": {},
     "output_type": "execute_result"
    }
   ],
   "source": [
    "############\n",
    "# Dask\n",
    "############\n",
    "from dask_jobqueue import PBSCluster\n",
    "cluster = PBSCluster(cores=1, resource_spec='pmem=20GB', memory='20GB',\n",
    "                     env_extra= ['#PBS -l feature=rhel7'], walltime = '00:20:00')\n",
    "\n",
    "cluster.scale(jobs=10)  # ask for jobs\n",
    "\n",
    "from dask.distributed import Client\n",
    "client = Client(cluster)\n",
    "\n",
    "client"
   ]
  },
  {
   "cell_type": "markdown",
   "id": "57f3e158-fad8-4e8b-ac18-1a74aaa26fbf",
   "metadata": {
    "tags": []
   },
   "source": [
    "## Simple metrics (no historical quantiles required)"
   ]
  },
  {
   "cell_type": "code",
   "execution_count": 7,
   "id": "4abdba48-a286-45b3-ab47-43705c9c7723",
   "metadata": {},
   "outputs": [],
   "source": [
    "########################################################\n",
    "# Calculate the metric for a \n",
    "# single model-year, including all SSPs and variables\n",
    "########################################################\n",
    "def model_year_metric(path, model, model_vers, ssps, var_ids, year, year_step, metric):\n",
    "    # Set up dictionary for all results\n",
    "    ds_all = {}\n",
    "    # Loop through SSPs\n",
    "    for ssp in ssps:\n",
    "        # Temporary list for each SSP\n",
    "        ds_list = []\n",
    "        # Loop through variables\n",
    "        for var in var_ids:\n",
    "            ## Temporary file for each variable\n",
    "            ds_tmp = xr.open_dataset(path + model + '_' + model_vers + '_w5e5_' + \n",
    "                                     ssp + '_' + var + '_global_daily_' + str(year) \n",
    "                                     + '_' + str(year + year_step) + '.nc')\n",
    "            \n",
    "            ## Convert units\n",
    "            # temperature: K -> C\n",
    "            if var == 'tas' and ds_tmp.tas.attrs['units'] == 'K':\n",
    "                ds_tmp['tas'] = ds_tmp['tas'] - 273.15\n",
    "            if var == 'tasmax' and ds_tmp.tasmax.attrs['units'] == 'K':\n",
    "                ds_tmp['tasmax'] = ds_tmp['tasmax'] - 273.15\n",
    "            if var == 'tasmin' and ds_tmp.tasmin.attrs['units'] == 'K':\n",
    "                ds_tmp['tasmin'] = ds_tmp['tasmin'] - 273.15\n",
    "\n",
    "            # precip: kg m-2 s-1 -> mm day-1\n",
    "            if var == 'pr' and ds_tmp.pr.attrs['units'] == 'kg m-2 s-1':\n",
    "                ds_tmp['pr'] = ds_tmp['pr'] * 86400\n",
    "\n",
    "            # Calculate metric\n",
    "            if metric == 'mean':\n",
    "                ds_tmp = ds_tmp.resample(time='1Y').mean()\n",
    "            elif metric == 'max':\n",
    "                ds_tmp = ds_tmp.resample(time='1Y').max()\n",
    "                \n",
    "            # Append to list\n",
    "            ds_list.append(ds_tmp)\n",
    "            \n",
    "        # Append to dict\n",
    "        ds_all.update({ssp: ds_list})\n",
    "\n",
    "    # Merge and concat along ssp dimension\n",
    "    for ssp in ssps:\n",
    "        ds_all[ssp] = xr.merge(ds_all[ssp])\n",
    "        ds_all[ssp] = ds_all[ssp].assign_coords(ssp = ssp)\n",
    "    \n",
    "    # Return\n",
    "    ds_out = xr.concat([ds_all[ssp] for ssp in ssps], dim='ssp')\n",
    "    return ds_out"
   ]
  },
  {
   "cell_type": "markdown",
   "id": "76dfc4e3-ba1c-43af-ab41-d25af40ea022",
   "metadata": {
    "tags": []
   },
   "source": [
    "### Annual averages"
   ]
  },
  {
   "cell_type": "code",
   "execution_count": 8,
   "id": "c53d71ff-e774-4d80-a11f-98345d4cb5ad",
   "metadata": {},
   "outputs": [
    {
     "name": "stdout",
     "output_type": "stream",
     "text": [
      "CanESM5\n",
      "CNRM-CM6-1\n",
      "CNRM-ESM2-1\n",
      "EC-Earth3\n",
      "GFDL-ESM4\n",
      "IPSL-CM6A-LR\n",
      "MIROC6\n",
      "MPI-ESM1-2-HR\n",
      "MRI-ESM2-0\n",
      "UKESM1-0-LL\n"
     ]
    }
   ],
   "source": [
    "# Loop through models: RUNTIME IS ~10 MINS PER MODEL WITH 9 DASK WORKERS\n",
    "\n",
    "# All variables\n",
    "var_ids = ['tas', 'tasmin', 'tasmax', 'pr']\n",
    "\n",
    "for model in models:\n",
    "    # Check if already exists\n",
    "    if os.path.isfile(out_path + 'annual_avgs/' + model + '.nc'):\n",
    "        print(model + ' already done')\n",
    "        continue\n",
    "    \n",
    "    # Parallelize with dask over years\n",
    "    delayed_res = []\n",
    "\n",
    "    for year, year_step in zip(start_years, year_steps):\n",
    "        tmp_res = dask.delayed(model_year_metric)(path = in_path,\n",
    "                                                  model = model.lower(),\n",
    "                                                  model_vers = model_info[model],\n",
    "                                                  ssps = isimip_ssp_dict[model],\n",
    "                                                  var_ids = var_ids,\n",
    "                                                  year = year, \n",
    "                                                  year_step = year_step,\n",
    "                                                  metric = 'mean')\n",
    "        delayed_res.append(tmp_res)\n",
    "            \n",
    "    # Compute\n",
    "    res = dask.compute(*delayed_res)\n",
    "\n",
    "    # Store\n",
    "    df_final = xr.combine_by_coords(res)\n",
    "    df_final.to_netcdf(out_path + 'native_grid/annual_avgs/' + model + '.nc')\n",
    "\n",
    "    print(model)"
   ]
  },
  {
   "cell_type": "markdown",
   "id": "7eecd2f0-6a74-46a1-a7cd-25a4afc7956d",
   "metadata": {
    "tags": []
   },
   "source": [
    "### Annual maxima"
   ]
  },
  {
   "cell_type": "code",
   "execution_count": 8,
   "id": "be1f0705-5a03-43bd-a259-2100ad24e7fd",
   "metadata": {},
   "outputs": [
    {
     "name": "stdout",
     "output_type": "stream",
     "text": [
      "CanESM5\n",
      "CNRM-CM6-1\n",
      "CNRM-ESM2-1\n",
      "EC-Earth3\n",
      "GFDL-ESM4\n",
      "IPSL-CM6A-LR\n",
      "MIROC6\n",
      "MPI-ESM1-2-HR\n",
      "MRI-ESM2-0\n",
      "UKESM1-0-LL\n"
     ]
    }
   ],
   "source": [
    "# All variables\n",
    "var_ids = ['tas', 'tasmin', 'tasmax', 'pr']\n",
    "\n",
    "for model in models:\n",
    "    # Check if already exists\n",
    "    if os.path.isfile(out_path + 'annual_maxs/' + model + '.nc'):\n",
    "        print(model + ' already done')\n",
    "        continue\n",
    "    \n",
    "    # Parallelize with dask over years\n",
    "    delayed_res = []\n",
    "\n",
    "    for year, year_step in zip(start_years, year_steps):\n",
    "        tmp_res = dask.delayed(model_year_metric)(path = in_path,\n",
    "                                                  model = model.lower(),\n",
    "                                                  model_vers = model_info[model],\n",
    "                                                  ssps = isimip_ssp_dict[model],\n",
    "                                                  var_ids = var_ids,\n",
    "                                                  year = year, \n",
    "                                                  year_step = year_step,\n",
    "                                                  metric = 'max')\n",
    "        delayed_res.append(tmp_res)\n",
    "            \n",
    "    # Compute\n",
    "    res = dask.compute(*delayed_res)\n",
    "\n",
    "    # Store\n",
    "    df_final = xr.combine_by_coords(res)\n",
    "    df_final.to_netcdf(out_path + 'native_grid/annual_maxs/' + model + '.nc')\n",
    "\n",
    "    print(model)"
   ]
  },
  {
   "cell_type": "markdown",
   "id": "81b8ed81-95a9-403c-8b41-42a32cd4ef3e",
   "metadata": {
    "jp-MarkdownHeadingCollapsed": true,
    "tags": []
   },
   "source": [
    "## Regridding"
   ]
  },
  {
   "cell_type": "code",
   "execution_count": 7,
   "id": "1e3c657d-3673-43fe-8b9c-c5c4f45a78d9",
   "metadata": {},
   "outputs": [],
   "source": [
    "# Regridding function\n",
    "def regrid(model, out_grid, out_path, metric):\n",
    "    # Read native grid\n",
    "    ds = xr.open_dataset(out_path + 'native_grid/' + metric + '/' + model + '.nc')\n",
    "    \n",
    "    ## xESMF regridder\n",
    "    # Billinear\n",
    "    blnr_regridder = xe.Regridder(ds, out_grid, 'bilinear', periodic=True)\n",
    "    ds_blnr = blnr_regridder(ds)\n",
    "    \n",
    "    # Conservative\n",
    "    cons_regridder = xe.Regridder(ds, out_grid, 'conservative', periodic=True)\n",
    "    ds_cons = cons_regridder(ds)\n",
    "    \n",
    "    # Store\n",
    "    ds_blnr.to_netcdf(out_path + 'regridded/bilinear/' + metric + '/' + model + '.nc')\n",
    "    ds_blnr.to_netcdf(out_path + 'regridded/conservative/' + metric + '/' + model + '.nc')"
   ]
  },
  {
   "cell_type": "code",
   "execution_count": 8,
   "id": "f6a76880-0928-4757-a9c1-cbb80b538da3",
   "metadata": {},
   "outputs": [],
   "source": [
    "# NEX-GDDP out grid (same as CIL)\n",
    "out_grid = xr.open_dataset('/gpfs/group/kaf26/default/dcl5300/lafferty-sriver_inprep_tbh_DATA/metrics/nex-gddp/annual_avgs/CanESM5.nc')\n",
    "\n",
    "out_grid = xr.Dataset({'lat': out_grid.lat,\n",
    "                       'lon': out_grid.lon})"
   ]
  },
  {
   "cell_type": "code",
   "execution_count": null,
   "id": "93619610-6b2f-47f6-8cca-9bd15abaf53f",
   "metadata": {},
   "outputs": [
    {
     "name": "stdout",
     "output_type": "stream",
     "text": [
      "CanESM5 already done\n",
      "CNRM-CM6-1 already done\n",
      "CNRM-ESM2-1 already done\n",
      "EC-Earth3 already done\n",
      "MIROC6 already done\n"
     ]
    }
   ],
   "source": [
    "%%time\n",
    "# Annual avgs\n",
    "delayed_res = []\n",
    "\n",
    "for model in models:\n",
    "    # Check if already exists\n",
    "    if (os.path.isfile(out_path + 'regridded/bilinear/annual_avgs/' + model + '.nc') and\n",
    "        os.path.isfile(out_path + 'regridded/conservative/annual_avgs/' + model + '.nc')):\n",
    "        print(model + ' already done')\n",
    "        continue\n",
    "    \n",
    "    # Dask to parallelize\n",
    "    delayed_res.append(dask.delayed(regrid)(model, out_grid, out_path, 'annual_avgs'))\n",
    "\n",
    "# Compute\n",
    "res = dask.compute(*delayed_res)   "
   ]
  },
  {
   "cell_type": "code",
   "execution_count": null,
   "id": "bb0ddff7-c464-4a64-8d48-b1c5253cf4dd",
   "metadata": {},
   "outputs": [],
   "source": [
    "%%time\n",
    "# Annual maxs\n",
    "delayed_res = []\n",
    "\n",
    "for model in models:\n",
    "    # Check if already exists\n",
    "    if (os.path.isfile(out_path + 'regridded/bilinear/annual_maxs/' + model + '.nc') and\n",
    "        os.path.isfile(out_path + 'regridded/conservative/annual_maxs/' + model + '.nc')):\n",
    "        print(model + ' already done')\n",
    "        continue\n",
    "    \n",
    "    # Dask to parallelize\n",
    "    delayed_res.append(dask.delayed(regrid)(model, out_grid, out_path, 'annual_maxs'))\n",
    "\n",
    "# Compute\n",
    "res = dask.compute(*delayed_res)   "
   ]
  },
  {
   "cell_type": "code",
   "execution_count": null,
   "id": "6f937e8a-d3f4-422e-acef-ef70619f72bd",
   "metadata": {},
   "outputs": [],
   "source": []
  }
 ],
 "metadata": {
  "kernelspec": {
   "display_name": "Python 3 (ipykernel)",
   "language": "python",
   "name": "python3"
  },
  "language_info": {
   "codemirror_mode": {
    "name": "ipython",
    "version": 3
   },
   "file_extension": ".py",
   "mimetype": "text/x-python",
   "name": "python",
   "nbconvert_exporter": "python",
   "pygments_lexer": "ipython3",
   "version": "3.10.6"
  }
 },
 "nbformat": 4,
 "nbformat_minor": 5
}
