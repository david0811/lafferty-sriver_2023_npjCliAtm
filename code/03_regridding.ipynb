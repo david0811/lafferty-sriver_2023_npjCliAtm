{
 "cells": [
  {
   "cell_type": "code",
   "execution_count": 1,
   "id": "010dc88c-5348-4f20-b016-f5de6aa3121b",
   "metadata": {},
   "outputs": [],
   "source": [
    "import numpy as np\n",
    "import xarray as xr\n",
    "import dask\n",
    "import xesmf as xe\n",
    "import os\n",
    "from glob import glob"
   ]
  },
  {
   "cell_type": "markdown",
   "id": "8527e008-f356-43f0-bd69-e949bbc5afed",
   "metadata": {
    "jp-MarkdownHeadingCollapsed": true,
    "tags": []
   },
   "source": [
    "### Preliminaries"
   ]
  },
  {
   "cell_type": "code",
   "execution_count": 7,
   "id": "f418bb08-2ee8-4156-89cb-4f459c5e9d86",
   "metadata": {},
   "outputs": [
    {
     "data": {
      "text/html": [
       "<div>\n",
       "    <div style=\"width: 24px; height: 24px; background-color: #e1e1e1; border: 3px solid #9D9D9D; border-radius: 5px; position: absolute;\"> </div>\n",
       "    <div style=\"margin-left: 48px;\">\n",
       "        <h3 style=\"margin-bottom: 0px;\">Client</h3>\n",
       "        <p style=\"color: #9D9D9D; margin-bottom: 0px;\">Client-11ab6cae-5a29-11ed-ad89-34e6d79eac77</p>\n",
       "        <table style=\"width: 100%; text-align: left;\">\n",
       "\n",
       "        <tr>\n",
       "        \n",
       "            <td style=\"text-align: left;\"><strong>Connection method:</strong> Cluster object</td>\n",
       "            <td style=\"text-align: left;\"><strong>Cluster type:</strong> dask_jobqueue.PBSCluster</td>\n",
       "        \n",
       "        </tr>\n",
       "\n",
       "        \n",
       "            <tr>\n",
       "                <td style=\"text-align: left;\">\n",
       "                    <strong>Dashboard: </strong> <a href=\"/proxy/8787/status\" target=\"_blank\">/proxy/8787/status</a>\n",
       "                </td>\n",
       "                <td style=\"text-align: left;\"></td>\n",
       "            </tr>\n",
       "        \n",
       "\n",
       "        </table>\n",
       "\n",
       "        \n",
       "            <details>\n",
       "            <summary style=\"margin-bottom: 20px;\"><h3 style=\"display: inline;\">Cluster Info</h3></summary>\n",
       "            <div class=\"jp-RenderedHTMLCommon jp-RenderedHTML jp-mod-trusted jp-OutputArea-output\">\n",
       "    <div style=\"width: 24px; height: 24px; background-color: #e1e1e1; border: 3px solid #9D9D9D; border-radius: 5px; position: absolute;\">\n",
       "    </div>\n",
       "    <div style=\"margin-left: 48px;\">\n",
       "        <h3 style=\"margin-bottom: 0px; margin-top: 0px;\">PBSCluster</h3>\n",
       "        <p style=\"color: #9D9D9D; margin-bottom: 0px;\">94e38307</p>\n",
       "        <table style=\"width: 100%; text-align: left;\">\n",
       "            <tr>\n",
       "                <td style=\"text-align: left;\">\n",
       "                    <strong>Dashboard:</strong> <a href=\"/proxy/8787/status\" target=\"_blank\">/proxy/8787/status</a>\n",
       "                </td>\n",
       "                <td style=\"text-align: left;\">\n",
       "                    <strong>Workers:</strong> 0\n",
       "                </td>\n",
       "            </tr>\n",
       "            <tr>\n",
       "                <td style=\"text-align: left;\">\n",
       "                    <strong>Total threads:</strong> 0\n",
       "                </td>\n",
       "                <td style=\"text-align: left;\">\n",
       "                    <strong>Total memory:</strong> 0 B\n",
       "                </td>\n",
       "            </tr>\n",
       "            \n",
       "        </table>\n",
       "\n",
       "        <details>\n",
       "            <summary style=\"margin-bottom: 20px;\">\n",
       "                <h3 style=\"display: inline;\">Scheduler Info</h3>\n",
       "            </summary>\n",
       "\n",
       "            <div style=\"\">\n",
       "    <div>\n",
       "        <div style=\"width: 24px; height: 24px; background-color: #FFF7E5; border: 3px solid #FF6132; border-radius: 5px; position: absolute;\"> </div>\n",
       "        <div style=\"margin-left: 48px;\">\n",
       "            <h3 style=\"margin-bottom: 0px;\">Scheduler</h3>\n",
       "            <p style=\"color: #9D9D9D; margin-bottom: 0px;\">Scheduler-90d71929-b3c1-4f21-8959-64dc4c73b83f</p>\n",
       "            <table style=\"width: 100%; text-align: left;\">\n",
       "                <tr>\n",
       "                    <td style=\"text-align: left;\">\n",
       "                        <strong>Comm:</strong> tcp://10.102.201.239:43067\n",
       "                    </td>\n",
       "                    <td style=\"text-align: left;\">\n",
       "                        <strong>Workers:</strong> 0\n",
       "                    </td>\n",
       "                </tr>\n",
       "                <tr>\n",
       "                    <td style=\"text-align: left;\">\n",
       "                        <strong>Dashboard:</strong> <a href=\"/proxy/8787/status\" target=\"_blank\">/proxy/8787/status</a>\n",
       "                    </td>\n",
       "                    <td style=\"text-align: left;\">\n",
       "                        <strong>Total threads:</strong> 0\n",
       "                    </td>\n",
       "                </tr>\n",
       "                <tr>\n",
       "                    <td style=\"text-align: left;\">\n",
       "                        <strong>Started:</strong> Just now\n",
       "                    </td>\n",
       "                    <td style=\"text-align: left;\">\n",
       "                        <strong>Total memory:</strong> 0 B\n",
       "                    </td>\n",
       "                </tr>\n",
       "            </table>\n",
       "        </div>\n",
       "    </div>\n",
       "\n",
       "    <details style=\"margin-left: 48px;\">\n",
       "        <summary style=\"margin-bottom: 20px;\">\n",
       "            <h3 style=\"display: inline;\">Workers</h3>\n",
       "        </summary>\n",
       "\n",
       "        \n",
       "\n",
       "    </details>\n",
       "</div>\n",
       "\n",
       "        </details>\n",
       "    </div>\n",
       "</div>\n",
       "            </details>\n",
       "        \n",
       "\n",
       "    </div>\n",
       "</div>"
      ],
      "text/plain": [
       "<Client: 'tcp://10.102.201.239:43067' processes=0 threads=0, memory=0 B>"
      ]
     },
     "execution_count": 7,
     "metadata": {},
     "output_type": "execute_result"
    }
   ],
   "source": [
    "############\n",
    "# Dask\n",
    "############\n",
    "from dask_jobqueue import PBSCluster\n",
    "cluster = PBSCluster(cores=1, resource_spec='pmem=20GB', memory='20GB',\n",
    "                     env_extra= ['#PBS -l feature=rhel7'], walltime = '00:20:00')\n",
    "\n",
    "cluster.scale(jobs=10)  # ask for jobs\n",
    "\n",
    "from dask.distributed import Client\n",
    "client = Client(cluster)\n",
    "\n",
    "client"
   ]
  },
  {
   "cell_type": "markdown",
   "id": "81b8ed81-95a9-403c-8b41-42a32cd4ef3e",
   "metadata": {
    "jp-MarkdownHeadingCollapsed": true,
    "tags": []
   },
   "source": [
    "## ISIMIP"
   ]
  },
  {
   "cell_type": "code",
   "execution_count": null,
   "id": "58d5daa4-1707-4460-bb82-9f833a5d74c2",
   "metadata": {},
   "outputs": [],
   "source": [
    "# Models\n",
    "from utils import isimip_ssp_dict\n",
    "\n",
    "models = list(isimip_ssp_dict.keys())"
   ]
  },
  {
   "cell_type": "code",
   "execution_count": 8,
   "id": "0fdb966a-4e1c-467b-9da9-9f8a32fa1f48",
   "metadata": {},
   "outputs": [],
   "source": [
    "# Set path\n",
    "# UPDATE THIS FOR REPRODUCTION\n",
    "path = '/gpfs/group/kaf26/default/dcl5300/lafferty-sriver_inprep_tbh_DATA/metrics/isimip3b/'"
   ]
  },
  {
   "cell_type": "code",
   "execution_count": 8,
   "id": "f6a76880-0928-4757-a9c1-cbb80b538da3",
   "metadata": {},
   "outputs": [],
   "source": [
    "# NEX-GDDP out grid (same as CIL)\n",
    "out_grid = xr.open_dataset('/gpfs/group/kaf26/default/dcl5300/lafferty-sriver_inprep_tbh_DATA/metrics/nex-gddp/annual_avgs/CanESM5.nc')\n",
    "\n",
    "out_grid = xr.Dataset({'lat': out_grid.lat,\n",
    "                       'lon': out_grid.lon})"
   ]
  },
  {
   "cell_type": "code",
   "execution_count": 11,
   "id": "7c6d3264-9281-41c6-8285-70e139a076d1",
   "metadata": {},
   "outputs": [],
   "source": [
    "# Regridding function\n",
    "def regrid(model, out_grid, out_path, metric):\n",
    "    # Read native grid\n",
    "    ds = xr.open_dataset(out_path + 'native_grid/' + metric + '/' + model + '.nc')\n",
    "    \n",
    "    ## xESMF regridder\n",
    "    # Billinear\n",
    "    blnr_regridder = xe.Regridder(ds, out_grid, 'bilinear', periodic=True)\n",
    "    ds_blnr = blnr_regridder(ds)\n",
    "    \n",
    "    # Conservative\n",
    "    cons_regridder = xe.Regridder(ds, out_grid, 'conservative', periodic=True)\n",
    "    ds_cons = cons_regridder(ds)\n",
    "    \n",
    "    # Store\n",
    "    ds_blnr.to_netcdf(out_path + 'regridded/bilinear/' + metric + '/' + model + '.nc')\n",
    "    ds_blnr.to_netcdf(out_path + 'regridded/conservative/' + metric + '/' + model + '.nc')"
   ]
  },
  {
   "cell_type": "code",
   "execution_count": null,
   "id": "93619610-6b2f-47f6-8cca-9bd15abaf53f",
   "metadata": {},
   "outputs": [
    {
     "name": "stdout",
     "output_type": "stream",
     "text": [
      "CanESM5 already done\n",
      "CNRM-CM6-1 already done\n",
      "CNRM-ESM2-1 already done\n",
      "EC-Earth3 already done\n",
      "MIROC6 already done\n"
     ]
    }
   ],
   "source": [
    "%%time\n",
    "# Annual avgs\n",
    "delayed_res = []\n",
    "\n",
    "for model in models:\n",
    "    # Check if already exists\n",
    "    if (os.path.isfile(out_path + 'regridded/bilinear/annual_avgs/' + model + '.nc') and\n",
    "        os.path.isfile(out_path + 'regridded/conservative/annual_avgs/' + model + '.nc')):\n",
    "        print(model + ' already done')\n",
    "        continue\n",
    "    \n",
    "    # Dask to parallelize\n",
    "    delayed_res.append(dask.delayed(regrid)(model, out_grid, out_path, 'annual_avgs'))\n",
    "\n",
    "# Compute\n",
    "res = dask.compute(*delayed_res)   "
   ]
  },
  {
   "cell_type": "code",
   "execution_count": null,
   "id": "bb0ddff7-c464-4a64-8d48-b1c5253cf4dd",
   "metadata": {},
   "outputs": [],
   "source": [
    "%%time\n",
    "# Annual maxs\n",
    "delayed_res = []\n",
    "\n",
    "for model in models:\n",
    "    # Check if already exists\n",
    "    if (os.path.isfile(out_path + 'regridded/bilinear/annual_maxs/' + model + '.nc') and\n",
    "        os.path.isfile(out_path + 'regridded/conservative/annual_maxs/' + model + '.nc')):\n",
    "        print(model + ' already done')\n",
    "        continue\n",
    "    \n",
    "    # Dask to parallelize\n",
    "    delayed_res.append(dask.delayed(regrid)(model, out_grid, out_path, 'annual_maxs'))\n",
    "\n",
    "# Compute\n",
    "res = dask.compute(*delayed_res)   "
   ]
  },
  {
   "cell_type": "markdown",
   "id": "eb38ba1f-4906-4ad0-818d-d6b190035716",
   "metadata": {},
   "source": [
    "## carbonplan"
   ]
  },
  {
   "cell_type": "code",
   "execution_count": 2,
   "id": "ac7d70a3-b5e6-4b0b-a55c-834d653d6a82",
   "metadata": {},
   "outputs": [],
   "source": [
    "# NEX-GDDP out grid (same as CIL)\n",
    "out_grid = xr.open_dataset('/gpfs/group/kaf26/default/dcl5300/lafferty-sriver_inprep_tbh_DATA/metrics/cil-gdpcir/annual_avgs/CanESM5.nc')\n",
    "\n",
    "out_grid = xr.Dataset({'lat': out_grid.lat,\n",
    "                       'lon': out_grid.lon})"
   ]
  },
  {
   "cell_type": "code",
   "execution_count": 3,
   "id": "3c31f827-a97b-4cec-bb5c-4b1ebe2eabf7",
   "metadata": {},
   "outputs": [],
   "source": [
    "# Set paths\n",
    "# UPDATE THIS FOR REPRODUCTION\n",
    "path = '/gpfs/group/kaf26/default/dcl5300/lafferty-sriver_inprep_tbh_DATA/metrics/carbonplan/'"
   ]
  },
  {
   "cell_type": "code",
   "execution_count": 4,
   "id": "baf7c8f9-e2ed-4dc2-a162-25805d1c8f95",
   "metadata": {},
   "outputs": [],
   "source": [
    "# Regridding function\n",
    "def regrid(method, model, out_grid, path, metric):\n",
    "    # Read native grid\n",
    "    ds = xr.open_zarr(path + 'native_grid/' + method + '/' + metric + '/' + model).load()\n",
    "    ds = ds.isel(member_id=0) # get rid of member_id\n",
    "    \n",
    "    ## xESMF regridder\n",
    "    # Conservative\n",
    "    cons_regridder = xe.Regridder(ds, out_grid, 'conservative', periodic=True)\n",
    "    ds_cons = cons_regridder(ds)\n",
    "    \n",
    "    # Store\n",
    "    ds_cons.to_netcdf(path + 'regridded/conservative/' + method + '/' + metric + '/' + model + '.nc')"
   ]
  },
  {
   "cell_type": "markdown",
   "id": "12081e49-0e39-4923-8d43-18d8cbe7061e",
   "metadata": {},
   "source": [
    "### GARD-SV"
   ]
  },
  {
   "cell_type": "code",
   "execution_count": 5,
   "id": "19dd1c6c-0ae4-4123-8011-c0aa41404a82",
   "metadata": {},
   "outputs": [],
   "source": [
    "method = 'GARD-SV'"
   ]
  },
  {
   "cell_type": "code",
   "execution_count": 6,
   "id": "da1460ac-5402-4e36-b74d-670b639fcfd5",
   "metadata": {},
   "outputs": [],
   "source": [
    "# Models\n",
    "from utils import gardsv_ssp_dict\n",
    "\n",
    "models = list(gardsv_ssp_dict.keys())"
   ]
  },
  {
   "cell_type": "code",
   "execution_count": 7,
   "id": "f45cbbae-185f-467a-8a75-5f2cf95a15dd",
   "metadata": {},
   "outputs": [
    {
     "name": "stdout",
     "output_type": "stream",
     "text": [
      "BCC-CSM2-MR already done\n",
      "CanESM5 already done\n"
     ]
    },
    {
     "name": "stderr",
     "output_type": "stream",
     "text": [
      "/storage/home/d/dcl5300/work/ENVS/climate-stack/lib/python3.10/site-packages/xesmf/backend.py:53: UserWarning: Latitude is outside of [-90, 90]\n",
      "  warnings.warn('Latitude is outside of [-90, 90]')\n"
     ]
    },
    {
     "name": "stdout",
     "output_type": "stream",
     "text": [
      "MIROC6\n"
     ]
    },
    {
     "name": "stderr",
     "output_type": "stream",
     "text": [
      "/storage/home/d/dcl5300/work/ENVS/climate-stack/lib/python3.10/site-packages/xesmf/backend.py:53: UserWarning: Latitude is outside of [-90, 90]\n",
      "  warnings.warn('Latitude is outside of [-90, 90]')\n"
     ]
    },
    {
     "name": "stdout",
     "output_type": "stream",
     "text": [
      "MPI-ESM1-2-HR\n",
      "CPU times: user 4min 7s, sys: 40.8 s, total: 4min 47s\n",
      "Wall time: 4min 58s\n"
     ]
    }
   ],
   "source": [
    "%%time\n",
    "# Annual avgs\n",
    "for model in models:\n",
    "    # Check if already exists\n",
    "    if os.path.isfile(path + 'regridded/conservative/GARD-SV/annual_avgs/' + model + '.nc'):\n",
    "        print(model + ' already done')\n",
    "        continue\n",
    "    \n",
    "    # Only a few models so no dask\n",
    "    regrid(method, model, out_grid, path, 'annual_avgs')\n",
    "    print(model)"
   ]
  },
  {
   "cell_type": "code",
   "execution_count": null,
   "id": "3d7e0074-29a6-4cfb-aff8-6b265559c467",
   "metadata": {},
   "outputs": [],
   "source": [
    "%%time\n",
    "# Annual maxs\n",
    "for model in models:\n",
    "    # Check if already exists\n",
    "    if os.path.isfile(path + 'regridded/conservative/GARD-SV/annual_maxs/' + model + '.nc'):\n",
    "        print(model + ' already done')\n",
    "        continue\n",
    "    \n",
    "    # Only a few models so no dask\n",
    "    regrid(method, model, out_grid, path, 'annual_maxs')\n",
    "    print(model)"
   ]
  }
 ],
 "metadata": {
  "kernelspec": {
   "display_name": "Python 3 (ipykernel)",
   "language": "python",
   "name": "python3"
  },
  "language_info": {
   "codemirror_mode": {
    "name": "ipython",
    "version": 3
   },
   "file_extension": ".py",
   "mimetype": "text/x-python",
   "name": "python",
   "nbconvert_exporter": "python",
   "pygments_lexer": "ipython3",
   "version": "3.10.6"
  }
 },
 "nbformat": 4,
 "nbformat_minor": 5
}
