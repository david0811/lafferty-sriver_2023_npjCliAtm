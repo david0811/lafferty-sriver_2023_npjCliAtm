{
 "cells": [
  {
   "cell_type": "code",
   "execution_count": 1,
   "id": "57743a7e-8b68-4544-8378-ac3e453f96bb",
   "metadata": {},
   "outputs": [],
   "source": [
    "import numpy as np\n",
    "import xarray as xr"
   ]
  },
  {
   "cell_type": "markdown",
   "id": "b53f3946-bb89-4535-a1e8-ae9b6ccaed61",
   "metadata": {
    "tags": []
   },
   "source": [
    "### Preliminaries"
   ]
  },
  {
   "cell_type": "code",
   "execution_count": 2,
   "id": "662dfbf5-61c7-48f6-884d-ce058d6a7512",
   "metadata": {},
   "outputs": [],
   "source": [
    "###############################\n",
    "# Set paths\n",
    "# UPDATE THIS FOR REPRODUCTION\n",
    "###############################\n",
    "nex_in = '/gpfs/group/kaf26/default/dcl5300/lafferty-sriver_inprep_tbh_DATA/cmip6/nex-gddp/'\n",
    "cil_in = '/gpfs/group/kaf26/default/dcl5300/lafferty-sriver_inprep_tbh_DATA/cmip6/cil-gdpcir/'\n",
    "\n",
    "out = '/gpfs/group/kaf26/default/dcl5300/lafferty-sriver_inprep_tbh_DATA/uc_results/'"
   ]
  },
  {
   "cell_type": "code",
   "execution_count": 3,
   "id": "81da49fd-e27f-47f7-b58d-23e88860b492",
   "metadata": {},
   "outputs": [],
   "source": [
    "###################\n",
    "# Models\n",
    "###################\n",
    "\n",
    "# nex models with all SSPs and variables (tas, pr)\n",
    "complete_nex_models = ['ACCESS-CM2', 'ACCESS-ESM1-5', 'CanESM5', 'CMCC-ESM2', \n",
    "                       'CNRM-CM6-1', 'CNRM-ESM2-1', 'EC-Earth3',\n",
    "                       'EC-Earth3-Veg-LR', 'FGOALS-g3', 'GFDL-CM4', 'GFDL-ESM4', \n",
    "                       'GISS-E2-1-G', 'INM-CM4-8', 'INM-CM5-0',\n",
    "                       'IPSL-CM6A-LR', 'KACE-1-0-G', 'MIROC-ES2L', 'MIROC6',\n",
    "                       'MPI-ESM1-2-HR', 'MPI-ESM1-2-LR', 'MRI-ESM2-0', 'NorESM2-LM',\n",
    "                       'NorESM2-MM', 'TaiESM1', 'UKESM1-0-LL']\n",
    "\n",
    "# cil models with all SSPs and variables\n",
    "complete_cil_models = [\"INM-CM4-8\", \"INM-CM5-0\", \"BCC-CSM2-MR\", \"CMCC-CM2-SR5\",\n",
    "              \"CMCC-ESM2\", \"MIROC-ES2L\", \"MIROC6\", \"UKESM1-0-LL\", \"MPI-ESM1-2-LR\",\n",
    "              \"NorESM2-LM\", \"NorESM2-MM\", \"GFDL-ESM4\", \"EC-Earth3\", \n",
    "              \"EC-Earth3-Veg-LR\", \"EC-Earth3-Veg\", \"CanESM5\"]\n",
    "\n",
    "# intersection of models\n",
    "models = np.intersect1d(complete_cil_models, complete_nex_models)"
   ]
  },
  {
   "cell_type": "code",
   "execution_count": 4,
   "id": "830e1b1a-ee79-417b-b048-a08c0cc43ab2",
   "metadata": {},
   "outputs": [],
   "source": [
    "######################################\n",
    "# Prep each ensemble for merge\n",
    "######################################\n",
    "def preprocess_nex(ds):\n",
    "    ds['lon'] = np.where(ds['lon'] > 180, ds['lon'] - 360, ds['lon'])\n",
    "    ds = ds.sortby('lon')\n",
    "    ds = ds.sortby('ssp')\n",
    "    ds = ds.assign_coords(ensemble = 'NEX')\n",
    "    ds = ds.assign_coords(model = ds.encoding['source'][93:-3])\n",
    "    ds['time'] = ds.indexes['time'].year\n",
    "    return ds\n",
    "\n",
    "def preprocess_cil(ds):\n",
    "    if 'tasavg' in ds.data_vars:\n",
    "        ds = ds.rename({'tasavg':'tas'})\n",
    "    ds = ds.sel(lat=slice(-60, 90))\n",
    "    ds = ds.assign_coords(ensemble = 'CIL')\n",
    "    ds = ds.sortby('ssp')\n",
    "    ds = ds.assign_coords(model = ds.encoding['source'][95:-3])\n",
    "    ds['time'] = ds.indexes['time'].year\n",
    "    return ds"
   ]
  },
  {
   "cell_type": "code",
   "execution_count": 5,
   "id": "a0f06def-4f32-4a22-9f9c-a72f655618e9",
   "metadata": {},
   "outputs": [],
   "source": [
    "######################################\n",
    "# Read all outputs for a given metric\n",
    "######################################\n",
    "def read_all(nex_in, cil_in, metric):\n",
    "    # read NEX\n",
    "    ds_nex = xr.open_mfdataset(nex_in + '/' + metric + '/*', \n",
    "                               parallel=True, preprocess=preprocess_nex,\n",
    "                               combine='nested', concat_dim='model',\n",
    "                               chunks={'model':1, 'ssp':1, 'time':83, 'lat':600, 'lon':1440},\n",
    "                               compat='identical')\n",
    "    \n",
    "    # read CIL\n",
    "    ds_cil = xr.open_mfdataset(cil_in + '/' + metric + '/*',\n",
    "                               parallel=True, preprocess=preprocess_cil,\n",
    "                               combine='nested', concat_dim='model',\n",
    "                               chunks={'model':1, 'ssp':1, 'time':83, 'lat':600, 'lon':1440},\n",
    "                               compat='identical')\n",
    "\n",
    "    if metric != 'precip_inds':\n",
    "        ds_cil = convert_K_to_C(ds_cil)\n",
    "    \n",
    "    # we did not calculate tasavg annual maxs/mins in CIL\n",
    "    if metric == 'annual_maxs' or metric == 'annual_mins':\n",
    "        ds_nex = ds_nex.drop('tas')\n",
    "    \n",
    "    # merge all\n",
    "    ds = xr.concat([ds_nex, ds_cil], dim='ensemble', compat='equals')\n",
    "    \n",
    "    # mask out ocean points (NEX is only available over land)\n",
    "    ds_mask = ds.isel(ensemble=0, ssp=0, time=0, model=0)[list(ds.keys())[0]].isnull()\n",
    "    ds = xr.where(ds_mask, np.nan, ds)\n",
    "    \n",
    "    return ds"
   ]
  },
  {
   "cell_type": "code",
   "execution_count": 6,
   "id": "40a7c964-aabe-4693-9ef2-6b9e3f2b7a74",
   "metadata": {},
   "outputs": [],
   "source": [
    "# ###########################\n",
    "# ####### K19 method ########\n",
    "# ###########################\n",
    "# def uc_k19(ds):\n",
    "#     # Scenario uncertainty\n",
    "#     U_scen = ds.var(dim='ssp').mean(dim=['model', 'ensemble']).compute()\n",
    "\n",
    "#     # Model uncertainty\n",
    "#     U_scen_model = ds.var(dim=['ssp', 'model']).mean(dim='ensemble').compute()\n",
    "#     U_model = U_scen_model - U_scen\n",
    "\n",
    "#     # Downscaling uncertainy\n",
    "#     U_scen_model_ens = ds.var(dim=['ensemble', 'ssp', 'model']).compute()\n",
    "#     U_ens = U_scen_model_ens - U_scen_model\n",
    "    \n",
    "#     # Merge and return\n",
    "#     U_model = U_model.assign_coords(uncertainty = 'model')\n",
    "#     U_scen = U_scen.assign_coords(uncertainty = 'scenario')\n",
    "#     U_ens = U_ens.assign_coords(uncertainty = 'ensemble')\n",
    "#     U_scen_model_ens = U_scen_model_ens.assign_coords(uncertainty = 'total')\n",
    "    \n",
    "#     return xr.concat([U_model, U_scen, U_ens, U_scen_model_ens], dim='uncertainty')\n",
    "\n",
    "# ####################################\n",
    "# ####### K19 method with IAV ########\n",
    "# ####################################\n",
    "# def uc_k19_iav(ds_in):\n",
    "#     # Get rolling mean\n",
    "#     ds_rolling = ds_in.rolling(time=10, center=True).mean().dropna('time')\n",
    "#     ds_rolling = ds_rolling.assign_coords(iav = 'No')\n",
    "    \n",
    "#     ds = xr.concat([ds_rolling, ds_in.assign_coords(iav = 'Yes')], dim='iav').dropna('time')\n",
    "\n",
    "#     # Scenario uncertainty\n",
    "#     U_scen = ds.var(dim='model').mean(dim=['ssp', 'ensemble', 'iav']).compute()\n",
    "\n",
    "#     # Model uncertainty\n",
    "#     U_scen_model = ds.var(dim=['ssp', 'model']).mean(dim=['ensemble', 'iav']).compute()\n",
    "#     U_model = U_scen_model - U_scen\n",
    "\n",
    "#     # Downscaling uncertainy\n",
    "#     U_scen_model_ens = ds.var(dim=['iav', 'ssp', 'model']).mean(dim='ensemble').compute()\n",
    "#     U_ens = U_scen_model_ens - U_scen_model\n",
    "                                                          \n",
    "#     # Interannual variability\n",
    "#     U_scen_model_ens_iav = ds.var(dim=['ensemble', 'ssp', 'model', 'iav'])\n",
    "#     U_iav = U_scen_model_ens_iav - U_scen_model_ens\n",
    "    \n",
    "#     # Merge and return\n",
    "#     U_model = U_model.assign_coords(uncertainty = 'scenario')\n",
    "#     U_scen = U_scen.assign_coords(uncertainty = 'model')\n",
    "#     U_ens = U_ens.assign_coords(uncertainty = 'variability')\n",
    "#     U_iav = U_iav.assign_coords(uncertainty = 'ensemble')\n",
    "#     U_scen_model_ens_iav = U_scen_model_ens_iav.assign_coords(uncertainty = 'total')\n",
    "    \n",
    "#     return xr.concat([U_model, U_scen, U_ens, U_iav, U_scen_model_ens_iav], dim='uncertainty')"
   ]
  },
  {
   "cell_type": "code",
   "execution_count": 7,
   "id": "93ce550b-40e0-4c7e-b3f8-6c120f56a6af",
   "metadata": {},
   "outputs": [],
   "source": [
    "###########################\n",
    "####### HS09 method #######\n",
    "###########################\n",
    "def uc_hs09(ds):\n",
    "    # Model uncertainty: variance across models, averaged over scenarios and ensembles\n",
    "    U_model = ds.var(dim='model').mean(dim=['ssp', 'ensemble']).compute()\n",
    "\n",
    "    # Scenario uncertainty STANDARD (HS09): variance across multi-model means\n",
    "    U_scen = ds.mean(dim=['model', 'ensemble']).var(dim='ssp').compute()\n",
    "\n",
    "    # # Scenario uncertainty LEE\n",
    "    # Uscen_lee = ds.var(dim=['model', 'ensemble']).mean(dim='ssp').compute()\n",
    "\n",
    "    # Downscaling uncertainy: variance across ensembles, averaged over models and scenarios\n",
    "    U_ens = ds.var(dim='ensemble').mean(dim=['ssp', 'model']).compute()\n",
    "\n",
    "    # Total uncertainty\n",
    "    U_total = ds.var(dim=['ensemble', 'ssp', 'model']).compute()\n",
    "    \n",
    "    # Merge and return\n",
    "    U_model = U_model.assign_coords(uncertainty = 'model')\n",
    "    U_scen = U_scen.assign_coords(uncertainty = 'scenario')\n",
    "    U_ens = U_ens.assign_coords(uncertainty = 'ensemble')\n",
    "    U_total = U_total.assign_coords(uncertainty = 'total')\n",
    "    \n",
    "    return xr.concat([U_model, U_scen, U_ens, U_total], dim='uncertainty')"
   ]
  },
  {
   "cell_type": "code",
   "execution_count": 15,
   "id": "00446bef-7c4d-4826-bc95-0011b75cb619",
   "metadata": {},
   "outputs": [],
   "source": [
    "####################################\n",
    "####### HS09 method with IAV #######\n",
    "####################################\n",
    "def uc_hs09_iav(ds_in, ds_rolling):\n",
    "    # Total uncertainty including inter-annual variability\n",
    "    U_total = ds_in.var(dim=['ensemble', 'ssp', 'model']).sel(time=slice(2020,2096)).compute()\n",
    "        \n",
    "    # Interannual variability (single value for all years)\n",
    "    U_iav = (ds_in - ds_rolling).var(dim='time').mean(dim=['ensemble', 'ssp', 'model']).assign_coords(time = np.arange(2020,2097)).compute()\n",
    "    \n",
    "    ####### Work with forced response from here ########\n",
    "\n",
    "    # Model uncertainty: variance across models, averaged over scenarios and ensembles\n",
    "    U_model = ds_rolling.var(dim='model').mean(dim=['ssp', 'ensemble']).compute()\n",
    "\n",
    "    # Scenario uncertainty: variance across multi-model means\n",
    "    U_scen = ds_rolling.mean(dim=['model', 'ensemble']).var(dim='ssp').compute()\n",
    "\n",
    "    # Downscaling uncertainy: variance across ensembles, averaged over models and scenarios\n",
    "    U_ens = ds_rolling.var(dim='ensemble').mean(dim=['ssp', 'model']).compute()\n",
    "    \n",
    "    # Merge and return\n",
    "    U_model = U_model.assign_coords(uncertainty = 'model')\n",
    "    U_scen = U_scen.assign_coords(uncertainty = 'scenario')\n",
    "    U_ens = U_ens.assign_coords(uncertainty = 'ensemble')\n",
    "    U_iav = U_iav.assign_coords(uncertainty = 'variability')\n",
    "    U_total = U_total.assign_coords(uncertainty = 'total')\n",
    "    \n",
    "    return xr.concat([U_model, U_scen, U_ens, U_iav, U_total], dim='uncertainty')"
   ]
  },
  {
   "cell_type": "code",
   "execution_count": 9,
   "id": "eb0701fc-ff6e-406a-80ca-6369d5faf3c1",
   "metadata": {},
   "outputs": [],
   "source": [
    "# Needed for CIL\n",
    "def convert_K_to_C(ds):\n",
    "    ds['tasmax'] = ds['tasmax'] - 273.15 # K -> C\n",
    "    ds['tasmin'] = ds['tasmin'] - 273.15 # K -> C\n",
    "    if 'tas' in ds.data_vars:\n",
    "        ds['tas'] = ds['tas'] - 273.15 # K -> C\n",
    "    return ds"
   ]
  },
  {
   "cell_type": "code",
   "execution_count": 10,
   "id": "eaba4d49-6ff7-49d5-8f8d-74b09e888427",
   "metadata": {},
   "outputs": [
    {
     "data": {
      "text/html": [
       "<div>\n",
       "    <div style=\"width: 24px; height: 24px; background-color: #e1e1e1; border: 3px solid #9D9D9D; border-radius: 5px; position: absolute;\"> </div>\n",
       "    <div style=\"margin-left: 48px;\">\n",
       "        <h3 style=\"margin-bottom: 0px;\">Client</h3>\n",
       "        <p style=\"color: #9D9D9D; margin-bottom: 0px;\">Client-7587e191-553c-11ed-b8d7-34e6d79eac50</p>\n",
       "        <table style=\"width: 100%; text-align: left;\">\n",
       "\n",
       "        <tr>\n",
       "        \n",
       "            <td style=\"text-align: left;\"><strong>Connection method:</strong> Cluster object</td>\n",
       "            <td style=\"text-align: left;\"><strong>Cluster type:</strong> dask_jobqueue.PBSCluster</td>\n",
       "        \n",
       "        </tr>\n",
       "\n",
       "        \n",
       "            <tr>\n",
       "                <td style=\"text-align: left;\">\n",
       "                    <strong>Dashboard: </strong> <a href=\"/proxy/8787/status\" target=\"_blank\">/proxy/8787/status</a>\n",
       "                </td>\n",
       "                <td style=\"text-align: left;\"></td>\n",
       "            </tr>\n",
       "        \n",
       "\n",
       "        </table>\n",
       "\n",
       "        \n",
       "            <details>\n",
       "            <summary style=\"margin-bottom: 20px;\"><h3 style=\"display: inline;\">Cluster Info</h3></summary>\n",
       "            <div class=\"jp-RenderedHTMLCommon jp-RenderedHTML jp-mod-trusted jp-OutputArea-output\">\n",
       "    <div style=\"width: 24px; height: 24px; background-color: #e1e1e1; border: 3px solid #9D9D9D; border-radius: 5px; position: absolute;\">\n",
       "    </div>\n",
       "    <div style=\"margin-left: 48px;\">\n",
       "        <h3 style=\"margin-bottom: 0px; margin-top: 0px;\">PBSCluster</h3>\n",
       "        <p style=\"color: #9D9D9D; margin-bottom: 0px;\">6f1f3d6c</p>\n",
       "        <table style=\"width: 100%; text-align: left;\">\n",
       "            <tr>\n",
       "                <td style=\"text-align: left;\">\n",
       "                    <strong>Dashboard:</strong> <a href=\"/proxy/8787/status\" target=\"_blank\">/proxy/8787/status</a>\n",
       "                </td>\n",
       "                <td style=\"text-align: left;\">\n",
       "                    <strong>Workers:</strong> 0\n",
       "                </td>\n",
       "            </tr>\n",
       "            <tr>\n",
       "                <td style=\"text-align: left;\">\n",
       "                    <strong>Total threads:</strong> 0\n",
       "                </td>\n",
       "                <td style=\"text-align: left;\">\n",
       "                    <strong>Total memory:</strong> 0 B\n",
       "                </td>\n",
       "            </tr>\n",
       "            \n",
       "        </table>\n",
       "\n",
       "        <details>\n",
       "            <summary style=\"margin-bottom: 20px;\">\n",
       "                <h3 style=\"display: inline;\">Scheduler Info</h3>\n",
       "            </summary>\n",
       "\n",
       "            <div style=\"\">\n",
       "    <div>\n",
       "        <div style=\"width: 24px; height: 24px; background-color: #FFF7E5; border: 3px solid #FF6132; border-radius: 5px; position: absolute;\"> </div>\n",
       "        <div style=\"margin-left: 48px;\">\n",
       "            <h3 style=\"margin-bottom: 0px;\">Scheduler</h3>\n",
       "            <p style=\"color: #9D9D9D; margin-bottom: 0px;\">Scheduler-88605155-18ae-4fb3-b7e1-18f73ce9b486</p>\n",
       "            <table style=\"width: 100%; text-align: left;\">\n",
       "                <tr>\n",
       "                    <td style=\"text-align: left;\">\n",
       "                        <strong>Comm:</strong> tcp://10.102.201.236:33146\n",
       "                    </td>\n",
       "                    <td style=\"text-align: left;\">\n",
       "                        <strong>Workers:</strong> 0\n",
       "                    </td>\n",
       "                </tr>\n",
       "                <tr>\n",
       "                    <td style=\"text-align: left;\">\n",
       "                        <strong>Dashboard:</strong> <a href=\"/proxy/8787/status\" target=\"_blank\">/proxy/8787/status</a>\n",
       "                    </td>\n",
       "                    <td style=\"text-align: left;\">\n",
       "                        <strong>Total threads:</strong> 0\n",
       "                    </td>\n",
       "                </tr>\n",
       "                <tr>\n",
       "                    <td style=\"text-align: left;\">\n",
       "                        <strong>Started:</strong> Just now\n",
       "                    </td>\n",
       "                    <td style=\"text-align: left;\">\n",
       "                        <strong>Total memory:</strong> 0 B\n",
       "                    </td>\n",
       "                </tr>\n",
       "            </table>\n",
       "        </div>\n",
       "    </div>\n",
       "\n",
       "    <details style=\"margin-left: 48px;\">\n",
       "        <summary style=\"margin-bottom: 20px;\">\n",
       "            <h3 style=\"display: inline;\">Workers</h3>\n",
       "        </summary>\n",
       "\n",
       "        \n",
       "\n",
       "    </details>\n",
       "</div>\n",
       "\n",
       "        </details>\n",
       "    </div>\n",
       "</div>\n",
       "            </details>\n",
       "        \n",
       "\n",
       "    </div>\n",
       "</div>"
      ],
      "text/plain": [
       "<Client: 'tcp://10.102.201.236:33146' processes=0 threads=0, memory=0 B>"
      ]
     },
     "execution_count": 10,
     "metadata": {},
     "output_type": "execute_result"
    }
   ],
   "source": [
    "############\n",
    "# Dask\n",
    "############\n",
    "from dask_jobqueue import PBSCluster\n",
    "\n",
    "cluster = PBSCluster(cores=1, memory='50GB', resource_spec='pmem=50GB',\n",
    "                     project='open',\n",
    "                     env_extra=['#PBS -l feature=rhel7'], \n",
    "                     walltime='00:30:00')\n",
    "\n",
    "cluster.scale(jobs=30)  # ask for jobs\n",
    "\n",
    "from dask.distributed import Client\n",
    "client = Client(cluster)\n",
    "\n",
    "client"
   ]
  },
  {
   "cell_type": "markdown",
   "id": "30bc438f-a149-42f3-a3b6-d5452565be99",
   "metadata": {
    "jp-MarkdownHeadingCollapsed": true,
    "tags": []
   },
   "source": [
    "# Not including interannual variability"
   ]
  },
  {
   "cell_type": "markdown",
   "id": "9b61a306-665b-40c4-8024-57c20a3364ad",
   "metadata": {
    "jp-MarkdownHeadingCollapsed": true,
    "tags": []
   },
   "source": [
    "## Annual averages"
   ]
  },
  {
   "cell_type": "code",
   "execution_count": 10,
   "id": "3802b65d-fc72-4d12-8686-cf1c8d672d03",
   "metadata": {},
   "outputs": [],
   "source": [
    "# Read\n",
    "ds = read_all(nex_in, cil_in, 'annual_avgs')\n",
    "\n",
    "# Persist for faster computation\n",
    "ds = ds.persist()\n",
    "\n",
    "# rechunk for SA calculations which involve acting along model, spp, ensemble dimensions\n",
    "ds = ds.chunk({'model':13, 'ssp':4, 'ensemble':2, 'time':43, 'lat':60, 'lon':144})"
   ]
  },
  {
   "cell_type": "code",
   "execution_count": 11,
   "id": "8151b22b-4914-4a57-b6c1-5d045658852a",
   "metadata": {},
   "outputs": [
    {
     "name": "stdout",
     "output_type": "stream",
     "text": [
      "CPU times: user 3min 48s, sys: 18.4 s, total: 4min 6s\n",
      "Wall time: 7min 39s\n"
     ]
    }
   ],
   "source": [
    "%%time\n",
    "# HS09 method\n",
    "ds_out = uc_hs09(ds)\n",
    "ds_out.to_netcdf(out + 'cmip6/annual_avgs_HS09.nc')\n",
    "\n",
    "# # K19\n",
    "# ds_out = uc_k19(ds)\n",
    "# ds_out.to_netcdf(out + 'cmip6/annual_avgs_K19.nc')"
   ]
  },
  {
   "cell_type": "code",
   "execution_count": 12,
   "id": "4afafd3f-cc21-42e8-8642-3c3ca2bcaa3a",
   "metadata": {},
   "outputs": [],
   "source": [
    "# clear\n",
    "client.cancel(ds)"
   ]
  },
  {
   "cell_type": "markdown",
   "id": "25831023-fd72-43ee-b37e-004bcf01683f",
   "metadata": {
    "jp-MarkdownHeadingCollapsed": true,
    "tags": []
   },
   "source": [
    "## Annual maxs"
   ]
  },
  {
   "cell_type": "code",
   "execution_count": 13,
   "id": "2336eaa9-f6d9-4b41-8512-da536e5e07e6",
   "metadata": {},
   "outputs": [],
   "source": [
    "# Read\n",
    "ds = read_all(nex_in, cil_in, 'annual_maxs')\n",
    "\n",
    "# Persist for faster computation\n",
    "ds = ds.persist()\n",
    "\n",
    "# rechunk for SA calculations which involve acting along model, spp, ensemble dimensions\n",
    "ds = ds.chunk({'model':13, 'ssp':4, 'ensemble':2, 'time':43, 'lat':60, 'lon':144})"
   ]
  },
  {
   "cell_type": "code",
   "execution_count": 14,
   "id": "847c5430-e405-4c87-9e69-4da3495a580b",
   "metadata": {},
   "outputs": [
    {
     "name": "stdout",
     "output_type": "stream",
     "text": [
      "CPU times: user 2min 54s, sys: 16.5 s, total: 3min 10s\n",
      "Wall time: 6min 34s\n"
     ]
    }
   ],
   "source": [
    "%%time\n",
    "# HS09 method\n",
    "ds_out = uc_hs09(ds)\n",
    "ds_out.to_netcdf(out + 'cmip6/annual_maxs_HS09.nc')\n",
    "\n",
    "# # K19\n",
    "# ds_out = uc_k19(ds)\n",
    "# ds_out.to_netcdf(out + 'cmip6/annual_maxs_K19.nc')"
   ]
  },
  {
   "cell_type": "code",
   "execution_count": 15,
   "id": "04b60571-a7b4-42a3-9c9a-7e9dc9d55d0a",
   "metadata": {},
   "outputs": [],
   "source": [
    "# clear\n",
    "client.cancel(ds)"
   ]
  },
  {
   "cell_type": "markdown",
   "id": "e4ddf1c6-8bfe-4ab5-b1a3-e865e0dab86a",
   "metadata": {
    "jp-MarkdownHeadingCollapsed": true,
    "tags": []
   },
   "source": [
    "## Annual mins"
   ]
  },
  {
   "cell_type": "code",
   "execution_count": 14,
   "id": "3088145f-f09f-401a-8988-d2743243ecba",
   "metadata": {},
   "outputs": [],
   "source": [
    "# Read\n",
    "ds = read_all(nex_in, cil_in, 'annual_mins')\n",
    "\n",
    "# Persist for faster computation\n",
    "ds = ds.persist()\n",
    "\n",
    "# rechunk for SA calculations which involve acting along model, spp, ensemble dimensions\n",
    "ds = ds.chunk({'model':13, 'ssp':4, 'ensemble':2, 'time':43, 'lat':60, 'lon':144})"
   ]
  },
  {
   "cell_type": "code",
   "execution_count": 16,
   "id": "3c4f2b97-1e7c-4a0e-b26e-7d206dedaf30",
   "metadata": {},
   "outputs": [
    {
     "name": "stdout",
     "output_type": "stream",
     "text": [
      "CPU times: user 1min 30s, sys: 7.32 s, total: 1min 37s\n",
      "Wall time: 3min 14s\n"
     ]
    }
   ],
   "source": [
    "%%time\n",
    "# HS09 method\n",
    "ds_out = uc_hs09(ds)\n",
    "ds_out.to_netcdf(out + 'cmip6/annual_mins_HS09.nc')\n",
    "\n",
    "# # K19\n",
    "# ds_out = uc_k19(ds)\n",
    "# ds_out.to_netcdf(out + 'cmip6/annual_mins_K19.nc')"
   ]
  },
  {
   "cell_type": "code",
   "execution_count": 17,
   "id": "179e8785-ccc8-43b6-9fea-7848b4b028f8",
   "metadata": {},
   "outputs": [],
   "source": [
    "# clear\n",
    "client.cancel(ds)"
   ]
  },
  {
   "cell_type": "markdown",
   "id": "f7663b8e-772c-4a5b-bae0-ea1930566de8",
   "metadata": {
    "tags": []
   },
   "source": [
    "## Precip inds"
   ]
  },
  {
   "cell_type": "code",
   "execution_count": 40,
   "id": "3ea9daab-3968-4bdc-a807-a95d696f74b8",
   "metadata": {},
   "outputs": [],
   "source": [
    "# Read\n",
    "ds = read_all(nex_in, cil_in, 'precip_inds')\n",
    "\n",
    "# Persist for faster computation\n",
    "ds = ds.persist()\n",
    "\n",
    "# rechunk for SA calculations which involve acting along model, spp, ensemble dimensions\n",
    "ds = ds.chunk({'model':13, 'ssp':4, 'ensemble':2, 'time':43, 'lat':60, 'lon':144})"
   ]
  },
  {
   "cell_type": "code",
   "execution_count": 41,
   "id": "595aa686-9d0f-4d83-8f9c-167cdbc6f29c",
   "metadata": {},
   "outputs": [
    {
     "name": "stdout",
     "output_type": "stream",
     "text": [
      "CPU times: user 2min 43s, sys: 18.8 s, total: 3min 2s\n",
      "Wall time: 7min 16s\n"
     ]
    }
   ],
   "source": [
    "%%time\n",
    "# HS09 method\n",
    "ds_out = uc_hs09(ds)\n",
    "ds_out.to_netcdf(out + 'cmip6/precip_inds_HS09.nc')\n",
    "\n",
    "# # K19\n",
    "# ds_out = uc_k19(ds)\n",
    "# ds_out.to_netcdf(out + 'cmip6/precip_inds_K19.nc')"
   ]
  },
  {
   "cell_type": "code",
   "execution_count": 42,
   "id": "559edd35-0b4a-478a-b822-a87373c1e4cb",
   "metadata": {},
   "outputs": [],
   "source": [
    "# clear\n",
    "client.cancel(ds)"
   ]
  },
  {
   "cell_type": "markdown",
   "id": "f4837bf6-82fc-48f7-876d-db0e9fa3fd77",
   "metadata": {},
   "source": [
    "# Including interannual variability"
   ]
  },
  {
   "cell_type": "markdown",
   "id": "3f2a15c7-7b8c-4005-8855-a771f4649fc3",
   "metadata": {
    "tags": []
   },
   "source": [
    "## Annual averages"
   ]
  },
  {
   "cell_type": "code",
   "execution_count": 11,
   "id": "63477ced-67d2-46d6-9d8f-79f7267376d2",
   "metadata": {},
   "outputs": [],
   "source": [
    "# Read\n",
    "ds = read_all(nex_in, cil_in, 'annual_avgs')\n",
    "\n",
    "# Persist for faster computation\n",
    "ds = ds.persist()\n",
    "ds_rolling = ds.rolling(time=10, center=True).mean().sel(time=slice(2020,2096)).persist()\n",
    "\n",
    "# rechunk for SA calculations which involve acting along model, spp, ensemble dimensions\n",
    "ds = ds.chunk({'model':13, 'ssp':4, 'ensemble':2, 'time':43, 'lat':60, 'lon':144})\n",
    "ds_rolling = ds_rolling.chunk({'model':13, 'ssp':4, 'ensemble':2, 'time':43, 'lat':60, 'lon':144})"
   ]
  },
  {
   "cell_type": "code",
   "execution_count": 12,
   "id": "bde4a420-91ee-4e89-a38a-17e1bfed5a43",
   "metadata": {},
   "outputs": [
    {
     "name": "stdout",
     "output_type": "stream",
     "text": [
      "CPU times: user 4min 41s, sys: 28.8 s, total: 5min 10s\n",
      "Wall time: 10min 32s\n"
     ]
    }
   ],
   "source": [
    "%%time\n",
    "# HS09 method\n",
    "ds_out = uc_hs09_iav(ds, ds_rolling)\n",
    "ds_out.to_netcdf(out + 'cmip6/annual_avgs_HS09_iav.nc')"
   ]
  },
  {
   "cell_type": "code",
   "execution_count": null,
   "id": "e6b9ff38-dc4c-423c-a07b-9f6ee9f66bff",
   "metadata": {},
   "outputs": [],
   "source": [
    "# clear\n",
    "client.cancel(ds)\n",
    "client.cancel(ds_rolling)"
   ]
  },
  {
   "cell_type": "markdown",
   "id": "175dd321-2169-466e-8cef-ed20d0ede997",
   "metadata": {
    "tags": []
   },
   "source": [
    "## Annual maxs"
   ]
  },
  {
   "cell_type": "code",
   "execution_count": 14,
   "id": "90979c81-16e7-4a77-a93e-39b8db76f0f3",
   "metadata": {},
   "outputs": [],
   "source": [
    "# Read\n",
    "ds = read_all(nex_in, cil_in, 'annual_maxs')\n",
    "\n",
    "# Persist for faster computation\n",
    "ds = ds.persist()\n",
    "ds_rolling = ds.rolling(time=10, center=True).mean().sel(time=slice(2020,2096)).persist()\n",
    "\n",
    "# rechunk for SA calculations which involve acting along model, spp, ensemble dimensions\n",
    "ds = ds.chunk({'model':13, 'ssp':4, 'ensemble':2, 'time':43, 'lat':60, 'lon':144})\n",
    "ds_rolling = ds_rolling.chunk({'model':13, 'ssp':4, 'ensemble':2, 'time':43, 'lat':60, 'lon':144})"
   ]
  },
  {
   "cell_type": "code",
   "execution_count": null,
   "id": "f8eb0cc9-1abc-47ca-ac79-765147cd4dd8",
   "metadata": {},
   "outputs": [],
   "source": [
    "%%time\n",
    "# HS09 method\n",
    "ds_out = uc_hs09_iav(ds, ds_rolling)\n",
    "ds_out.to_netcdf(out + 'cmip6/annual_maxs_HS09_iav.nc')"
   ]
  },
  {
   "cell_type": "code",
   "execution_count": null,
   "id": "96807cf8-9a9a-4f35-a23e-4ceacba49324",
   "metadata": {},
   "outputs": [],
   "source": [
    "# clear\n",
    "client.cancel(ds)\n",
    "client.cancel(ds_rolling)"
   ]
  },
  {
   "cell_type": "markdown",
   "id": "b0f8759d-bee9-4348-8bf3-5341dda052dc",
   "metadata": {
    "tags": []
   },
   "source": [
    "## Annual mins"
   ]
  },
  {
   "cell_type": "code",
   "execution_count": null,
   "id": "6528060a-aa97-4ae6-b742-30d84cf4a6c3",
   "metadata": {},
   "outputs": [],
   "source": [
    "# Read\n",
    "ds = read_all(nex_in, cil_in, 'annual_mins')\n",
    "\n",
    "# Persist for faster computation\n",
    "ds = ds.persist()\n",
    "\n",
    "# rechunk for SA calculations which involve acting along model, spp, ensemble dimensions\n",
    "ds = ds.chunk({'model':13, 'ssp':4, 'ensemble':2, 'time':43, 'lat':60, 'lon':144})"
   ]
  },
  {
   "cell_type": "code",
   "execution_count": null,
   "id": "a55807d6-6178-4ebf-9cf0-ae9898ff4d5e",
   "metadata": {},
   "outputs": [],
   "source": [
    "%%time\n",
    "# HS09 method\n",
    "ds_out = uc_hs09_iav(ds)\n",
    "ds_out.to_netcdf(out + 'cmip6/annual_mins_HS09_iav.nc')"
   ]
  },
  {
   "cell_type": "code",
   "execution_count": null,
   "id": "0ab96541-93d9-4392-b3c4-130562295d93",
   "metadata": {},
   "outputs": [],
   "source": [
    "# clear\n",
    "client.cancel(ds)"
   ]
  },
  {
   "cell_type": "markdown",
   "id": "cf38f3e3-bc6c-48a7-bcc2-f9ddc735efd1",
   "metadata": {
    "tags": []
   },
   "source": [
    "## Precip inds"
   ]
  },
  {
   "cell_type": "code",
   "execution_count": 18,
   "id": "2b6b3060-99ea-450b-9bc7-c93175cf8372",
   "metadata": {},
   "outputs": [],
   "source": [
    "# Read\n",
    "ds = read_all(nex_in, cil_in, 'precip_inds')\n",
    "\n",
    "# Persist for faster computation\n",
    "ds = ds.persist()\n",
    "\n",
    "# rechunk for SA calculations which involve acting along model, spp, ensemble dimensions\n",
    "ds = ds.chunk({'model':13, 'ssp':4, 'ensemble':2, 'time':43, 'lat':60, 'lon':144})"
   ]
  },
  {
   "cell_type": "code",
   "execution_count": null,
   "id": "fb83e5cf-d4ec-44fe-b070-770a9065722e",
   "metadata": {},
   "outputs": [],
   "source": [
    "%%time\n",
    "# HS09 method\n",
    "ds_out = uc_hs09_iav(ds)\n",
    "ds_out.to_netcdf(out + 'cmip6/precip_inds_HS09_iav.nc')\n",
    "\n",
    "# # K19\n",
    "# ds_out = uc_k19(ds)\n",
    "# ds_out.to_netcdf(out + 'cmip6/precip_inds_K19.nc')"
   ]
  },
  {
   "cell_type": "code",
   "execution_count": null,
   "id": "044571ea-bf83-4126-b8fa-6fb953258ae0",
   "metadata": {},
   "outputs": [],
   "source": [
    "# clear\n",
    "client.cancel(ds)"
   ]
  },
  {
   "cell_type": "code",
   "execution_count": null,
   "id": "73118140-bdf9-43d1-a743-7f5c4716cefd",
   "metadata": {},
   "outputs": [],
   "source": []
  }
 ],
 "metadata": {
  "kernelspec": {
   "display_name": "Python 3 (ipykernel)",
   "language": "python",
   "name": "python3"
  },
  "language_info": {
   "codemirror_mode": {
    "name": "ipython",
    "version": 3
   },
   "file_extension": ".py",
   "mimetype": "text/x-python",
   "name": "python",
   "nbconvert_exporter": "python",
   "pygments_lexer": "ipython3",
   "version": "3.10.6"
  }
 },
 "nbformat": 4,
 "nbformat_minor": 5
}
