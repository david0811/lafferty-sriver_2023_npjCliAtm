{
 "cells": [
  {
   "cell_type": "code",
   "execution_count": 2,
   "id": "073b375c-8b95-40bf-b7f9-d30ece79ad01",
   "metadata": {},
   "outputs": [],
   "source": [
    "import numpy as np\n",
    "import xarray as xr\n",
    "import dask\n",
    "import xesmf as xe\n",
    "import os\n",
    "from glob import glob"
   ]
  },
  {
   "cell_type": "markdown",
   "id": "a3ff3f4c-fc69-4f30-9386-60a9438ffeb9",
   "metadata": {},
   "source": [
    "### Preliminaries"
   ]
  },
  {
   "cell_type": "code",
   "execution_count": 2,
   "id": "d589d47f-4710-4e2f-89aa-e397f5cf3a45",
   "metadata": {},
   "outputs": [],
   "source": [
    "###############################\n",
    "# Set paths\n",
    "# UPDATE THIS FOR REPRODUCTION\n",
    "###############################\n",
    "in_path = '/gpfs/group/kaf26/default/rls66/GMFD_25/'"
   ]
  },
  {
   "cell_type": "code",
   "execution_count": 3,
   "id": "1d6fede0-8739-42a0-93c4-a291c4e10679",
   "metadata": {},
   "outputs": [
    {
     "data": {
      "text/html": [
       "<div>\n",
       "    <div style=\"width: 24px; height: 24px; background-color: #e1e1e1; border: 3px solid #9D9D9D; border-radius: 5px; position: absolute;\"> </div>\n",
       "    <div style=\"margin-left: 48px;\">\n",
       "        <h3 style=\"margin-bottom: 0px;\">Client</h3>\n",
       "        <p style=\"color: #9D9D9D; margin-bottom: 0px;\">Client-380f4308-5ef0-11ed-93ed-34e6d79eac50</p>\n",
       "        <table style=\"width: 100%; text-align: left;\">\n",
       "\n",
       "        <tr>\n",
       "        \n",
       "            <td style=\"text-align: left;\"><strong>Connection method:</strong> Cluster object</td>\n",
       "            <td style=\"text-align: left;\"><strong>Cluster type:</strong> dask_jobqueue.PBSCluster</td>\n",
       "        \n",
       "        </tr>\n",
       "\n",
       "        \n",
       "            <tr>\n",
       "                <td style=\"text-align: left;\">\n",
       "                    <strong>Dashboard: </strong> <a href=\"/proxy/8787/status\" target=\"_blank\">/proxy/8787/status</a>\n",
       "                </td>\n",
       "                <td style=\"text-align: left;\"></td>\n",
       "            </tr>\n",
       "        \n",
       "\n",
       "        </table>\n",
       "\n",
       "        \n",
       "            <details>\n",
       "            <summary style=\"margin-bottom: 20px;\"><h3 style=\"display: inline;\">Cluster Info</h3></summary>\n",
       "            <div class=\"jp-RenderedHTMLCommon jp-RenderedHTML jp-mod-trusted jp-OutputArea-output\">\n",
       "    <div style=\"width: 24px; height: 24px; background-color: #e1e1e1; border: 3px solid #9D9D9D; border-radius: 5px; position: absolute;\">\n",
       "    </div>\n",
       "    <div style=\"margin-left: 48px;\">\n",
       "        <h3 style=\"margin-bottom: 0px; margin-top: 0px;\">PBSCluster</h3>\n",
       "        <p style=\"color: #9D9D9D; margin-bottom: 0px;\">06ece5f3</p>\n",
       "        <table style=\"width: 100%; text-align: left;\">\n",
       "            <tr>\n",
       "                <td style=\"text-align: left;\">\n",
       "                    <strong>Dashboard:</strong> <a href=\"/proxy/8787/status\" target=\"_blank\">/proxy/8787/status</a>\n",
       "                </td>\n",
       "                <td style=\"text-align: left;\">\n",
       "                    <strong>Workers:</strong> 0\n",
       "                </td>\n",
       "            </tr>\n",
       "            <tr>\n",
       "                <td style=\"text-align: left;\">\n",
       "                    <strong>Total threads:</strong> 0\n",
       "                </td>\n",
       "                <td style=\"text-align: left;\">\n",
       "                    <strong>Total memory:</strong> 0 B\n",
       "                </td>\n",
       "            </tr>\n",
       "            \n",
       "        </table>\n",
       "\n",
       "        <details>\n",
       "            <summary style=\"margin-bottom: 20px;\">\n",
       "                <h3 style=\"display: inline;\">Scheduler Info</h3>\n",
       "            </summary>\n",
       "\n",
       "            <div style=\"\">\n",
       "    <div>\n",
       "        <div style=\"width: 24px; height: 24px; background-color: #FFF7E5; border: 3px solid #FF6132; border-radius: 5px; position: absolute;\"> </div>\n",
       "        <div style=\"margin-left: 48px;\">\n",
       "            <h3 style=\"margin-bottom: 0px;\">Scheduler</h3>\n",
       "            <p style=\"color: #9D9D9D; margin-bottom: 0px;\">Scheduler-2a272537-2d4a-4d12-bdf5-ec1267ac67f2</p>\n",
       "            <table style=\"width: 100%; text-align: left;\">\n",
       "                <tr>\n",
       "                    <td style=\"text-align: left;\">\n",
       "                        <strong>Comm:</strong> tcp://10.102.201.236:39144\n",
       "                    </td>\n",
       "                    <td style=\"text-align: left;\">\n",
       "                        <strong>Workers:</strong> 0\n",
       "                    </td>\n",
       "                </tr>\n",
       "                <tr>\n",
       "                    <td style=\"text-align: left;\">\n",
       "                        <strong>Dashboard:</strong> <a href=\"/proxy/8787/status\" target=\"_blank\">/proxy/8787/status</a>\n",
       "                    </td>\n",
       "                    <td style=\"text-align: left;\">\n",
       "                        <strong>Total threads:</strong> 0\n",
       "                    </td>\n",
       "                </tr>\n",
       "                <tr>\n",
       "                    <td style=\"text-align: left;\">\n",
       "                        <strong>Started:</strong> Just now\n",
       "                    </td>\n",
       "                    <td style=\"text-align: left;\">\n",
       "                        <strong>Total memory:</strong> 0 B\n",
       "                    </td>\n",
       "                </tr>\n",
       "            </table>\n",
       "        </div>\n",
       "    </div>\n",
       "\n",
       "    <details style=\"margin-left: 48px;\">\n",
       "        <summary style=\"margin-bottom: 20px;\">\n",
       "            <h3 style=\"display: inline;\">Workers</h3>\n",
       "        </summary>\n",
       "\n",
       "        \n",
       "\n",
       "    </details>\n",
       "</div>\n",
       "\n",
       "        </details>\n",
       "    </div>\n",
       "</div>\n",
       "            </details>\n",
       "        \n",
       "\n",
       "    </div>\n",
       "</div>"
      ],
      "text/plain": [
       "<Client: 'tcp://10.102.201.236:39144' processes=0 threads=0, memory=0 B>"
      ]
     },
     "execution_count": 3,
     "metadata": {},
     "output_type": "execute_result"
    }
   ],
   "source": [
    "############\n",
    "# Dask\n",
    "############\n",
    "from dask_jobqueue import PBSCluster\n",
    "cluster = PBSCluster(cores=1, resource_spec = 'pmem=15GB', memory='15GB',\n",
    "                     worker_extra_args= ['#PBS -l feature=rhel7'], walltime = '00:10:00')\n",
    "\n",
    "cluster.scale(jobs=20)  # ask for jobs\n",
    "\n",
    "from dask.distributed import Client\n",
    "client = Client(cluster)\n",
    "\n",
    "client"
   ]
  },
  {
   "cell_type": "markdown",
   "id": "ab342c0d-7864-4043-ae2f-1b2d1ca6ef5f",
   "metadata": {
    "tags": []
   },
   "source": [
    "# Quantile calculation"
   ]
  },
  {
   "cell_type": "markdown",
   "id": "9eeb641f-9f1a-4abe-9bd9-e6865e75315a",
   "metadata": {
    "tags": []
   },
   "source": [
    "## Temperature"
   ]
  },
  {
   "cell_type": "code",
   "execution_count": 4,
   "id": "a450e941-1bf1-43f4-b28d-bd8ff6ec0056",
   "metadata": {},
   "outputs": [],
   "source": [
    "# Read all\n",
    "ds_tmin = xr.open_mfdataset(in_path + 'tmin_daily_*', parallel=True, chunks='auto')\n",
    "ds_tmax = xr.open_mfdataset(in_path + 'tmax_daily_*', parallel=True, chunks='auto')\n",
    "\n",
    "# Select time period\n",
    "ds_tmin = ds_tmin.sel(time=slice('1980-01-01','2014-12-31'))\n",
    "ds_tmax = ds_tmax.sel(time=slice('1980-01-01','2014-12-31'))\n",
    "\n",
    "# Get tasavg\n",
    "ds_tas = (ds_tmin['tmin'] + ds_tmax['tmax']) / 2."
   ]
  },
  {
   "cell_type": "code",
   "execution_count": 5,
   "id": "1f9b56cd-480c-47af-b34b-113e69998b8b",
   "metadata": {},
   "outputs": [],
   "source": [
    "# Merge\n",
    "ds = xr.merge([xr.Dataset({'tas':ds_tas}), ds_tmin, ds_tmax])"
   ]
  },
  {
   "cell_type": "code",
   "execution_count": 6,
   "id": "c2069de2-989a-4722-bb9d-7c48b7534210",
   "metadata": {},
   "outputs": [
    {
     "name": "stdout",
     "output_type": "stream",
     "text": [
      "CPU times: user 5min 30s, sys: 13.2 s, total: 5min 43s\n",
      "Wall time: 12min 30s\n"
     ]
    }
   ],
   "source": [
    "%%time\n",
    "# rechunk for quantile calculations\n",
    "ds = ds.chunk({'time':-1, 'lat':50, 'lon':50})\n",
    "\n",
    "# Get 99.95th, 99.97th, 99.99th quantiles\n",
    "ds_rp5 = ds.quantile(q=0.9995, dim='time').compute() # approx 1-in-5 year event\n",
    "ds_rp10 = ds.quantile(q=0.9997, dim='time').compute() # approx 1-in-10 year event\n",
    "ds_rp20 = ds.quantile(q=0.9999, dim='time').compute() # approx 1-in-20 year event"
   ]
  },
  {
   "cell_type": "code",
   "execution_count": 8,
   "id": "2e690175-7a8e-473f-8c21-c1bba67fa6f2",
   "metadata": {},
   "outputs": [],
   "source": [
    "# Merge and store\n",
    "ds_out = xr.merge([ds_rp5.drop('quantile').rename({'tas':'tas_rp5',\n",
    "                                                   'tmax':'tasmax_rp5',\n",
    "                                                   'tmin':'tasmin_rp5'}),\n",
    "                   ds_rp10.drop('quantile').rename({'tas':'tas_rp10',\n",
    "                                                   'tmax':'tasmax_rp10',\n",
    "                                                   'tmin':'tasmin_rp10'}),\n",
    "                   ds_rp20.drop('quantile').rename({'tas':'tas_rp20',\n",
    "                                                    'tmax':'tasmax_rp20',\n",
    "                                                    'tmin':'tasmin_rp20'})])\n",
    "\n",
    "ds_out -= 273.15 # K -> C\n",
    "\n",
    "ds_out['lon'] = np.where(ds_out['lon'] > 180, ds_out['lon'] - 360, ds_out['lon']) # update lon\n",
    "ds_out = ds_out.sortby('lon')\n",
    "\n",
    "ds_out.to_netcdf('../data/gmfd_temperature_quantiles.nc')"
   ]
  },
  {
   "cell_type": "markdown",
   "id": "347e140e-8d9e-4655-a8ee-b2616630b8d7",
   "metadata": {
    "tags": []
   },
   "source": [
    "## Precipitation"
   ]
  },
  {
   "cell_type": "code",
   "execution_count": 4,
   "id": "bef708fe-3261-408a-a67e-c63e4097bee2",
   "metadata": {},
   "outputs": [],
   "source": [
    "# Read \n",
    "ds = xr.open_mfdataset(in_path + 'prcp_daily_*', parallel=True, chunks='auto')\n",
    "\n",
    "# Select time period\n",
    "ds = ds.sel(time=slice('1980-01-01','2014-12-31'))"
   ]
  },
  {
   "cell_type": "code",
   "execution_count": 5,
   "id": "978944fa-c47a-4f92-b887-2a6f47bd23ca",
   "metadata": {},
   "outputs": [
    {
     "name": "stdout",
     "output_type": "stream",
     "text": [
      "CPU times: user 1min 56s, sys: 4.56 s, total: 2min 1s\n",
      "Wall time: 4min 32s\n"
     ]
    }
   ],
   "source": [
    "%%time\n",
    "# rechunk for quantile calculations\n",
    "ds = ds.chunk({'time':-1, 'lat':50, 'lon':50})\n",
    "\n",
    "# Get 99.95th, 99.97th, 99.99th quantiles (wet days only: >1mm)\n",
    "ds_rp5 = ds.where(ds.prcp > 1./86400).quantile(q=0.9995, dim='time').compute() # approx 1-in-5 year event\n",
    "ds_rp10 = ds.where(ds.prcp > 1./86400).quantile(q=0.9997, dim='time').compute() # approx 1-in-10 year event\n",
    "ds_rp20 = ds.where(ds.prcp > 1./86400).quantile(q=0.9999, dim='time').compute() # approx 1-in-20 year event"
   ]
  },
  {
   "cell_type": "code",
   "execution_count": 6,
   "id": "72deb9b1-3eab-454c-8f41-e02860994647",
   "metadata": {},
   "outputs": [],
   "source": [
    "# Merge and store\n",
    "ds_out = xr.merge([ds_rp5.drop('quantile').rename({'prcp':'pr_rp5'}),\n",
    "                   ds_rp10.drop('quantile').rename({'prcp':'pr_rp10'}),\n",
    "                   ds_rp20.drop('quantile').rename({'prcp':'pr_rp20'})])\n",
    "\n",
    "ds_out *= 86400\n",
    "ds_out.to_netcdf('../data/gmfd_precip_quantiles.nc')"
   ]
  },
  {
   "cell_type": "markdown",
   "id": "c451ab51-70cd-4df1-9f1b-c2cf05f6205b",
   "metadata": {},
   "source": [
    "# Regridding"
   ]
  },
  {
   "cell_type": "markdown",
   "id": "e9306c59-2d07-4c85-89c5-e8aeaf9dbba9",
   "metadata": {},
   "source": [
    "## NEX-GDDP and CIL grid"
   ]
  },
  {
   "cell_type": "code",
   "execution_count": 3,
   "id": "2f32a61e-9465-46a2-b842-fa01c893a00a",
   "metadata": {},
   "outputs": [],
   "source": [
    "# NEX-GDDP out grid (same as CIL)\n",
    "in_path = '/gpfs/group/kaf26/default/public/NEX-GDDP-CMIP6/models/'\n",
    "\n",
    "out_grid = xr.open_dataset(in_path + 'ACCESS-CM2/ssp126/hurs/hurs_day_ACCESS-CM2_ssp126_r1i1p1f1_gn_2015.nc')\n",
    "\n",
    "out_grid = xr.Dataset({'lat': out_grid.lat,\n",
    "                       'lon': out_grid.lon})"
   ]
  },
  {
   "cell_type": "code",
   "execution_count": 4,
   "id": "a0777994-6c9c-4d3a-bacb-e21058758131",
   "metadata": {},
   "outputs": [],
   "source": [
    "# Read native grid\n",
    "ds_t = xr.open_dataset('../data/gmfd_temperature_quantiles.nc')\n",
    "ds_pr = xr.open_dataset('../data/gmfd_precip_quantiles.nc')\n",
    "\n",
    "## xESMF regridder\n",
    "# Conservative\n",
    "cons_regridder = xe.Regridder(ds_t, out_grid, 'conservative', periodic=True)\n",
    "ds_t_cons = cons_regridder(ds_t)\n",
    "\n",
    "cons_regridder = xe.Regridder(ds_pr, out_grid, 'conservative', periodic=True)\n",
    "ds_pr_cons = cons_regridder(ds_pr)\n",
    "    \n",
    "# Store\n",
    "ds_t_cons.to_netcdf('../data/gmfd_temperature_quantiles_nex-cil-deepsd.nc')\n",
    "ds_pr_cons.to_netcdf('../data/gmfd_precip_quantiles_nex-cil-deepsd.nc')"
   ]
  },
  {
   "cell_type": "markdown",
   "id": "f360ff1c-39e5-4133-8ba4-8d3b2aa78506",
   "metadata": {},
   "source": [
    "## ISIMIP grid"
   ]
  },
  {
   "cell_type": "code",
   "execution_count": 5,
   "id": "ea2e5096-2eb8-4df3-aade-d88420dc87ee",
   "metadata": {},
   "outputs": [],
   "source": [
    "# ISIMIP\n",
    "in_path = '/gpfs/group/kaf26/default/dcl5300/ISIMIP3b_input_climate_data/files/'\n",
    "\n",
    "out_grid = xr.open_dataset(in_path + 'canesm5_r1i1p1f1_w5e5_ssp126_pr_global_daily_2015_2020.nc')\n",
    "\n",
    "out_grid = xr.Dataset({'lat': out_grid.lat,\n",
    "                       'lon': out_grid.lon})"
   ]
  },
  {
   "cell_type": "code",
   "execution_count": 6,
   "id": "e3f2d558-9d44-4b2a-9dc0-29b3b36a26cb",
   "metadata": {},
   "outputs": [],
   "source": [
    "# Read native grid\n",
    "ds_t = xr.open_dataset('../data/gmfd_temperature_quantiles.nc')\n",
    "ds_pr = xr.open_dataset('../data/gmfd_precip_quantiles.nc')\n",
    "\n",
    "## xESMF regridder\n",
    "# Conservative\n",
    "cons_regridder = xe.Regridder(ds_t, out_grid, 'conservative', periodic=True)\n",
    "ds_t_cons = cons_regridder(ds_t)\n",
    "\n",
    "cons_regridder = xe.Regridder(ds_pr, out_grid, 'conservative', periodic=True)\n",
    "ds_pr_cons = cons_regridder(ds_pr)\n",
    "    \n",
    "# Store\n",
    "ds_t_cons.to_netcdf('../data/gmfd_temperature_quantiles_isimip.nc')\n",
    "ds_pr_cons.to_netcdf('../data/gmfd_precip_quantiles_isimip.nc')"
   ]
  },
  {
   "cell_type": "markdown",
   "id": "07af86df-5107-4917-8ec4-8348ef0b2219",
   "metadata": {},
   "source": [
    "## GARD-SV (carbonplan) grid"
   ]
  },
  {
   "cell_type": "code",
   "execution_count": 7,
   "id": "ec21fc39-ea7f-4071-a249-adc363c94374",
   "metadata": {},
   "outputs": [],
   "source": [
    "# carbonplan\n",
    "out_grid = xr.Dataset({'lat': np.arange(-90, 90.001, 0.25),\n",
    "                       'lon': np.arange(-180, 180, 0.25)})"
   ]
  },
  {
   "cell_type": "code",
   "execution_count": 8,
   "id": "679aee00-93b2-4a1c-b5f2-3b5f3cc30c08",
   "metadata": {},
   "outputs": [
    {
     "name": "stderr",
     "output_type": "stream",
     "text": [
      "/storage/work/d/dcl5300/ENVS/micromamba/envs/climate-stack-mamba-2022-11/lib/python3.10/site-packages/xesmf/backend.py:53: UserWarning: Latitude is outside of [-90, 90]\n",
      "  warnings.warn('Latitude is outside of [-90, 90]')\n",
      "/storage/work/d/dcl5300/ENVS/micromamba/envs/climate-stack-mamba-2022-11/lib/python3.10/site-packages/xesmf/backend.py:53: UserWarning: Latitude is outside of [-90, 90]\n",
      "  warnings.warn('Latitude is outside of [-90, 90]')\n"
     ]
    }
   ],
   "source": [
    "# Read native grid\n",
    "ds_t = xr.open_dataset('../data/gmfd_temperature_quantiles.nc')\n",
    "ds_pr = xr.open_dataset('../data/gmfd_precip_quantiles.nc')\n",
    "\n",
    "## xESMF regridder\n",
    "# Conservative\n",
    "cons_regridder = xe.Regridder(ds_t, out_grid, 'conservative', periodic=True)\n",
    "ds_t_cons = cons_regridder(ds_t)\n",
    "\n",
    "cons_regridder = xe.Regridder(ds_pr, out_grid, 'conservative', periodic=True)\n",
    "ds_pr_cons = cons_regridder(ds_pr)\n",
    "    \n",
    "# Store\n",
    "ds_t_cons.to_netcdf('../data/gmfd_temperature_quantiles_gardsv.nc')\n",
    "ds_pr_cons.to_netcdf('../data/gmfd_precip_quantiles_gardsv.nc')"
   ]
  },
  {
   "cell_type": "code",
   "execution_count": null,
   "id": "4a77b588-9e1f-49a5-95d7-d55ae9e63128",
   "metadata": {},
   "outputs": [],
   "source": []
  }
 ],
 "metadata": {
  "kernelspec": {
   "display_name": "Python 3 (ipykernel)",
   "language": "python",
   "name": "python3"
  },
  "language_info": {
   "codemirror_mode": {
    "name": "ipython",
    "version": 3
   },
   "file_extension": ".py",
   "mimetype": "text/x-python",
   "name": "python",
   "nbconvert_exporter": "python",
   "pygments_lexer": "ipython3",
   "version": "3.10.6"
  }
 },
 "nbformat": 4,
 "nbformat_minor": 5
}
