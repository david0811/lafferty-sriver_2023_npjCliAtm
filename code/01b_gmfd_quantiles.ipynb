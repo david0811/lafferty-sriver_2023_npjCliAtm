{
 "cells": [
  {
   "cell_type": "code",
   "execution_count": 1,
   "id": "073b375c-8b95-40bf-b7f9-d30ece79ad01",
   "metadata": {},
   "outputs": [],
   "source": [
    "import numpy as np\n",
    "import xarray as xr\n",
    "import dask\n",
    "import os\n",
    "from glob import glob"
   ]
  },
  {
   "cell_type": "markdown",
   "id": "a3ff3f4c-fc69-4f30-9386-60a9438ffeb9",
   "metadata": {},
   "source": [
    "### Preliminaries"
   ]
  },
  {
   "cell_type": "code",
   "execution_count": 2,
   "id": "d589d47f-4710-4e2f-89aa-e397f5cf3a45",
   "metadata": {},
   "outputs": [],
   "source": [
    "###############################\n",
    "# Set paths\n",
    "# UPDATE THIS FOR REPRODUCTION\n",
    "###############################\n",
    "in_path = '/gpfs/group/kaf26/default/rls66/GMFD_25/'"
   ]
  },
  {
   "cell_type": "code",
   "execution_count": 3,
   "id": "1d6fede0-8739-42a0-93c4-a291c4e10679",
   "metadata": {},
   "outputs": [
    {
     "data": {
      "text/html": [
       "<div>\n",
       "    <div style=\"width: 24px; height: 24px; background-color: #e1e1e1; border: 3px solid #9D9D9D; border-radius: 5px; position: absolute;\"> </div>\n",
       "    <div style=\"margin-left: 48px;\">\n",
       "        <h3 style=\"margin-bottom: 0px;\">Client</h3>\n",
       "        <p style=\"color: #9D9D9D; margin-bottom: 0px;\">Client-dc0b6e4f-5ed2-11ed-991b-34e6d79eabe8</p>\n",
       "        <table style=\"width: 100%; text-align: left;\">\n",
       "\n",
       "        <tr>\n",
       "        \n",
       "            <td style=\"text-align: left;\"><strong>Connection method:</strong> Cluster object</td>\n",
       "            <td style=\"text-align: left;\"><strong>Cluster type:</strong> dask_jobqueue.PBSCluster</td>\n",
       "        \n",
       "        </tr>\n",
       "\n",
       "        \n",
       "            <tr>\n",
       "                <td style=\"text-align: left;\">\n",
       "                    <strong>Dashboard: </strong> <a href=\"/proxy/8787/status\" target=\"_blank\">/proxy/8787/status</a>\n",
       "                </td>\n",
       "                <td style=\"text-align: left;\"></td>\n",
       "            </tr>\n",
       "        \n",
       "\n",
       "        </table>\n",
       "\n",
       "        \n",
       "            <details>\n",
       "            <summary style=\"margin-bottom: 20px;\"><h3 style=\"display: inline;\">Cluster Info</h3></summary>\n",
       "            <div class=\"jp-RenderedHTMLCommon jp-RenderedHTML jp-mod-trusted jp-OutputArea-output\">\n",
       "    <div style=\"width: 24px; height: 24px; background-color: #e1e1e1; border: 3px solid #9D9D9D; border-radius: 5px; position: absolute;\">\n",
       "    </div>\n",
       "    <div style=\"margin-left: 48px;\">\n",
       "        <h3 style=\"margin-bottom: 0px; margin-top: 0px;\">PBSCluster</h3>\n",
       "        <p style=\"color: #9D9D9D; margin-bottom: 0px;\">7773b57b</p>\n",
       "        <table style=\"width: 100%; text-align: left;\">\n",
       "            <tr>\n",
       "                <td style=\"text-align: left;\">\n",
       "                    <strong>Dashboard:</strong> <a href=\"/proxy/8787/status\" target=\"_blank\">/proxy/8787/status</a>\n",
       "                </td>\n",
       "                <td style=\"text-align: left;\">\n",
       "                    <strong>Workers:</strong> 0\n",
       "                </td>\n",
       "            </tr>\n",
       "            <tr>\n",
       "                <td style=\"text-align: left;\">\n",
       "                    <strong>Total threads:</strong> 0\n",
       "                </td>\n",
       "                <td style=\"text-align: left;\">\n",
       "                    <strong>Total memory:</strong> 0 B\n",
       "                </td>\n",
       "            </tr>\n",
       "            \n",
       "        </table>\n",
       "\n",
       "        <details>\n",
       "            <summary style=\"margin-bottom: 20px;\">\n",
       "                <h3 style=\"display: inline;\">Scheduler Info</h3>\n",
       "            </summary>\n",
       "\n",
       "            <div style=\"\">\n",
       "    <div>\n",
       "        <div style=\"width: 24px; height: 24px; background-color: #FFF7E5; border: 3px solid #FF6132; border-radius: 5px; position: absolute;\"> </div>\n",
       "        <div style=\"margin-left: 48px;\">\n",
       "            <h3 style=\"margin-bottom: 0px;\">Scheduler</h3>\n",
       "            <p style=\"color: #9D9D9D; margin-bottom: 0px;\">Scheduler-ceaab3c9-bc5b-4303-bbe3-a723212a808b</p>\n",
       "            <table style=\"width: 100%; text-align: left;\">\n",
       "                <tr>\n",
       "                    <td style=\"text-align: left;\">\n",
       "                        <strong>Comm:</strong> tcp://10.102.201.228:45724\n",
       "                    </td>\n",
       "                    <td style=\"text-align: left;\">\n",
       "                        <strong>Workers:</strong> 0\n",
       "                    </td>\n",
       "                </tr>\n",
       "                <tr>\n",
       "                    <td style=\"text-align: left;\">\n",
       "                        <strong>Dashboard:</strong> <a href=\"/proxy/8787/status\" target=\"_blank\">/proxy/8787/status</a>\n",
       "                    </td>\n",
       "                    <td style=\"text-align: left;\">\n",
       "                        <strong>Total threads:</strong> 0\n",
       "                    </td>\n",
       "                </tr>\n",
       "                <tr>\n",
       "                    <td style=\"text-align: left;\">\n",
       "                        <strong>Started:</strong> Just now\n",
       "                    </td>\n",
       "                    <td style=\"text-align: left;\">\n",
       "                        <strong>Total memory:</strong> 0 B\n",
       "                    </td>\n",
       "                </tr>\n",
       "            </table>\n",
       "        </div>\n",
       "    </div>\n",
       "\n",
       "    <details style=\"margin-left: 48px;\">\n",
       "        <summary style=\"margin-bottom: 20px;\">\n",
       "            <h3 style=\"display: inline;\">Workers</h3>\n",
       "        </summary>\n",
       "\n",
       "        \n",
       "\n",
       "    </details>\n",
       "</div>\n",
       "\n",
       "        </details>\n",
       "    </div>\n",
       "</div>\n",
       "            </details>\n",
       "        \n",
       "\n",
       "    </div>\n",
       "</div>"
      ],
      "text/plain": [
       "<Client: 'tcp://10.102.201.228:45724' processes=0 threads=0, memory=0 B>"
      ]
     },
     "execution_count": 3,
     "metadata": {},
     "output_type": "execute_result"
    }
   ],
   "source": [
    "############\n",
    "# Dask\n",
    "############\n",
    "from dask_jobqueue import PBSCluster\n",
    "cluster = PBSCluster(cores=1, resource_spec = 'pmem=15GB', memory='15GB',\n",
    "                     worker_extra_args= ['#PBS -l feature=rhel7'], walltime = '00:20:00')\n",
    "\n",
    "cluster.scale(jobs=20)  # ask for jobs\n",
    "\n",
    "from dask.distributed import Client\n",
    "client = Client(cluster)\n",
    "\n",
    "client"
   ]
  },
  {
   "cell_type": "markdown",
   "id": "9eeb641f-9f1a-4abe-9bd9-e6865e75315a",
   "metadata": {},
   "source": [
    "# Temperature"
   ]
  },
  {
   "cell_type": "code",
   "execution_count": 8,
   "id": "a450e941-1bf1-43f4-b28d-bd8ff6ec0056",
   "metadata": {},
   "outputs": [],
   "source": [
    "# Read all\n",
    "ds_tmin = xr.open_mfdataset(in_path + 'tmin_daily_*', parallel=True, chunks='auto')\n",
    "ds_tmax = xr.open_mfdataset(in_path + 'tmax_daily_*', parallel=True, chunks='auto')\n",
    "\n",
    "# Select time period\n",
    "ds_tmin = ds_tmin.sel(time=slice('1980-01-01','2014-12-31'))\n",
    "ds_tmax = ds_tmax.sel(time=slice('1980-01-01','2014-12-31'))\n",
    "\n",
    "# Get tasavg\n",
    "ds_tas = (ds_tmin['tmin'] + ds_tmax['tmax']) / 2."
   ]
  },
  {
   "cell_type": "code",
   "execution_count": 13,
   "id": "1f9b56cd-480c-47af-b34b-113e69998b8b",
   "metadata": {},
   "outputs": [],
   "source": [
    "# Merge\n",
    "ds = xr.merge([xr.Dataset({'tas':ds_tas}), ds_tmin, ds_tmax])"
   ]
  },
  {
   "cell_type": "code",
   "execution_count": 16,
   "id": "c2069de2-989a-4722-bb9d-7c48b7534210",
   "metadata": {},
   "outputs": [
    {
     "name": "stdout",
     "output_type": "stream",
     "text": [
      "CPU times: user 3min 34s, sys: 7.68 s, total: 3min 42s\n",
      "Wall time: 7min 13s\n"
     ]
    }
   ],
   "source": [
    "%%time\n",
    "# rechunk for quantile calculations\n",
    "ds = ds.chunk({'time':-1, 'lat':50, 'lon':50})\n",
    "\n",
    "# Get 95th, 99th quantiles\n",
    "ds_q95 = ds.quantile(q=0.95, dim='time').compute()\n",
    "ds_q99 = ds.quantile(q=0.99, dim='time').compute()"
   ]
  },
  {
   "cell_type": "code",
   "execution_count": 23,
   "id": "2e690175-7a8e-473f-8c21-c1bba67fa6f2",
   "metadata": {},
   "outputs": [],
   "source": [
    "# Merge and store\n",
    "ds_out = xr.merge([ds_q95.drop('quantile').rename({'tas':'tas_q95',\n",
    "                                                   'tmax':'tasmax_q95',\n",
    "                                                   'tmin':'tasmin_q95'}),\n",
    "                   ds_q99.drop('quantile').rename({'tas':'tas_q99',\n",
    "                                                   'tmax':'tasmax_q99',\n",
    "                                                   'tmin':'tasmin_q99'})])\n",
    "\n",
    "ds_out -= 273.15 # K -> C\n",
    "\n",
    "ds_out['lon'] = np.where(ds_out['lon'] > 180, ds_out['lon'] - 360, ds_out['lon']) # update lon\n",
    "ds_out = ds_out.sortby('lon')\n",
    "\n",
    "ds_out.to_netcdf('../data/gmfd_temperature_quantiles.nc')"
   ]
  },
  {
   "cell_type": "markdown",
   "id": "347e140e-8d9e-4655-a8ee-b2616630b8d7",
   "metadata": {},
   "source": [
    "# Precipitation"
   ]
  },
  {
   "cell_type": "code",
   "execution_count": 4,
   "id": "bef708fe-3261-408a-a67e-c63e4097bee2",
   "metadata": {},
   "outputs": [],
   "source": [
    "# Read \n",
    "ds = xr.open_mfdataset(in_path + 'prcp_daily_*', parallel=True, chunks='auto')\n",
    "\n",
    "# Select time period\n",
    "ds = ds.sel(time=slice('1980-01-01','2014-12-31'))"
   ]
  },
  {
   "cell_type": "code",
   "execution_count": 8,
   "id": "978944fa-c47a-4f92-b887-2a6f47bd23ca",
   "metadata": {},
   "outputs": [
    {
     "name": "stdout",
     "output_type": "stream",
     "text": [
      "CPU times: user 1min 1s, sys: 2.77 s, total: 1min 4s\n",
      "Wall time: 2min 26s\n"
     ]
    }
   ],
   "source": [
    "%%time\n",
    "# rechunk for quantile calculations\n",
    "ds = ds.chunk({'time':-1, 'lat':50, 'lon':50})\n",
    "\n",
    "# Get 95th, 99th quantiles (including dry days)\n",
    "ds_q95_all = ds.quantile(q=0.95, dim='time').compute()\n",
    "ds_q99_all = ds.quantile(q=0.99, dim='time').compute()\n",
    "\n",
    "# Get 95th, 99th quantiles (wet days only: >1mm)\n",
    "ds_q95_wet = ds.where(ds.prcp > 0.001).quantile(q=0.95, dim='time').compute()\n",
    "ds_q99_wet = ds.where(ds.prcp > 0.001).quantile(q=0.99, dim='time').compute()"
   ]
  },
  {
   "cell_type": "code",
   "execution_count": 10,
   "id": "72deb9b1-3eab-454c-8f41-e02860994647",
   "metadata": {},
   "outputs": [],
   "source": [
    "# Merge and store\n",
    "ds_out = xr.merge([ds_q95_all.drop('quantile').rename({'prcp':'pr_q95_all'}),\n",
    "                   ds_q99_all.drop('quantile').rename({'prcp':'pr_q99_all'}),\n",
    "                   ds_q95_wet.drop('quantile').rename({'prcp':'pr_q95_wet'}),\n",
    "                   ds_q99_wet.drop('quantile').rename({'prcp':'pr_q99_wet'})])\n",
    "\n",
    "ds_out *= 86400\n",
    "ds_out.to_netcdf('../data/gmfd_precip_quantiles.nc')"
   ]
  },
  {
   "cell_type": "code",
   "execution_count": null,
   "id": "9259e28a-6980-4ac5-96cd-f303d5ca4d8f",
   "metadata": {},
   "outputs": [],
   "source": []
  }
 ],
 "metadata": {
  "kernelspec": {
   "display_name": "Python 3 (ipykernel)",
   "language": "python",
   "name": "python3"
  },
  "language_info": {
   "codemirror_mode": {
    "name": "ipython",
    "version": 3
   },
   "file_extension": ".py",
   "mimetype": "text/x-python",
   "name": "python",
   "nbconvert_exporter": "python",
   "pygments_lexer": "ipython3",
   "version": "3.10.6"
  }
 },
 "nbformat": 4,
 "nbformat_minor": 5
}
