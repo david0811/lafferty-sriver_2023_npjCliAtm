{
 "cells": [
  {
   "cell_type": "code",
   "execution_count": 1,
   "id": "7d9576c3-7d24-4287-9076-a1816de477ad",
   "metadata": {},
   "outputs": [],
   "source": [
    "###############################################\n",
    "### TO RUN ON MICROSOFT PLANETARY COMPUTER ####\n",
    "###############################################"
   ]
  },
  {
   "cell_type": "markdown",
   "id": "40d806b7-fc18-4a9f-bce6-dbdb1bf8cf2a",
   "metadata": {},
   "source": [
    "### Preliminaries"
   ]
  },
  {
   "cell_type": "code",
   "execution_count": 53,
   "id": "edc656a8-3f0d-4ccc-ba70-554979c08925",
   "metadata": {},
   "outputs": [],
   "source": [
    "import planetary_computer\n",
    "import pystac_client\n",
    "\n",
    "import numpy as np\n",
    "import xarray as xr\n",
    "\n",
    "# import cdsapi\n",
    "from urllib.request import urlopen\n",
    "\n",
    "import getpass\n",
    "import azure.storage.blob\n",
    "import zarr"
   ]
  },
  {
   "cell_type": "code",
   "execution_count": 61,
   "id": "315b1498-3f30-4c32-9939-faa867f8c1c1",
   "metadata": {},
   "outputs": [
    {
     "name": "stdin",
     "output_type": "stream",
     "text": [
      " ········\n"
     ]
    }
   ],
   "source": [
    "######################\n",
    "# Azure blob storage\n",
    "######################\n",
    "# connection string (from azure web login, select your storage account, then \"Access keys\")\n",
    "connection_string = getpass.getpass()\n",
    "\n",
    "    \n",
    "# format storage\n",
    "container_client = azure.storage.blob.ContainerClient.from_connection_string(\n",
    "    connection_string, container_name=\"mpctransfer\")"
   ]
  },
  {
   "cell_type": "code",
   "execution_count": 4,
   "id": "4639dcbd-8322-4be3-96bf-b95d05c2463f",
   "metadata": {},
   "outputs": [],
   "source": [
    "# Historical period = 1980 - 2014\n",
    "years = [str(year) for year in range(1980, 2015)]\n",
    "months = [str(mnth).zfill(2) for mnth in range(1, 13)]\n",
    "\n",
    "make_datetime = lambda year, month: year + '-' + month\n",
    "\n",
    "datetimes = [make_datetime(year, month) for year in years for month in months]"
   ]
  },
  {
   "cell_type": "code",
   "execution_count": 5,
   "id": "47699bb3-81ef-4f13-a6d9-33f841d01a63",
   "metadata": {},
   "outputs": [],
   "source": [
    "# catalog\n",
    "catalog = pystac_client.Client.open(\n",
    "    \"https://planetarycomputer.microsoft.com/api/stac/v1/\"\n",
    ")"
   ]
  },
  {
   "cell_type": "code",
   "execution_count": 54,
   "id": "660b5fd5-3c9a-4405-bdda-3261004b2ca2",
   "metadata": {},
   "outputs": [
    {
     "name": "stdout",
     "output_type": "stream",
     "text": [
      "https://pccompute.westeurope.cloudapp.azure.com/compute/services/dask-gateway/clusters/prod.ec0caac0133a4495be145cd3719a25a4/status\n"
     ]
    }
   ],
   "source": [
    "#########\n",
    "# Dask\n",
    "#########\n",
    "import dask_gateway\n",
    "gateway = dask_gateway.Gateway()\n",
    "\n",
    "# cluster options\n",
    "cluster_options = gateway.cluster_options()\n",
    "cluster_options[\"worker_memory\"] = 20\n",
    "cluster_options[\"worker_cores\"] = 1\n",
    "\n",
    "# start cluster\n",
    "cluster = gateway.new_cluster(cluster_options)\n",
    "client = cluster.get_client()\n",
    "cluster.scale(20)\n",
    "\n",
    "# dashboard link\n",
    "print(cluster.dashboard_link)"
   ]
  },
  {
   "cell_type": "markdown",
   "id": "97f65903-d0f8-43f7-91fd-fa6551d5212a",
   "metadata": {
    "jp-MarkdownHeadingCollapsed": true,
    "tags": []
   },
   "source": [
    "# Step 0: get land mask"
   ]
  },
  {
   "cell_type": "code",
   "execution_count": 5,
   "id": "bfbf6d40-ea07-49d2-812f-d96cf24a2a03",
   "metadata": {},
   "outputs": [],
   "source": [
    "###############################################\n",
    "# Run this once and then restart the kernel,\n",
    "# otherwise there are issues with MPC data\n",
    "###############################################"
   ]
  },
  {
   "cell_type": "code",
   "execution_count": 1,
   "id": "cfe216f8-0495-4ca8-bb16-a09f7dfb7b51",
   "metadata": {},
   "outputs": [],
   "source": [
    "%%bash\n",
    "{\n",
    "  echo 'url: https://cds.climate.copernicus.eu/api/v2'\n",
    "  echo 'key: UID:API_KEY'\n",
    "  echo 'verify: 0'\n",
    "} > ~/.cdsapirc"
   ]
  },
  {
   "cell_type": "code",
   "execution_count": 2,
   "id": "e7b344a5-349f-4b70-b722-b1ed7c760752",
   "metadata": {},
   "outputs": [],
   "source": [
    "%%bash \n",
    "{\n",
    "  echo 'url: https://cds.climate.copernicus.eu/api/v2'\n",
    "  echo 'key: 162352:4e0782ac-d924-4778-9ec9-096acd4dfb06'\n",
    "  echo 'verify: 0'\n",
    "} > ~/.cdsapirc"
   ]
  },
  {
   "cell_type": "code",
   "execution_count": 5,
   "id": "dd5c6894-f13d-447b-9147-3628150789b4",
   "metadata": {
    "collapsed": true,
    "jupyter": {
     "outputs_hidden": true
    },
    "tags": []
   },
   "outputs": [
    {
     "name": "stdout",
     "output_type": "stream",
     "text": [
      "Transaction\n",
      "\n",
      "  Prefix: /srv/conda/envs/notebook\n",
      "\n",
      "  Updating specs:\n",
      "\n",
      "   - cdsapi\n",
      "   - ca-certificates\n",
      "   - certifi\n",
      "   - openssl\n",
      "\n",
      "\n",
      "  Package              Version  Build         Channel                   Size\n",
      "──────────────────────────────────────────────────────────────────────────────\n",
      "  Install:\n",
      "──────────────────────────────────────────────────────────────────────────────\n",
      "\n",
      "  + cdsapi               0.5.1  pyhd8ed1ab_0  conda-forge/noarch        15kB\n",
      "\n",
      "  Upgrade:\n",
      "──────────────────────────────────────────────────────────────────────────────\n",
      "\n",
      "  - ca-certificates  2022.9.14  ha878542_0    installed                     \n",
      "  + ca-certificates  2022.9.24  ha878542_0    conda-forge/linux-64     154kB\n",
      "  - certifi          2022.9.14  pyhd8ed1ab_0  installed                     \n",
      "  + certifi          2022.9.24  pyhd8ed1ab_0  conda-forge/noarch       159kB\n",
      "  - openssl             1.1.1q  h166bdaf_0    installed                     \n",
      "  + openssl             1.1.1s  h166bdaf_0    conda-forge/linux-64       2MB\n",
      "\n",
      "  Summary:\n",
      "\n",
      "  Install: 1 packages\n",
      "  Upgrade: 3 packages\n",
      "\n",
      "  Total download: 3MB\n",
      "\n",
      "──────────────────────────────────────────────────────────────────────────────\n",
      "\n",
      "Confirm changes: [Y/n] \n",
      "                  __    __    __    __\n",
      "                 /  \\  /  \\  /  \\  /  \\\n",
      "                /    \\/    \\/    \\/    \\\n",
      "███████████████/  /██/  /██/  /██/  /████████████████████████\n",
      "              /  / \\   / \\   / \\   / \\  \\____\n",
      "             /  /   \\_/   \\_/   \\_/   \\    o \\__,\n",
      "            / _/                       \\_____/  `\n",
      "            |/\n",
      "        ███╗   ███╗ █████╗ ███╗   ███╗██████╗  █████╗\n",
      "        ████╗ ████║██╔══██╗████╗ ████║██╔══██╗██╔══██╗\n",
      "        ██╔████╔██║███████║██╔████╔██║██████╔╝███████║\n",
      "        ██║╚██╔╝██║██╔══██║██║╚██╔╝██║██╔══██╗██╔══██║\n",
      "        ██║ ╚═╝ ██║██║  ██║██║ ╚═╝ ██║██████╔╝██║  ██║\n",
      "        ╚═╝     ╚═╝╚═╝  ╚═╝╚═╝     ╚═╝╚═════╝ ╚═╝  ╚═╝\n",
      "\n",
      "        mamba (0.22.1) supported by @QuantStack\n",
      "\n",
      "        GitHub:  https://github.com/mamba-org/mamba\n",
      "        Twitter: https://twitter.com/QuantStack\n",
      "\n",
      "█████████████████████████████████████████████████████████████\n",
      "\n",
      "\n",
      "Looking for: ['cdsapi']\n",
      "\n",
      "\n",
      "Pinned packages:\n",
      "  - python 3.10.*\n",
      "\n",
      "\n",
      "Preparing transaction: ...working... done\n",
      "Verifying transaction: ...working... done\n",
      "Executing transaction: ...working... done\n"
     ]
    }
   ],
   "source": [
    "%%bash \n",
    "mamba install cdsapi"
   ]
  },
  {
   "cell_type": "code",
   "execution_count": 6,
   "id": "830f0466-85ee-48ba-83a0-8ffbc6bb6812",
   "metadata": {},
   "outputs": [
    {
     "name": "stderr",
     "output_type": "stream",
     "text": [
      "/srv/conda/envs/notebook/lib/python3.10/site-packages/urllib3/connectionpool.py:1045: InsecureRequestWarning: Unverified HTTPS request is being made to host 'cds.climate.copernicus.eu'. Adding certificate verification is strongly advised. See: https://urllib3.readthedocs.io/en/1.26.x/advanced-usage.html#ssl-warnings\n",
      "  warnings.warn(\n",
      "2022-11-07 16:06:14,739 INFO Welcome to the CDS\n",
      "2022-11-07 16:06:14,740 INFO Sending request to https://cds.climate.copernicus.eu/api/v2/resources/reanalysis-era5-single-levels\n",
      "/srv/conda/envs/notebook/lib/python3.10/site-packages/urllib3/connectionpool.py:1045: InsecureRequestWarning: Unverified HTTPS request is being made to host 'cds.climate.copernicus.eu'. Adding certificate verification is strongly advised. See: https://urllib3.readthedocs.io/en/1.26.x/advanced-usage.html#ssl-warnings\n",
      "  warnings.warn(\n",
      "2022-11-07 16:06:14,859 INFO Request is completed\n",
      "2022-11-07 16:06:16,845 INFO Resource 'XMLSchema.xsd' is already loaded\n"
     ]
    }
   ],
   "source": [
    "# start the client\n",
    "cds = cdsapi.Client() \n",
    "# dataset to read\n",
    "dataset = \"reanalysis-era5-single-levels\" \n",
    "# flag to download data\n",
    "params = {\n",
    "    \"product_type\": \"reanalysis\",\n",
    "    \"variable\": \"land_binary_mask\",\n",
    "    \"format\": \"netcdf\",\n",
    "    \"grid\": [0.25, 0.25],\n",
    "    \"area\": [90, -180, -90, 180],\n",
    "    'year': '1981',\n",
    "    'month': '01',\n",
    "    'day': '01',\n",
    "    'time': '01:00'\n",
    "    }\n",
    "# retrieves the path to the file\n",
    "fl = cds.retrieve(dataset, params)\n",
    "\n",
    "# load into memory\n",
    "with urlopen(fl.location) as f:\n",
    "    ds_mask = xr.open_dataset(f.read())"
   ]
  },
  {
   "cell_type": "code",
   "execution_count": 7,
   "id": "e1fb73ce-035f-491d-8425-f930596dcea4",
   "metadata": {},
   "outputs": [],
   "source": [
    "# conservative land mask: fraction of sea = 0\n",
    "ds_mask = ds_mask.rename({'latitude':'lat', 'longitude':'lon'})\n",
    "ds_mask = ds_mask.isel(time=0).sel(lat = slice(90,-60))\n",
    "ds_mask = ds_mask.lsm > 0"
   ]
  },
  {
   "cell_type": "code",
   "execution_count": 8,
   "id": "42875353-a57e-4713-aac2-0bd68aad2473",
   "metadata": {},
   "outputs": [
    {
     "data": {
      "text/plain": [
       "<matplotlib.collections.QuadMesh at 0x7f6d78f24b50>"
      ]
     },
     "execution_count": 8,
     "metadata": {},
     "output_type": "execute_result"
    },
    {
     "data": {
      "image/png": "[encoded data removed]",
      "text/plain": [
       "<Figure size 640x480 with 2 Axes>"
      ]
     },
     "metadata": {},
     "output_type": "display_data"
    }
   ],
   "source": [
    "ds_mask.plot()"
   ]
  },
  {
   "cell_type": "code",
   "execution_count": 11,
   "id": "b641d43c-0e4b-4a0a-bcf7-b9aeb3b466a1",
   "metadata": {},
   "outputs": [],
   "source": [
    "# store locally\n",
    "ds_mask.to_netcdf('../data/era5_land_mask.nc')"
   ]
  },
  {
   "cell_type": "markdown",
   "id": "62bc1c29-6766-429c-8599-c006b2a11822",
   "metadata": {
    "jp-MarkdownHeadingCollapsed": true,
    "tags": []
   },
   "source": [
    "# Step 1: hourly to daily"
   ]
  },
  {
   "cell_type": "code",
   "execution_count": 7,
   "id": "6613f80e-2d42-4217-a76b-7e41d868d9dd",
   "metadata": {},
   "outputs": [],
   "source": [
    "# read land mask\n",
    "ds_mask = xr.open_dataset('../data/era5_land_mask.nc').lsm"
   ]
  },
  {
   "cell_type": "markdown",
   "id": "ffde8a02-3a86-4494-89f9-82e20b1f0791",
   "metadata": {},
   "source": [
    "## Temperature"
   ]
  },
  {
   "cell_type": "code",
   "execution_count": 8,
   "id": "cf3b842d-d003-4565-a519-ed07ac6686cd",
   "metadata": {},
   "outputs": [
    {
     "name": "stdout",
     "output_type": "stream",
     "text": [
      "CPU times: user 1min, sys: 1.96 s, total: 1min 2s\n",
      "Wall time: 2min 31s\n"
     ]
    }
   ],
   "source": [
    "%%time\n",
    "# Final dataset\n",
    "ds_final = []\n",
    "\n",
    "# Loop through months\n",
    "for datetime in datetimes:\n",
    "    # Search\n",
    "    search = catalog.search(collections=[\"era5-pds\"], \n",
    "                            query={\"era5:kind\": {\"eq\": \"an\"}},\n",
    "                            datetime=datetime)\n",
    "\n",
    "    item = search.get_all_items()[0]\n",
    "    signed_item = planetary_computer.sign(item)\n",
    "    asset = signed_item.assets['air_temperature_at_2_metres']\n",
    "    \n",
    "    # Open file\n",
    "    ds = xr.open_dataset(asset.href, **asset.extra_fields[\"xarray:open_kwargs\"])\n",
    "    \n",
    "    # Update lon to match mask\n",
    "    ds['lon'] = np.where(ds['lon'] > 180, ds['lon'] - 360, ds['lon'])\n",
    "    ds = ds.sortby('lon')\n",
    "    \n",
    "    # Land mask\n",
    "    ds = ds.where(ds_mask)\n",
    "\n",
    "    # Get tasavg, tasmax, tasmin\n",
    "    ds_tmax = ds.resample(time='1D').max().rename({'air_temperature_at_2_metres':'tasmax'})\n",
    "    ds_tmin = ds.resample(time='1D').min().rename({'air_temperature_at_2_metres':'tasmin'})\n",
    "    ds_tas = ds.resample(time='1D').mean().rename({'air_temperature_at_2_metres':'tas'})\n",
    "\n",
    "    # Combine\n",
    "    ds = xr.combine_by_coords([ds_tas, ds_tmax, ds_tmin], join=\"exact\")\n",
    "    \n",
    "    # Append\n",
    "    ds_final.append(ds)\n",
    "\n",
    "# Combine all\n",
    "ds_final = xr.concat(ds_final, dim='time')"
   ]
  },
  {
   "cell_type": "code",
   "execution_count": 9,
   "id": "671c1a3c-143f-4ed5-8c85-ce13c4ac5bc6",
   "metadata": {},
   "outputs": [
    {
     "name": "stdout",
     "output_type": "stream",
     "text": [
      "CPU times: user 3min 16s, sys: 8.82 s, total: 3min 25s\n",
      "Wall time: 23min 26s\n"
     ]
    },
    {
     "data": {
      "text/plain": [
       "<xarray.backends.zarr.ZarrStore at 0x7f23fa01a810>"
      ]
     },
     "execution_count": 9,
     "metadata": {},
     "output_type": "execute_result"
    }
   ],
   "source": [
    "%%time\n",
    "# Write to azure storage\n",
    "ds_final = ds_final.chunk({'time':365, 'lat':180, 'lon':360})\n",
    "    \n",
    "compressor = zarr.Blosc(cname='zstd', clevel=3)\n",
    "encoding = {vname: {'compressor': compressor} for vname in ds_final.data_vars}\n",
    "    \n",
    "azure_prefix = 'era5/temperature'\n",
    "store = zarr.ABSStore(client=container_client, prefix=azure_prefix)\n",
    "\n",
    "# store\n",
    "ds_final.to_zarr(store=store, encoding=encoding, consolidated=True, mode='w')"
   ]
  },
  {
   "cell_type": "markdown",
   "id": "853bddb6-b2e8-484a-9f5f-ab144f649c96",
   "metadata": {},
   "source": [
    "## Precipitation"
   ]
  },
  {
   "cell_type": "code",
   "execution_count": 13,
   "id": "8e121b64-6dff-4155-bef6-ae36694eb2a7",
   "metadata": {},
   "outputs": [
    {
     "name": "stdout",
     "output_type": "stream",
     "text": [
      "CPU times: user 54.7 s, sys: 1.56 s, total: 56.2 s\n",
      "Wall time: 5min 31s\n"
     ]
    }
   ],
   "source": [
    "%%time\n",
    "# Final dataset\n",
    "ds_final = []\n",
    "\n",
    "# Loop through months\n",
    "for datetime in datetimes:\n",
    "    # Search\n",
    "    search = catalog.search(collections=[\"era5-pds\"], \n",
    "                            query={\"era5:kind\": {\"eq\": \"fc\"}},\n",
    "                            datetime=datetime)\n",
    "\n",
    "    item = search.get_all_items()[0]\n",
    "    signed_item = planetary_computer.sign(item)\n",
    "    asset = signed_item.assets['precipitation_amount_1hour_Accumulation']\n",
    "    \n",
    "    # Open file\n",
    "    ds = xr.open_dataset(asset.href, **asset.extra_fields[\"xarray:open_kwargs\"])\n",
    "    \n",
    "    # Update lon to match mask\n",
    "    ds['lon'] = np.where(ds['lon'] > 180, ds['lon'] - 360, ds['lon'])\n",
    "    ds = ds.sortby('lon')\n",
    "    \n",
    "    # Land mask\n",
    "    ds = ds.where(ds_mask)\n",
    "\n",
    "    # Get tasavg, tasmax, tasmin\n",
    "    ds_prcp = ds.resample(time='1D').sum().rename({'precipitation_amount_1hour_Accumulation':'pr'})\n",
    "    \n",
    "    # Append\n",
    "    ds_final.append(ds_prcp)\n",
    "\n",
    "# Combine all\n",
    "ds_final = xr.concat(ds_final, dim='time')"
   ]
  },
  {
   "cell_type": "code",
   "execution_count": 16,
   "id": "4bce3370-860f-41f6-b436-cd185d1feb32",
   "metadata": {},
   "outputs": [
    {
     "name": "stdout",
     "output_type": "stream",
     "text": [
      "CPU times: user 1min 44s, sys: 4.08 s, total: 1min 48s\n",
      "Wall time: 8min 42s\n"
     ]
    },
    {
     "data": {
      "text/plain": [
       "<xarray.backends.zarr.ZarrStore at 0x7f23b0750270>"
      ]
     },
     "execution_count": 16,
     "metadata": {},
     "output_type": "execute_result"
    }
   ],
   "source": [
    "%%time\n",
    "# Write to azure storage\n",
    "ds_final = ds_final.chunk({'time':365, 'lat':180, 'lon':360})\n",
    "    \n",
    "compressor = zarr.Blosc(cname='zstd', clevel=3)\n",
    "encoding = {vname: {'compressor': compressor} for vname in ds_final.data_vars}\n",
    "    \n",
    "azure_prefix = 'era5/precip'\n",
    "store = zarr.ABSStore(client=container_client, prefix=azure_prefix)\n",
    "\n",
    "# store\n",
    "ds_final.to_zarr(store=store, encoding=encoding, consolidated=True, mode='w')"
   ]
  },
  {
   "cell_type": "markdown",
   "id": "9167056b-d8db-4a23-84a1-f5b185190079",
   "metadata": {},
   "source": [
    "# Step 2: quantiles"
   ]
  },
  {
   "cell_type": "markdown",
   "id": "62be57d6-8192-4ae2-8aa9-717723f07648",
   "metadata": {},
   "source": [
    "## Temperature"
   ]
  },
  {
   "cell_type": "code",
   "execution_count": 62,
   "id": "9d2d39f9-6007-4c5a-a351-eece50fb28e9",
   "metadata": {},
   "outputs": [],
   "source": [
    "# Read from zarr\n",
    "azure_prefix = 'era5/temperature'\n",
    "store = zarr.ABSStore(client=container_client, prefix=azure_prefix)\n",
    "\n",
    "# store\n",
    "ds = xr.open_zarr(store=store)"
   ]
  },
  {
   "cell_type": "code",
   "execution_count": 63,
   "id": "6ee17a82-d4cb-40a7-af34-7502369990c7",
   "metadata": {},
   "outputs": [
    {
     "name": "stdout",
     "output_type": "stream",
     "text": [
      "CPU times: user 19.8 s, sys: 652 ms, total: 20.4 s\n",
      "Wall time: 4min 45s\n"
     ]
    }
   ],
   "source": [
    "%%time\n",
    "# rechunk for quantile calculations\n",
    "ds = ds.chunk({'time':-1, 'lat':50, 'lon':50})\n",
    "\n",
    "# Get 99.95th, 99.97th, 99.99th quantiles\n",
    "ds_rp5 = ds.quantile(q=0.9995, dim='time').compute() # approx 1-in-5 year event\n",
    "ds_rp10 = ds.quantile(q=0.9997, dim='time').compute() # approx 1-in-10 year event\n",
    "ds_rp20 = ds.quantile(q=0.9999, dim='time').compute() # approx 1-in-20 year event"
   ]
  },
  {
   "cell_type": "code",
   "execution_count": 64,
   "id": "60b947b6-7965-4141-b1a7-ee2b1928abdd",
   "metadata": {},
   "outputs": [],
   "source": [
    "# Merge and store\n",
    "ds_out = xr.merge([ds_rp5.drop('quantile').rename({'tas':'tas_rp5',\n",
    "                                                   'tasmax':'tasmax_rp5',\n",
    "                                                   'tasmin':'tasmin_rp5'}),\n",
    "                   ds_rp10.drop('quantile').rename({'tas':'tas_rp10',\n",
    "                                                   'tasmax':'tasmax_rp10',\n",
    "                                                   'tasmin':'tasmin_rp10'}),\n",
    "                   ds_rp20.drop('quantile').rename({'tas':'tas_rp20',\n",
    "                                                   'tasmax':'tasmax_rp20',\n",
    "                                                   'tasmin':'tasmin_rp20'})])\n",
    "\n",
    "ds_out -= 273.15 # K -> C\n",
    "ds_out.to_netcdf('../data/era5_temperature_quantiles.nc')"
   ]
  },
  {
   "cell_type": "markdown",
   "id": "d71be8ef-13d1-46e5-9ddb-507816224713",
   "metadata": {},
   "source": [
    "## Precipitation"
   ]
  },
  {
   "cell_type": "code",
   "execution_count": 65,
   "id": "65905e92-8e2c-41c2-9bb7-e77fa557593a",
   "metadata": {},
   "outputs": [],
   "source": [
    "# Read from zarr\n",
    "azure_prefix = 'era5/precip'\n",
    "store = zarr.ABSStore(client=container_client, prefix=azure_prefix)\n",
    "\n",
    "# store\n",
    "ds = xr.open_zarr(store=store)"
   ]
  },
  {
   "cell_type": "code",
   "execution_count": 66,
   "id": "c80a19c8-030b-4bea-8ee0-00a50b6aa4d5",
   "metadata": {},
   "outputs": [
    {
     "name": "stdout",
     "output_type": "stream",
     "text": [
      "CPU times: user 6.72 s, sys: 130 ms, total: 6.85 s\n",
      "Wall time: 1min 44s\n"
     ]
    }
   ],
   "source": [
    "%%time\n",
    "# rechunk for quantile calculations\n",
    "ds = ds.chunk({'time':-1, 'lat':50, 'lon':50})\n",
    "\n",
    "# Get 99.95th, 99.97th, 99.99th quantiles (wet days only: >1mm)\n",
    "ds_rp5 = ds.where(ds.pr > 0.001).quantile(q=0.9995, dim='time').compute() # approx 1-in-5 year event\n",
    "ds_rp10 = ds.where(ds.pr > 0.001).quantile(q=0.9997, dim='time').compute() # approx 1-in-10 year event\n",
    "ds_rp20 = ds.where(ds.pr > 0.001).quantile(q=0.9999, dim='time').compute() # approx 1-in-20 year event"
   ]
  },
  {
   "cell_type": "code",
   "execution_count": 67,
   "id": "a730bcd3-ebc6-4ad7-9226-d62bb61c793a",
   "metadata": {},
   "outputs": [],
   "source": [
    "# Merge and store\n",
    "ds_out = xr.merge([ds_rp5.drop('quantile').rename({'pr':'pr_rp5'}),\n",
    "                   ds_rp10.drop('quantile').rename({'pr':'pr_rp10'}),\n",
    "                   ds_rp20.drop('quantile').rename({'pr':'pr_rp20'})])\n",
    "\n",
    "ds_out *= 1000 # m -> mm\n",
    "ds_out.to_netcdf('../data/era5_precip_quantiles.nc')"
   ]
  },
  {
   "cell_type": "code",
   "execution_count": null,
   "id": "1f34b456-872a-40f8-82c4-d25970285dae",
   "metadata": {},
   "outputs": [],
   "source": []
  }
 ],
 "metadata": {
  "kernelspec": {
   "display_name": "Python [conda env:notebook] *",
   "language": "python",
   "name": "conda-env-notebook-py"
  },
  "language_info": {
   "codemirror_mode": {
    "name": "ipython",
    "version": 3
   },
   "file_extension": ".py",
   "mimetype": "text/x-python",
   "name": "python",
   "nbconvert_exporter": "python",
   "pygments_lexer": "ipython3",
   "version": "3.10.6"
  }
 },
 "nbformat": 4,
 "nbformat_minor": 5
}
