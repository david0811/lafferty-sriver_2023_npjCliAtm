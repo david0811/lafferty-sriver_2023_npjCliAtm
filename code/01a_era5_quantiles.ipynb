{
 "cells": [
  {
   "cell_type": "code",
   "execution_count": null,
   "id": "f3bed12f-dbd1-4e26-8333-3bc8533e7dc9",
   "metadata": {},
   "outputs": [],
   "source": [
    "###############################################\n",
    "### TO RUN ON MICROSOFT PLANETARY COMPUTER ####\n",
    "###############################################"
   ]
  },
  {
   "cell_type": "code",
   "execution_count": 27,
   "id": "856557dd-5887-4d7a-bb36-2e6df1492687",
   "metadata": {},
   "outputs": [],
   "source": [
    "import planetary_computer\n",
    "import pystac_client\n",
    "\n",
    "import numpy as np\n",
    "import xarray as xr\n",
    "\n",
    "import getpass\n",
    "import azure.storage.blob\n",
    "import zarr"
   ]
  },
  {
   "cell_type": "markdown",
   "id": "40d806b7-fc18-4a9f-bce6-dbdb1bf8cf2a",
   "metadata": {},
   "source": [
    "### Preliminaries"
   ]
  },
  {
   "cell_type": "code",
   "execution_count": 45,
   "id": "4639dcbd-8322-4be3-96bf-b95d05c2463f",
   "metadata": {},
   "outputs": [],
   "source": [
    "# Historical period = 1980 - 2014\n",
    "years = [str(year) for year in range(1980, 2015)]\n",
    "months = [str(mnth).zfill(2) for mnth in range(1, 13)]\n",
    "\n",
    "make_datetime = lambda year, month: year + '-' + month\n",
    "\n",
    "datetimes = [make_datetime(year, month) for year in years for month in months]"
   ]
  },
  {
   "cell_type": "code",
   "execution_count": 48,
   "id": "47699bb3-81ef-4f13-a6d9-33f841d01a63",
   "metadata": {},
   "outputs": [],
   "source": [
    "# catalog\n",
    "catalog = pystac_client.Client.open(\n",
    "    \"https://planetarycomputer.microsoft.com/api/stac/v1/\"\n",
    ")"
   ]
  },
  {
   "cell_type": "code",
   "execution_count": 87,
   "id": "af2f767e-f217-45d3-a28a-ec4dcecd0e8a",
   "metadata": {},
   "outputs": [
    {
     "name": "stdout",
     "output_type": "stream",
     "text": [
      "https://pccompute.westeurope.cloudapp.azure.com/compute/services/dask-gateway/clusters/prod.7c4d462a034c43f78b0fc0ce190a6f6f/status\n"
     ]
    }
   ],
   "source": [
    "#########\n",
    "# Dask\n",
    "#########\n",
    "import dask_gateway\n",
    "gateway = dask_gateway.Gateway()\n",
    "\n",
    "# cluster options\n",
    "cluster_options = gateway.cluster_options()\n",
    "cluster_options[\"worker_memory\"] = 16\n",
    "cluster_options[\"worker_cores\"] = 1\n",
    "\n",
    "# start cluster\n",
    "cluster = gateway.new_cluster(cluster_options)\n",
    "client = cluster.get_client()\n",
    "cluster.scale(20)\n",
    "\n",
    "# dashboard link\n",
    "print(cluster.dashboard_link)"
   ]
  },
  {
   "cell_type": "markdown",
   "id": "62bc1c29-6766-429c-8599-c006b2a11822",
   "metadata": {},
   "source": [
    "# Temperature"
   ]
  },
  {
   "cell_type": "code",
   "execution_count": 82,
   "id": "cf3b842d-d003-4565-a519-ed07ac6686cd",
   "metadata": {},
   "outputs": [],
   "source": [
    "# Final dataset\n",
    "ds_final = []\n",
    "\n",
    "# Loop through months\n",
    "for datetime in datetimes:\n",
    "    # Search\n",
    "    search = catalog.search(collections=[\"era5-pds\"], \n",
    "                            query={\"era5:kind\": {\"eq\": \"an\"}},\n",
    "                            datetime=datetime)\n",
    "\n",
    "    item = search.get_all_items()[0]\n",
    "    signed_item = planetary_computer.sign(item)\n",
    "    asset = signed_item.assets['air_temperature_at_2_metres']\n",
    "    \n",
    "    # Open file\n",
    "    ds = xr.open_dataset(asset.href, **asset.extra_fields[\"xarray:open_kwargs\"])\n",
    "\n",
    "    # Get tasavg, tasmax, tasmin\n",
    "    ds_tmax = ds.resample(time='1D').max().rename({'air_temperature_at_2_metres':'tasmax'})\n",
    "    ds_tmin = ds.resample(time='1D').min().rename({'air_temperature_at_2_metres':'tasmin'})\n",
    "    ds_tas = ds.resample(time='1D').mean().rename({'air_temperature_at_2_metres':'tasavg'})\n",
    "\n",
    "    # Combine\n",
    "    ds = xr.combine_by_coords([ds_tas, ds_tmax, ds_tmin], join=\"exact\")\n",
    "    \n",
    "    # Append\n",
    "    ds_final.append(ds)\n",
    "\n",
    "# Combine all\n",
    "ds_final = xr.concat(ds_final, dim='time')"
   ]
  },
  {
   "cell_type": "code",
   "execution_count": 91,
   "id": "68a7f6ed-a138-4e54-822a-301457df7fa1",
   "metadata": {},
   "outputs": [],
   "source": [
    "# rechunk for quantile calculations\n",
    "ds_final = ds_final.chunk({'time':-1, 'lat':50, 'lon':50})"
   ]
  },
  {
   "cell_type": "code",
   "execution_count": null,
   "id": "c80a19c8-030b-4bea-8ee0-00a50b6aa4d5",
   "metadata": {},
   "outputs": [],
   "source": [
    "%%time\n",
    "# Get 95th, 99th quantiles\n",
    "ds_q95 = ds_final.quantile(q=0.95, dim='time').compute()\n",
    "ds_q99 = ds_final.quantile(q=0.95, dim='time').compute()"
   ]
  },
  {
   "cell_type": "code",
   "execution_count": null,
   "id": "717f801c-2008-4687-b6a2-d4672163cb90",
   "metadata": {},
   "outputs": [],
   "source": []
  }
 ],
 "metadata": {
  "kernelspec": {
   "display_name": "Python 3 (ipykernel)",
   "language": "python",
   "name": "python3"
  },
  "language_info": {
   "codemirror_mode": {
    "name": "ipython",
    "version": 3
   },
   "file_extension": ".py",
   "mimetype": "text/x-python",
   "name": "python",
   "nbconvert_exporter": "python",
   "pygments_lexer": "ipython3",
   "version": "3.10.6"
  }
 },
 "nbformat": 4,
 "nbformat_minor": 5
}
